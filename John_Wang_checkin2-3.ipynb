{
  "cells": [
    {
      "cell_type": "markdown",
      "source": [
        "Based on: https://www.tensorflow.org/text/tutorials/classify_text_with_bert\n",
        "Completed tutorial to get familiar with BERT"
      ],
      "metadata": {
        "id": "ya_DA54k_NQP"
      }
    },
    {
      "cell_type": "code",
      "source": [
        "#Data Visualization\n",
        "import pandas as pd\n",
        "\n",
        "#load data\n",
        "resume = pd.read_csv(\"/content/UpdatedResumeDataSet.csv\")\n",
        "\n",
        "#view all of the categories\n",
        "len(resume.iloc[:, 0].unique())\n",
        "#25 categories\n",
        "resume.iloc[:, 0].unique()\n",
        "#note that all of the categories are good, there doesnt need for there to be any\n",
        "#more data marshalling for the categories\n",
        "#this is why I choose this data set\n"
      ],
      "metadata": {
        "colab": {
          "base_uri": "https://localhost:8080/"
        },
        "id": "Uw7Y2Do9ODiw",
        "outputId": "681b3aca-7cef-43ff-b35f-780bbb3725b9"
      },
      "execution_count": null,
      "outputs": [
        {
          "output_type": "execute_result",
          "data": {
            "text/plain": [
              "array(['Data Science', 'HR', 'Advocate', 'Arts', 'Web Designing',\n",
              "       'Mechanical Engineer', 'Sales', 'Health and fitness',\n",
              "       'Civil Engineer', 'Java Developer', 'Business Analyst',\n",
              "       'SAP Developer', 'Automation Testing', 'Electrical Engineering',\n",
              "       'Operations Manager', 'Python Developer', 'DevOps Engineer',\n",
              "       'Network Security Engineer', 'PMO', 'Database', 'Hadoop',\n",
              "       'ETL Developer', 'DotNet Developer', 'Blockchain', 'Testing'],\n",
              "      dtype=object)"
            ]
          },
          "metadata": {},
          "execution_count": 101
        }
      ]
    },
    {
      "cell_type": "code",
      "source": [
        "#view head\n",
        "resume.head()\n",
        "#note all the crappy characters in the resume to be cleaned"
      ],
      "metadata": {
        "colab": {
          "base_uri": "https://localhost:8080/",
          "height": 206
        },
        "id": "AFZVsFohz8jy",
        "outputId": "1fe12989-4503-49b0-cfab-8d85576805ed"
      },
      "execution_count": null,
      "outputs": [
        {
          "output_type": "execute_result",
          "data": {
            "text/plain": [
              "       Category                                             Resume\n",
              "0  Data Science  Skills * Programming Languages: Python (pandas...\n",
              "1  Data Science  Education Details \\r\\nMay 2013 to May 2017 B.E...\n",
              "2  Data Science  Areas of Interest Deep Learning, Control Syste...\n",
              "3  Data Science  Skills â¢ R â¢ Python â¢ SAP HANA â¢ Table...\n",
              "4  Data Science  Education Details \\r\\n MCA   YMCAUST,  Faridab..."
            ],
            "text/html": [
              "\n",
              "  <div id=\"df-88c4dd64-34f9-4a90-8c6f-ddfdeaa9a4a3\">\n",
              "    <div class=\"colab-df-container\">\n",
              "      <div>\n",
              "<style scoped>\n",
              "    .dataframe tbody tr th:only-of-type {\n",
              "        vertical-align: middle;\n",
              "    }\n",
              "\n",
              "    .dataframe tbody tr th {\n",
              "        vertical-align: top;\n",
              "    }\n",
              "\n",
              "    .dataframe thead th {\n",
              "        text-align: right;\n",
              "    }\n",
              "</style>\n",
              "<table border=\"1\" class=\"dataframe\">\n",
              "  <thead>\n",
              "    <tr style=\"text-align: right;\">\n",
              "      <th></th>\n",
              "      <th>Category</th>\n",
              "      <th>Resume</th>\n",
              "    </tr>\n",
              "  </thead>\n",
              "  <tbody>\n",
              "    <tr>\n",
              "      <th>0</th>\n",
              "      <td>Data Science</td>\n",
              "      <td>Skills * Programming Languages: Python (pandas...</td>\n",
              "    </tr>\n",
              "    <tr>\n",
              "      <th>1</th>\n",
              "      <td>Data Science</td>\n",
              "      <td>Education Details \\r\\nMay 2013 to May 2017 B.E...</td>\n",
              "    </tr>\n",
              "    <tr>\n",
              "      <th>2</th>\n",
              "      <td>Data Science</td>\n",
              "      <td>Areas of Interest Deep Learning, Control Syste...</td>\n",
              "    </tr>\n",
              "    <tr>\n",
              "      <th>3</th>\n",
              "      <td>Data Science</td>\n",
              "      <td>Skills â¢ R â¢ Python â¢ SAP HANA â¢ Table...</td>\n",
              "    </tr>\n",
              "    <tr>\n",
              "      <th>4</th>\n",
              "      <td>Data Science</td>\n",
              "      <td>Education Details \\r\\n MCA   YMCAUST,  Faridab...</td>\n",
              "    </tr>\n",
              "  </tbody>\n",
              "</table>\n",
              "</div>\n",
              "      <button class=\"colab-df-convert\" onclick=\"convertToInteractive('df-88c4dd64-34f9-4a90-8c6f-ddfdeaa9a4a3')\"\n",
              "              title=\"Convert this dataframe to an interactive table.\"\n",
              "              style=\"display:none;\">\n",
              "        \n",
              "  <svg xmlns=\"http://www.w3.org/2000/svg\" height=\"24px\"viewBox=\"0 0 24 24\"\n",
              "       width=\"24px\">\n",
              "    <path d=\"M0 0h24v24H0V0z\" fill=\"none\"/>\n",
              "    <path d=\"M18.56 5.44l.94 2.06.94-2.06 2.06-.94-2.06-.94-.94-2.06-.94 2.06-2.06.94zm-11 1L8.5 8.5l.94-2.06 2.06-.94-2.06-.94L8.5 2.5l-.94 2.06-2.06.94zm10 10l.94 2.06.94-2.06 2.06-.94-2.06-.94-.94-2.06-.94 2.06-2.06.94z\"/><path d=\"M17.41 7.96l-1.37-1.37c-.4-.4-.92-.59-1.43-.59-.52 0-1.04.2-1.43.59L10.3 9.45l-7.72 7.72c-.78.78-.78 2.05 0 2.83L4 21.41c.39.39.9.59 1.41.59.51 0 1.02-.2 1.41-.59l7.78-7.78 2.81-2.81c.8-.78.8-2.07 0-2.86zM5.41 20L4 18.59l7.72-7.72 1.47 1.35L5.41 20z\"/>\n",
              "  </svg>\n",
              "      </button>\n",
              "      \n",
              "  <style>\n",
              "    .colab-df-container {\n",
              "      display:flex;\n",
              "      flex-wrap:wrap;\n",
              "      gap: 12px;\n",
              "    }\n",
              "\n",
              "    .colab-df-convert {\n",
              "      background-color: #E8F0FE;\n",
              "      border: none;\n",
              "      border-radius: 50%;\n",
              "      cursor: pointer;\n",
              "      display: none;\n",
              "      fill: #1967D2;\n",
              "      height: 32px;\n",
              "      padding: 0 0 0 0;\n",
              "      width: 32px;\n",
              "    }\n",
              "\n",
              "    .colab-df-convert:hover {\n",
              "      background-color: #E2EBFA;\n",
              "      box-shadow: 0px 1px 2px rgba(60, 64, 67, 0.3), 0px 1px 3px 1px rgba(60, 64, 67, 0.15);\n",
              "      fill: #174EA6;\n",
              "    }\n",
              "\n",
              "    [theme=dark] .colab-df-convert {\n",
              "      background-color: #3B4455;\n",
              "      fill: #D2E3FC;\n",
              "    }\n",
              "\n",
              "    [theme=dark] .colab-df-convert:hover {\n",
              "      background-color: #434B5C;\n",
              "      box-shadow: 0px 1px 3px 1px rgba(0, 0, 0, 0.15);\n",
              "      filter: drop-shadow(0px 1px 2px rgba(0, 0, 0, 0.3));\n",
              "      fill: #FFFFFF;\n",
              "    }\n",
              "  </style>\n",
              "\n",
              "      <script>\n",
              "        const buttonEl =\n",
              "          document.querySelector('#df-88c4dd64-34f9-4a90-8c6f-ddfdeaa9a4a3 button.colab-df-convert');\n",
              "        buttonEl.style.display =\n",
              "          google.colab.kernel.accessAllowed ? 'block' : 'none';\n",
              "\n",
              "        async function convertToInteractive(key) {\n",
              "          const element = document.querySelector('#df-88c4dd64-34f9-4a90-8c6f-ddfdeaa9a4a3');\n",
              "          const dataTable =\n",
              "            await google.colab.kernel.invokeFunction('convertToInteractive',\n",
              "                                                     [key], {});\n",
              "          if (!dataTable) return;\n",
              "\n",
              "          const docLinkHtml = 'Like what you see? Visit the ' +\n",
              "            '<a target=\"_blank\" href=https://colab.research.google.com/notebooks/data_table.ipynb>data table notebook</a>'\n",
              "            + ' to learn more about interactive tables.';\n",
              "          element.innerHTML = '';\n",
              "          dataTable['output_type'] = 'display_data';\n",
              "          await google.colab.output.renderOutput(dataTable, element);\n",
              "          const docLink = document.createElement('div');\n",
              "          docLink.innerHTML = docLinkHtml;\n",
              "          element.appendChild(docLink);\n",
              "        }\n",
              "      </script>\n",
              "    </div>\n",
              "  </div>\n",
              "  "
            ]
          },
          "metadata": {},
          "execution_count": 102
        }
      ]
    },
    {
      "cell_type": "code",
      "source": [
        "#view \n",
        "resume.Category.hist(bins=25)\n",
        "#looks like a pretty even distribution of categories, the minimum number of resumes for 1 particular categories is 20"
      ],
      "metadata": {
        "colab": {
          "base_uri": "https://localhost:8080/",
          "height": 282
        },
        "id": "jej66Esf0dne",
        "outputId": "6c7982e4-9d2e-4a69-c757-399a861aed42"
      },
      "execution_count": null,
      "outputs": [
        {
          "output_type": "execute_result",
          "data": {
            "text/plain": [
              "<matplotlib.axes._subplots.AxesSubplot at 0x7fc5d2ac41d0>"
            ]
          },
          "metadata": {},
          "execution_count": 103
        },
        {
          "output_type": "display_data",
          "data": {
            "text/plain": [
              "<Figure size 432x288 with 1 Axes>"
            ],
            "image/png": "[encoded data removed]"
          },
          "metadata": {
            "needs_background": "light"
          }
        }
      ]
    },
    {
      "cell_type": "code",
      "source": [
        "#find number of resumes for training versus validation set\n",
        "len(resume)\n",
        "#962 resumes\n",
        "\n",
        "962*.2\n",
        "#193 resumes for 20% validation\n",
        "962-193\n",
        "#769 entries for training"
      ],
      "metadata": {
        "colab": {
          "base_uri": "https://localhost:8080/"
        },
        "id": "xhEhcabz08e4",
        "outputId": "535d860d-6d0b-4855-ac0e-e063dab419fe"
      },
      "execution_count": null,
      "outputs": [
        {
          "output_type": "execute_result",
          "data": {
            "text/plain": [
              "769"
            ]
          },
          "metadata": {},
          "execution_count": 104
        }
      ]
    },
    {
      "cell_type": "code",
      "source": [
        "#label encoding categories\n",
        "import pandas as pd\n",
        "import numpy as np\n",
        "from sklearn.preprocessing import LabelEncoder\n",
        "# creating initial dataframe\n",
        "resume[\"Category\"] = resume[\"Category\"].astype('category')\n",
        "resume.dtypes\n",
        "d = dict(enumerate(resume.Category))\n",
        "print (d)"
      ],
      "metadata": {
        "colab": {
          "base_uri": "https://localhost:8080/"
        },
        "id": "5kor1BnoCatg",
        "outputId": "8a677ee0-1e6b-4649-9125-f08f4bb1e9bb"
      },
      "execution_count": null,
      "outputs": [
        {
          "output_type": "stream",
          "name": "stdout",
          "text": [
            "{0: 'Data Science', 1: 'Data Science', 2: 'Data Science', 3: 'Data Science', 4: 'Data Science', 5: 'Data Science', 6: 'Data Science', 7: 'Data Science', 8: 'Data Science', 9: 'Data Science', 10: 'Data Science', 11: 'Data Science', 12: 'Data Science', 13: 'Data Science', 14: 'Data Science', 15: 'Data Science', 16: 'Data Science', 17: 'Data Science', 18: 'Data Science', 19: 'Data Science', 20: 'Data Science', 21: 'Data Science', 22: 'Data Science', 23: 'Data Science', 24: 'Data Science', 25: 'Data Science', 26: 'Data Science', 27: 'Data Science', 28: 'Data Science', 29: 'Data Science', 30: 'Data Science', 31: 'Data Science', 32: 'Data Science', 33: 'Data Science', 34: 'Data Science', 35: 'Data Science', 36: 'Data Science', 37: 'Data Science', 38: 'Data Science', 39: 'Data Science', 40: 'HR', 41: 'HR', 42: 'HR', 43: 'HR', 44: 'HR', 45: 'HR', 46: 'HR', 47: 'HR', 48: 'HR', 49: 'HR', 50: 'HR', 51: 'HR', 52: 'HR', 53: 'HR', 54: 'HR', 55: 'HR', 56: 'HR', 57: 'HR', 58: 'HR', 59: 'HR', 60: 'HR', 61: 'HR', 62: 'HR', 63: 'HR', 64: 'HR', 65: 'HR', 66: 'HR', 67: 'HR', 68: 'HR', 69: 'HR', 70: 'HR', 71: 'HR', 72: 'HR', 73: 'HR', 74: 'HR', 75: 'HR', 76: 'HR', 77: 'HR', 78: 'HR', 79: 'HR', 80: 'HR', 81: 'HR', 82: 'HR', 83: 'HR', 84: 'Advocate', 85: 'Advocate', 86: 'Advocate', 87: 'Advocate', 88: 'Advocate', 89: 'Advocate', 90: 'Advocate', 91: 'Advocate', 92: 'Advocate', 93: 'Advocate', 94: 'Advocate', 95: 'Advocate', 96: 'Advocate', 97: 'Advocate', 98: 'Advocate', 99: 'Advocate', 100: 'Advocate', 101: 'Advocate', 102: 'Advocate', 103: 'Advocate', 104: 'Arts', 105: 'Arts', 106: 'Arts', 107: 'Arts', 108: 'Arts', 109: 'Arts', 110: 'Arts', 111: 'Arts', 112: 'Arts', 113: 'Arts', 114: 'Arts', 115: 'Arts', 116: 'Arts', 117: 'Arts', 118: 'Arts', 119: 'Arts', 120: 'Arts', 121: 'Arts', 122: 'Arts', 123: 'Arts', 124: 'Arts', 125: 'Arts', 126: 'Arts', 127: 'Arts', 128: 'Arts', 129: 'Arts', 130: 'Arts', 131: 'Arts', 132: 'Arts', 133: 'Arts', 134: 'Arts', 135: 'Arts', 136: 'Arts', 137: 'Arts', 138: 'Arts', 139: 'Arts', 140: 'Web Designing', 141: 'Web Designing', 142: 'Web Designing', 143: 'Web Designing', 144: 'Web Designing', 145: 'Web Designing', 146: 'Web Designing', 147: 'Web Designing', 148: 'Web Designing', 149: 'Web Designing', 150: 'Web Designing', 151: 'Web Designing', 152: 'Web Designing', 153: 'Web Designing', 154: 'Web Designing', 155: 'Web Designing', 156: 'Web Designing', 157: 'Web Designing', 158: 'Web Designing', 159: 'Web Designing', 160: 'Web Designing', 161: 'Web Designing', 162: 'Web Designing', 163: 'Web Designing', 164: 'Web Designing', 165: 'Web Designing', 166: 'Web Designing', 167: 'Web Designing', 168: 'Web Designing', 169: 'Web Designing', 170: 'Web Designing', 171: 'Web Designing', 172: 'Web Designing', 173: 'Web Designing', 174: 'Web Designing', 175: 'Web Designing', 176: 'Web Designing', 177: 'Web Designing', 178: 'Web Designing', 179: 'Web Designing', 180: 'Web Designing', 181: 'Web Designing', 182: 'Web Designing', 183: 'Web Designing', 184: 'Web Designing', 185: 'Mechanical Engineer', 186: 'Mechanical Engineer', 187: 'Mechanical Engineer', 188: 'Mechanical Engineer', 189: 'Mechanical Engineer', 190: 'Mechanical Engineer', 191: 'Mechanical Engineer', 192: 'Mechanical Engineer', 193: 'Mechanical Engineer', 194: 'Mechanical Engineer', 195: 'Mechanical Engineer', 196: 'Mechanical Engineer', 197: 'Mechanical Engineer', 198: 'Mechanical Engineer', 199: 'Mechanical Engineer', 200: 'Mechanical Engineer', 201: 'Mechanical Engineer', 202: 'Mechanical Engineer', 203: 'Mechanical Engineer', 204: 'Mechanical Engineer', 205: 'Mechanical Engineer', 206: 'Mechanical Engineer', 207: 'Mechanical Engineer', 208: 'Mechanical Engineer', 209: 'Mechanical Engineer', 210: 'Mechanical Engineer', 211: 'Mechanical Engineer', 212: 'Mechanical Engineer', 213: 'Mechanical Engineer', 214: 'Mechanical Engineer', 215: 'Mechanical Engineer', 216: 'Mechanical Engineer', 217: 'Mechanical Engineer', 218: 'Mechanical Engineer', 219: 'Mechanical Engineer', 220: 'Mechanical Engineer', 221: 'Mechanical Engineer', 222: 'Mechanical Engineer', 223: 'Mechanical Engineer', 224: 'Mechanical Engineer', 225: 'Sales', 226: 'Sales', 227: 'Sales', 228: 'Sales', 229: 'Sales', 230: 'Sales', 231: 'Sales', 232: 'Sales', 233: 'Sales', 234: 'Sales', 235: 'Sales', 236: 'Sales', 237: 'Sales', 238: 'Sales', 239: 'Sales', 240: 'Sales', 241: 'Sales', 242: 'Sales', 243: 'Sales', 244: 'Sales', 245: 'Sales', 246: 'Sales', 247: 'Sales', 248: 'Sales', 249: 'Sales', 250: 'Sales', 251: 'Sales', 252: 'Sales', 253: 'Sales', 254: 'Sales', 255: 'Sales', 256: 'Sales', 257: 'Sales', 258: 'Sales', 259: 'Sales', 260: 'Sales', 261: 'Sales', 262: 'Sales', 263: 'Sales', 264: 'Sales', 265: 'Health and fitness', 266: 'Health and fitness', 267: 'Health and fitness', 268: 'Health and fitness', 269: 'Health and fitness', 270: 'Health and fitness', 271: 'Health and fitness', 272: 'Health and fitness', 273: 'Health and fitness', 274: 'Health and fitness', 275: 'Health and fitness', 276: 'Health and fitness', 277: 'Health and fitness', 278: 'Health and fitness', 279: 'Health and fitness', 280: 'Health and fitness', 281: 'Health and fitness', 282: 'Health and fitness', 283: 'Health and fitness', 284: 'Health and fitness', 285: 'Health and fitness', 286: 'Health and fitness', 287: 'Health and fitness', 288: 'Health and fitness', 289: 'Health and fitness', 290: 'Health and fitness', 291: 'Health and fitness', 292: 'Health and fitness', 293: 'Health and fitness', 294: 'Health and fitness', 295: 'Civil Engineer', 296: 'Civil Engineer', 297: 'Civil Engineer', 298: 'Civil Engineer', 299: 'Civil Engineer', 300: 'Civil Engineer', 301: 'Civil Engineer', 302: 'Civil Engineer', 303: 'Civil Engineer', 304: 'Civil Engineer', 305: 'Civil Engineer', 306: 'Civil Engineer', 307: 'Civil Engineer', 308: 'Civil Engineer', 309: 'Civil Engineer', 310: 'Civil Engineer', 311: 'Civil Engineer', 312: 'Civil Engineer', 313: 'Civil Engineer', 314: 'Civil Engineer', 315: 'Civil Engineer', 316: 'Civil Engineer', 317: 'Civil Engineer', 318: 'Civil Engineer', 319: 'Java Developer', 320: 'Java Developer', 321: 'Java Developer', 322: 'Java Developer', 323: 'Java Developer', 324: 'Java Developer', 325: 'Java Developer', 326: 'Java Developer', 327: 'Java Developer', 328: 'Java Developer', 329: 'Java Developer', 330: 'Java Developer', 331: 'Java Developer', 332: 'Java Developer', 333: 'Java Developer', 334: 'Java Developer', 335: 'Java Developer', 336: 'Java Developer', 337: 'Java Developer', 338: 'Java Developer', 339: 'Java Developer', 340: 'Java Developer', 341: 'Java Developer', 342: 'Java Developer', 343: 'Java Developer', 344: 'Java Developer', 345: 'Java Developer', 346: 'Java Developer', 347: 'Java Developer', 348: 'Java Developer', 349: 'Java Developer', 350: 'Java Developer', 351: 'Java Developer', 352: 'Java Developer', 353: 'Java Developer', 354: 'Java Developer', 355: 'Java Developer', 356: 'Java Developer', 357: 'Java Developer', 358: 'Java Developer', 359: 'Java Developer', 360: 'Java Developer', 361: 'Java Developer', 362: 'Java Developer', 363: 'Java Developer', 364: 'Java Developer', 365: 'Java Developer', 366: 'Java Developer', 367: 'Java Developer', 368: 'Java Developer', 369: 'Java Developer', 370: 'Java Developer', 371: 'Java Developer', 372: 'Java Developer', 373: 'Java Developer', 374: 'Java Developer', 375: 'Java Developer', 376: 'Java Developer', 377: 'Java Developer', 378: 'Java Developer', 379: 'Java Developer', 380: 'Java Developer', 381: 'Java Developer', 382: 'Java Developer', 383: 'Java Developer', 384: 'Java Developer', 385: 'Java Developer', 386: 'Java Developer', 387: 'Java Developer', 388: 'Java Developer', 389: 'Java Developer', 390: 'Java Developer', 391: 'Java Developer', 392: 'Java Developer', 393: 'Java Developer', 394: 'Java Developer', 395: 'Java Developer', 396: 'Java Developer', 397: 'Java Developer', 398: 'Java Developer', 399: 'Java Developer', 400: 'Java Developer', 401: 'Java Developer', 402: 'Java Developer', 403: 'Business Analyst', 404: 'Business Analyst', 405: 'Business Analyst', 406: 'Business Analyst', 407: 'Business Analyst', 408: 'Business Analyst', 409: 'Business Analyst', 410: 'Business Analyst', 411: 'Business Analyst', 412: 'Business Analyst', 413: 'Business Analyst', 414: 'Business Analyst', 415: 'Business Analyst', 416: 'Business Analyst', 417: 'Business Analyst', 418: 'Business Analyst', 419: 'Business Analyst', 420: 'Business Analyst', 421: 'Business Analyst', 422: 'Business Analyst', 423: 'Business Analyst', 424: 'Business Analyst', 425: 'Business Analyst', 426: 'Business Analyst', 427: 'Business Analyst', 428: 'Business Analyst', 429: 'Business Analyst', 430: 'Business Analyst', 431: 'SAP Developer', 432: 'SAP Developer', 433: 'SAP Developer', 434: 'SAP Developer', 435: 'SAP Developer', 436: 'SAP Developer', 437: 'SAP Developer', 438: 'SAP Developer', 439: 'SAP Developer', 440: 'SAP Developer', 441: 'SAP Developer', 442: 'SAP Developer', 443: 'SAP Developer', 444: 'SAP Developer', 445: 'SAP Developer', 446: 'SAP Developer', 447: 'SAP Developer', 448: 'SAP Developer', 449: 'SAP Developer', 450: 'SAP Developer', 451: 'SAP Developer', 452: 'SAP Developer', 453: 'SAP Developer', 454: 'SAP Developer', 455: 'Automation Testing', 456: 'Automation Testing', 457: 'Automation Testing', 458: 'Automation Testing', 459: 'Automation Testing', 460: 'Automation Testing', 461: 'Automation Testing', 462: 'Automation Testing', 463: 'Automation Testing', 464: 'Automation Testing', 465: 'Automation Testing', 466: 'Automation Testing', 467: 'Automation Testing', 468: 'Automation Testing', 469: 'Automation Testing', 470: 'Automation Testing', 471: 'Automation Testing', 472: 'Automation Testing', 473: 'Automation Testing', 474: 'Automation Testing', 475: 'Automation Testing', 476: 'Automation Testing', 477: 'Automation Testing', 478: 'Automation Testing', 479: 'Automation Testing', 480: 'Automation Testing', 481: 'Electrical Engineering', 482: 'Electrical Engineering', 483: 'Electrical Engineering', 484: 'Electrical Engineering', 485: 'Electrical Engineering', 486: 'Electrical Engineering', 487: 'Electrical Engineering', 488: 'Electrical Engineering', 489: 'Electrical Engineering', 490: 'Electrical Engineering', 491: 'Electrical Engineering', 492: 'Electrical Engineering', 493: 'Electrical Engineering', 494: 'Electrical Engineering', 495: 'Electrical Engineering', 496: 'Electrical Engineering', 497: 'Electrical Engineering', 498: 'Electrical Engineering', 499: 'Electrical Engineering', 500: 'Electrical Engineering', 501: 'Electrical Engineering', 502: 'Electrical Engineering', 503: 'Electrical Engineering', 504: 'Electrical Engineering', 505: 'Electrical Engineering', 506: 'Electrical Engineering', 507: 'Electrical Engineering', 508: 'Electrical Engineering', 509: 'Electrical Engineering', 510: 'Electrical Engineering', 511: 'Operations Manager', 512: 'Operations Manager', 513: 'Operations Manager', 514: 'Operations Manager', 515: 'Operations Manager', 516: 'Operations Manager', 517: 'Operations Manager', 518: 'Operations Manager', 519: 'Operations Manager', 520: 'Operations Manager', 521: 'Operations Manager', 522: 'Operations Manager', 523: 'Operations Manager', 524: 'Operations Manager', 525: 'Operations Manager', 526: 'Operations Manager', 527: 'Operations Manager', 528: 'Operations Manager', 529: 'Operations Manager', 530: 'Operations Manager', 531: 'Operations Manager', 532: 'Operations Manager', 533: 'Operations Manager', 534: 'Operations Manager', 535: 'Operations Manager', 536: 'Operations Manager', 537: 'Operations Manager', 538: 'Operations Manager', 539: 'Operations Manager', 540: 'Operations Manager', 541: 'Operations Manager', 542: 'Operations Manager', 543: 'Operations Manager', 544: 'Operations Manager', 545: 'Operations Manager', 546: 'Operations Manager', 547: 'Operations Manager', 548: 'Operations Manager', 549: 'Operations Manager', 550: 'Operations Manager', 551: 'Python Developer', 552: 'Python Developer', 553: 'Python Developer', 554: 'Python Developer', 555: 'Python Developer', 556: 'Python Developer', 557: 'Python Developer', 558: 'Python Developer', 559: 'Python Developer', 560: 'Python Developer', 561: 'Python Developer', 562: 'Python Developer', 563: 'Python Developer', 564: 'Python Developer', 565: 'Python Developer', 566: 'Python Developer', 567: 'Python Developer', 568: 'Python Developer', 569: 'Python Developer', 570: 'Python Developer', 571: 'Python Developer', 572: 'Python Developer', 573: 'Python Developer', 574: 'Python Developer', 575: 'Python Developer', 576: 'Python Developer', 577: 'Python Developer', 578: 'Python Developer', 579: 'Python Developer', 580: 'Python Developer', 581: 'Python Developer', 582: 'Python Developer', 583: 'Python Developer', 584: 'Python Developer', 585: 'Python Developer', 586: 'Python Developer', 587: 'Python Developer', 588: 'Python Developer', 589: 'Python Developer', 590: 'Python Developer', 591: 'Python Developer', 592: 'Python Developer', 593: 'Python Developer', 594: 'Python Developer', 595: 'Python Developer', 596: 'Python Developer', 597: 'Python Developer', 598: 'Python Developer', 599: 'DevOps Engineer', 600: 'DevOps Engineer', 601: 'DevOps Engineer', 602: 'DevOps Engineer', 603: 'DevOps Engineer', 604: 'DevOps Engineer', 605: 'DevOps Engineer', 606: 'DevOps Engineer', 607: 'DevOps Engineer', 608: 'DevOps Engineer', 609: 'DevOps Engineer', 610: 'DevOps Engineer', 611: 'DevOps Engineer', 612: 'DevOps Engineer', 613: 'DevOps Engineer', 614: 'DevOps Engineer', 615: 'DevOps Engineer', 616: 'DevOps Engineer', 617: 'DevOps Engineer', 618: 'DevOps Engineer', 619: 'DevOps Engineer', 620: 'DevOps Engineer', 621: 'DevOps Engineer', 622: 'DevOps Engineer', 623: 'DevOps Engineer', 624: 'DevOps Engineer', 625: 'DevOps Engineer', 626: 'DevOps Engineer', 627: 'DevOps Engineer', 628: 'DevOps Engineer', 629: 'DevOps Engineer', 630: 'DevOps Engineer', 631: 'DevOps Engineer', 632: 'DevOps Engineer', 633: 'DevOps Engineer', 634: 'DevOps Engineer', 635: 'DevOps Engineer', 636: 'DevOps Engineer', 637: 'DevOps Engineer', 638: 'DevOps Engineer', 639: 'DevOps Engineer', 640: 'DevOps Engineer', 641: 'DevOps Engineer', 642: 'DevOps Engineer', 643: 'DevOps Engineer', 644: 'DevOps Engineer', 645: 'DevOps Engineer', 646: 'DevOps Engineer', 647: 'DevOps Engineer', 648: 'DevOps Engineer', 649: 'DevOps Engineer', 650: 'DevOps Engineer', 651: 'DevOps Engineer', 652: 'DevOps Engineer', 653: 'DevOps Engineer', 654: 'Network Security Engineer', 655: 'Network Security Engineer', 656: 'Network Security Engineer', 657: 'Network Security Engineer', 658: 'Network Security Engineer', 659: 'Network Security Engineer', 660: 'Network Security Engineer', 661: 'Network Security Engineer', 662: 'Network Security Engineer', 663: 'Network Security Engineer', 664: 'Network Security Engineer', 665: 'Network Security Engineer', 666: 'Network Security Engineer', 667: 'Network Security Engineer', 668: 'Network Security Engineer', 669: 'Network Security Engineer', 670: 'Network Security Engineer', 671: 'Network Security Engineer', 672: 'Network Security Engineer', 673: 'Network Security Engineer', 674: 'Network Security Engineer', 675: 'Network Security Engineer', 676: 'Network Security Engineer', 677: 'Network Security Engineer', 678: 'Network Security Engineer', 679: 'PMO', 680: 'PMO', 681: 'PMO', 682: 'PMO', 683: 'PMO', 684: 'PMO', 685: 'PMO', 686: 'PMO', 687: 'PMO', 688: 'PMO', 689: 'PMO', 690: 'PMO', 691: 'PMO', 692: 'PMO', 693: 'PMO', 694: 'PMO', 695: 'PMO', 696: 'PMO', 697: 'PMO', 698: 'PMO', 699: 'PMO', 700: 'PMO', 701: 'PMO', 702: 'PMO', 703: 'PMO', 704: 'PMO', 705: 'PMO', 706: 'PMO', 707: 'PMO', 708: 'PMO', 709: 'Database', 710: 'Database', 711: 'Database', 712: 'Database', 713: 'Database', 714: 'Database', 715: 'Database', 716: 'Database', 717: 'Database', 718: 'Database', 719: 'Database', 720: 'Database', 721: 'Database', 722: 'Database', 723: 'Database', 724: 'Database', 725: 'Database', 726: 'Database', 727: 'Database', 728: 'Database', 729: 'Database', 730: 'Database', 731: 'Database', 732: 'Database', 733: 'Database', 734: 'Database', 735: 'Database', 736: 'Database', 737: 'Database', 738: 'Database', 739: 'Database', 740: 'Database', 741: 'Database', 742: 'Hadoop', 743: 'Hadoop', 744: 'Hadoop', 745: 'Hadoop', 746: 'Hadoop', 747: 'Hadoop', 748: 'Hadoop', 749: 'Hadoop', 750: 'Hadoop', 751: 'Hadoop', 752: 'Hadoop', 753: 'Hadoop', 754: 'Hadoop', 755: 'Hadoop', 756: 'Hadoop', 757: 'Hadoop', 758: 'Hadoop', 759: 'Hadoop', 760: 'Hadoop', 761: 'Hadoop', 762: 'Hadoop', 763: 'Hadoop', 764: 'Hadoop', 765: 'Hadoop', 766: 'Hadoop', 767: 'Hadoop', 768: 'Hadoop', 769: 'Hadoop', 770: 'Hadoop', 771: 'Hadoop', 772: 'Hadoop', 773: 'Hadoop', 774: 'Hadoop', 775: 'Hadoop', 776: 'Hadoop', 777: 'Hadoop', 778: 'Hadoop', 779: 'Hadoop', 780: 'Hadoop', 781: 'Hadoop', 782: 'Hadoop', 783: 'Hadoop', 784: 'ETL Developer', 785: 'ETL Developer', 786: 'ETL Developer', 787: 'ETL Developer', 788: 'ETL Developer', 789: 'ETL Developer', 790: 'ETL Developer', 791: 'ETL Developer', 792: 'ETL Developer', 793: 'ETL Developer', 794: 'ETL Developer', 795: 'ETL Developer', 796: 'ETL Developer', 797: 'ETL Developer', 798: 'ETL Developer', 799: 'ETL Developer', 800: 'ETL Developer', 801: 'ETL Developer', 802: 'ETL Developer', 803: 'ETL Developer', 804: 'ETL Developer', 805: 'ETL Developer', 806: 'ETL Developer', 807: 'ETL Developer', 808: 'ETL Developer', 809: 'ETL Developer', 810: 'ETL Developer', 811: 'ETL Developer', 812: 'ETL Developer', 813: 'ETL Developer', 814: 'ETL Developer', 815: 'ETL Developer', 816: 'ETL Developer', 817: 'ETL Developer', 818: 'ETL Developer', 819: 'ETL Developer', 820: 'ETL Developer', 821: 'ETL Developer', 822: 'ETL Developer', 823: 'ETL Developer', 824: 'DotNet Developer', 825: 'DotNet Developer', 826: 'DotNet Developer', 827: 'DotNet Developer', 828: 'DotNet Developer', 829: 'DotNet Developer', 830: 'DotNet Developer', 831: 'DotNet Developer', 832: 'DotNet Developer', 833: 'DotNet Developer', 834: 'DotNet Developer', 835: 'DotNet Developer', 836: 'DotNet Developer', 837: 'DotNet Developer', 838: 'DotNet Developer', 839: 'DotNet Developer', 840: 'DotNet Developer', 841: 'DotNet Developer', 842: 'DotNet Developer', 843: 'DotNet Developer', 844: 'DotNet Developer', 845: 'DotNet Developer', 846: 'DotNet Developer', 847: 'DotNet Developer', 848: 'DotNet Developer', 849: 'DotNet Developer', 850: 'DotNet Developer', 851: 'DotNet Developer', 852: 'Blockchain', 853: 'Blockchain', 854: 'Blockchain', 855: 'Blockchain', 856: 'Blockchain', 857: 'Blockchain', 858: 'Blockchain', 859: 'Blockchain', 860: 'Blockchain', 861: 'Blockchain', 862: 'Blockchain', 863: 'Blockchain', 864: 'Blockchain', 865: 'Blockchain', 866: 'Blockchain', 867: 'Blockchain', 868: 'Blockchain', 869: 'Blockchain', 870: 'Blockchain', 871: 'Blockchain', 872: 'Blockchain', 873: 'Blockchain', 874: 'Blockchain', 875: 'Blockchain', 876: 'Blockchain', 877: 'Blockchain', 878: 'Blockchain', 879: 'Blockchain', 880: 'Blockchain', 881: 'Blockchain', 882: 'Blockchain', 883: 'Blockchain', 884: 'Blockchain', 885: 'Blockchain', 886: 'Blockchain', 887: 'Blockchain', 888: 'Blockchain', 889: 'Blockchain', 890: 'Blockchain', 891: 'Blockchain', 892: 'Testing', 893: 'Testing', 894: 'Testing', 895: 'Testing', 896: 'Testing', 897: 'Testing', 898: 'Testing', 899: 'Testing', 900: 'Testing', 901: 'Testing', 902: 'Testing', 903: 'Testing', 904: 'Testing', 905: 'Testing', 906: 'Testing', 907: 'Testing', 908: 'Testing', 909: 'Testing', 910: 'Testing', 911: 'Testing', 912: 'Testing', 913: 'Testing', 914: 'Testing', 915: 'Testing', 916: 'Testing', 917: 'Testing', 918: 'Testing', 919: 'Testing', 920: 'Testing', 921: 'Testing', 922: 'Testing', 923: 'Testing', 924: 'Testing', 925: 'Testing', 926: 'Testing', 927: 'Testing', 928: 'Testing', 929: 'Testing', 930: 'Testing', 931: 'Testing', 932: 'Testing', 933: 'Testing', 934: 'Testing', 935: 'Testing', 936: 'Testing', 937: 'Testing', 938: 'Testing', 939: 'Testing', 940: 'Testing', 941: 'Testing', 942: 'Testing', 943: 'Testing', 944: 'Testing', 945: 'Testing', 946: 'Testing', 947: 'Testing', 948: 'Testing', 949: 'Testing', 950: 'Testing', 951: 'Testing', 952: 'Testing', 953: 'Testing', 954: 'Testing', 955: 'Testing', 956: 'Testing', 957: 'Testing', 958: 'Testing', 959: 'Testing', 960: 'Testing', 961: 'Testing'}\n"
          ]
        }
      ]
    },
    {
      "cell_type": "code",
      "source": [
        "resume[\"Category\"] = resume[\"Category\"].cat.codes\n",
        "resume.head()"
      ],
      "metadata": {
        "colab": {
          "base_uri": "https://localhost:8080/",
          "height": 206
        },
        "id": "k3lgUYB6EB5s",
        "outputId": "7d479efe-65da-4d55-90b6-ce7b1552d51f"
      },
      "execution_count": null,
      "outputs": [
        {
          "output_type": "execute_result",
          "data": {
            "text/plain": [
              "   Category                                             Resume\n",
              "0         6  Skills * Programming Languages: Python (pandas...\n",
              "1         6  Education Details \\r\\nMay 2013 to May 2017 B.E...\n",
              "2         6  Areas of Interest Deep Learning, Control Syste...\n",
              "3         6  Skills â¢ R â¢ Python â¢ SAP HANA â¢ Table...\n",
              "4         6  Education Details \\r\\n MCA   YMCAUST,  Faridab..."
            ],
            "text/html": [
              "\n",
              "  <div id=\"df-bf1fa3d1-d615-4c29-b5a1-bc431da3be5e\">\n",
              "    <div class=\"colab-df-container\">\n",
              "      <div>\n",
              "<style scoped>\n",
              "    .dataframe tbody tr th:only-of-type {\n",
              "        vertical-align: middle;\n",
              "    }\n",
              "\n",
              "    .dataframe tbody tr th {\n",
              "        vertical-align: top;\n",
              "    }\n",
              "\n",
              "    .dataframe thead th {\n",
              "        text-align: right;\n",
              "    }\n",
              "</style>\n",
              "<table border=\"1\" class=\"dataframe\">\n",
              "  <thead>\n",
              "    <tr style=\"text-align: right;\">\n",
              "      <th></th>\n",
              "      <th>Category</th>\n",
              "      <th>Resume</th>\n",
              "    </tr>\n",
              "  </thead>\n",
              "  <tbody>\n",
              "    <tr>\n",
              "      <th>0</th>\n",
              "      <td>6</td>\n",
              "      <td>Skills * Programming Languages: Python (pandas...</td>\n",
              "    </tr>\n",
              "    <tr>\n",
              "      <th>1</th>\n",
              "      <td>6</td>\n",
              "      <td>Education Details \\r\\nMay 2013 to May 2017 B.E...</td>\n",
              "    </tr>\n",
              "    <tr>\n",
              "      <th>2</th>\n",
              "      <td>6</td>\n",
              "      <td>Areas of Interest Deep Learning, Control Syste...</td>\n",
              "    </tr>\n",
              "    <tr>\n",
              "      <th>3</th>\n",
              "      <td>6</td>\n",
              "      <td>Skills â¢ R â¢ Python â¢ SAP HANA â¢ Table...</td>\n",
              "    </tr>\n",
              "    <tr>\n",
              "      <th>4</th>\n",
              "      <td>6</td>\n",
              "      <td>Education Details \\r\\n MCA   YMCAUST,  Faridab...</td>\n",
              "    </tr>\n",
              "  </tbody>\n",
              "</table>\n",
              "</div>\n",
              "      <button class=\"colab-df-convert\" onclick=\"convertToInteractive('df-bf1fa3d1-d615-4c29-b5a1-bc431da3be5e')\"\n",
              "              title=\"Convert this dataframe to an interactive table.\"\n",
              "              style=\"display:none;\">\n",
              "        \n",
              "  <svg xmlns=\"http://www.w3.org/2000/svg\" height=\"24px\"viewBox=\"0 0 24 24\"\n",
              "       width=\"24px\">\n",
              "    <path d=\"M0 0h24v24H0V0z\" fill=\"none\"/>\n",
              "    <path d=\"M18.56 5.44l.94 2.06.94-2.06 2.06-.94-2.06-.94-.94-2.06-.94 2.06-2.06.94zm-11 1L8.5 8.5l.94-2.06 2.06-.94-2.06-.94L8.5 2.5l-.94 2.06-2.06.94zm10 10l.94 2.06.94-2.06 2.06-.94-2.06-.94-.94-2.06-.94 2.06-2.06.94z\"/><path d=\"M17.41 7.96l-1.37-1.37c-.4-.4-.92-.59-1.43-.59-.52 0-1.04.2-1.43.59L10.3 9.45l-7.72 7.72c-.78.78-.78 2.05 0 2.83L4 21.41c.39.39.9.59 1.41.59.51 0 1.02-.2 1.41-.59l7.78-7.78 2.81-2.81c.8-.78.8-2.07 0-2.86zM5.41 20L4 18.59l7.72-7.72 1.47 1.35L5.41 20z\"/>\n",
              "  </svg>\n",
              "      </button>\n",
              "      \n",
              "  <style>\n",
              "    .colab-df-container {\n",
              "      display:flex;\n",
              "      flex-wrap:wrap;\n",
              "      gap: 12px;\n",
              "    }\n",
              "\n",
              "    .colab-df-convert {\n",
              "      background-color: #E8F0FE;\n",
              "      border: none;\n",
              "      border-radius: 50%;\n",
              "      cursor: pointer;\n",
              "      display: none;\n",
              "      fill: #1967D2;\n",
              "      height: 32px;\n",
              "      padding: 0 0 0 0;\n",
              "      width: 32px;\n",
              "    }\n",
              "\n",
              "    .colab-df-convert:hover {\n",
              "      background-color: #E2EBFA;\n",
              "      box-shadow: 0px 1px 2px rgba(60, 64, 67, 0.3), 0px 1px 3px 1px rgba(60, 64, 67, 0.15);\n",
              "      fill: #174EA6;\n",
              "    }\n",
              "\n",
              "    [theme=dark] .colab-df-convert {\n",
              "      background-color: #3B4455;\n",
              "      fill: #D2E3FC;\n",
              "    }\n",
              "\n",
              "    [theme=dark] .colab-df-convert:hover {\n",
              "      background-color: #434B5C;\n",
              "      box-shadow: 0px 1px 3px 1px rgba(0, 0, 0, 0.15);\n",
              "      filter: drop-shadow(0px 1px 2px rgba(0, 0, 0, 0.3));\n",
              "      fill: #FFFFFF;\n",
              "    }\n",
              "  </style>\n",
              "\n",
              "      <script>\n",
              "        const buttonEl =\n",
              "          document.querySelector('#df-bf1fa3d1-d615-4c29-b5a1-bc431da3be5e button.colab-df-convert');\n",
              "        buttonEl.style.display =\n",
              "          google.colab.kernel.accessAllowed ? 'block' : 'none';\n",
              "\n",
              "        async function convertToInteractive(key) {\n",
              "          const element = document.querySelector('#df-bf1fa3d1-d615-4c29-b5a1-bc431da3be5e');\n",
              "          const dataTable =\n",
              "            await google.colab.kernel.invokeFunction('convertToInteractive',\n",
              "                                                     [key], {});\n",
              "          if (!dataTable) return;\n",
              "\n",
              "          const docLinkHtml = 'Like what you see? Visit the ' +\n",
              "            '<a target=\"_blank\" href=https://colab.research.google.com/notebooks/data_table.ipynb>data table notebook</a>'\n",
              "            + ' to learn more about interactive tables.';\n",
              "          element.innerHTML = '';\n",
              "          dataTable['output_type'] = 'display_data';\n",
              "          await google.colab.output.renderOutput(dataTable, element);\n",
              "          const docLink = document.createElement('div');\n",
              "          docLink.innerHTML = docLinkHtml;\n",
              "          element.appendChild(docLink);\n",
              "        }\n",
              "      </script>\n",
              "    </div>\n",
              "  </div>\n",
              "  "
            ]
          },
          "metadata": {},
          "execution_count": 107
        }
      ]
    },
    {
      "cell_type": "code",
      "source": [
        "resume.iloc[:, 0].unique()"
      ],
      "metadata": {
        "colab": {
          "base_uri": "https://localhost:8080/"
        },
        "id": "kM3iJA2HFRT3",
        "outputId": "b0d388e8-a909-4403-c15e-f650f40bce99"
      },
      "execution_count": null,
      "outputs": [
        {
          "output_type": "execute_result",
          "data": {
            "text/plain": [
              "array([ 6, 12,  0,  1, 24, 16, 22, 14,  5, 15,  4, 21,  2, 11, 18, 20,  8,\n",
              "       17, 19,  7, 13, 10,  9,  3, 23], dtype=int8)"
            ]
          },
          "metadata": {},
          "execution_count": 108
        }
      ]
    },
    {
      "cell_type": "code",
      "source": [
        "d = dict(enumerate(resume.Category))\n",
        "print (d)"
      ],
      "metadata": {
        "colab": {
          "base_uri": "https://localhost:8080/"
        },
        "id": "NsrwouyXFU5U",
        "outputId": "d5eee73e-c237-4492-d447-a252a0500343"
      },
      "execution_count": null,
      "outputs": [
        {
          "output_type": "stream",
          "name": "stdout",
          "text": [
            "{0: 6, 1: 6, 2: 6, 3: 6, 4: 6, 5: 6, 6: 6, 7: 6, 8: 6, 9: 6, 10: 6, 11: 6, 12: 6, 13: 6, 14: 6, 15: 6, 16: 6, 17: 6, 18: 6, 19: 6, 20: 6, 21: 6, 22: 6, 23: 6, 24: 6, 25: 6, 26: 6, 27: 6, 28: 6, 29: 6, 30: 6, 31: 6, 32: 6, 33: 6, 34: 6, 35: 6, 36: 6, 37: 6, 38: 6, 39: 6, 40: 12, 41: 12, 42: 12, 43: 12, 44: 12, 45: 12, 46: 12, 47: 12, 48: 12, 49: 12, 50: 12, 51: 12, 52: 12, 53: 12, 54: 12, 55: 12, 56: 12, 57: 12, 58: 12, 59: 12, 60: 12, 61: 12, 62: 12, 63: 12, 64: 12, 65: 12, 66: 12, 67: 12, 68: 12, 69: 12, 70: 12, 71: 12, 72: 12, 73: 12, 74: 12, 75: 12, 76: 12, 77: 12, 78: 12, 79: 12, 80: 12, 81: 12, 82: 12, 83: 12, 84: 0, 85: 0, 86: 0, 87: 0, 88: 0, 89: 0, 90: 0, 91: 0, 92: 0, 93: 0, 94: 0, 95: 0, 96: 0, 97: 0, 98: 0, 99: 0, 100: 0, 101: 0, 102: 0, 103: 0, 104: 1, 105: 1, 106: 1, 107: 1, 108: 1, 109: 1, 110: 1, 111: 1, 112: 1, 113: 1, 114: 1, 115: 1, 116: 1, 117: 1, 118: 1, 119: 1, 120: 1, 121: 1, 122: 1, 123: 1, 124: 1, 125: 1, 126: 1, 127: 1, 128: 1, 129: 1, 130: 1, 131: 1, 132: 1, 133: 1, 134: 1, 135: 1, 136: 1, 137: 1, 138: 1, 139: 1, 140: 24, 141: 24, 142: 24, 143: 24, 144: 24, 145: 24, 146: 24, 147: 24, 148: 24, 149: 24, 150: 24, 151: 24, 152: 24, 153: 24, 154: 24, 155: 24, 156: 24, 157: 24, 158: 24, 159: 24, 160: 24, 161: 24, 162: 24, 163: 24, 164: 24, 165: 24, 166: 24, 167: 24, 168: 24, 169: 24, 170: 24, 171: 24, 172: 24, 173: 24, 174: 24, 175: 24, 176: 24, 177: 24, 178: 24, 179: 24, 180: 24, 181: 24, 182: 24, 183: 24, 184: 24, 185: 16, 186: 16, 187: 16, 188: 16, 189: 16, 190: 16, 191: 16, 192: 16, 193: 16, 194: 16, 195: 16, 196: 16, 197: 16, 198: 16, 199: 16, 200: 16, 201: 16, 202: 16, 203: 16, 204: 16, 205: 16, 206: 16, 207: 16, 208: 16, 209: 16, 210: 16, 211: 16, 212: 16, 213: 16, 214: 16, 215: 16, 216: 16, 217: 16, 218: 16, 219: 16, 220: 16, 221: 16, 222: 16, 223: 16, 224: 16, 225: 22, 226: 22, 227: 22, 228: 22, 229: 22, 230: 22, 231: 22, 232: 22, 233: 22, 234: 22, 235: 22, 236: 22, 237: 22, 238: 22, 239: 22, 240: 22, 241: 22, 242: 22, 243: 22, 244: 22, 245: 22, 246: 22, 247: 22, 248: 22, 249: 22, 250: 22, 251: 22, 252: 22, 253: 22, 254: 22, 255: 22, 256: 22, 257: 22, 258: 22, 259: 22, 260: 22, 261: 22, 262: 22, 263: 22, 264: 22, 265: 14, 266: 14, 267: 14, 268: 14, 269: 14, 270: 14, 271: 14, 272: 14, 273: 14, 274: 14, 275: 14, 276: 14, 277: 14, 278: 14, 279: 14, 280: 14, 281: 14, 282: 14, 283: 14, 284: 14, 285: 14, 286: 14, 287: 14, 288: 14, 289: 14, 290: 14, 291: 14, 292: 14, 293: 14, 294: 14, 295: 5, 296: 5, 297: 5, 298: 5, 299: 5, 300: 5, 301: 5, 302: 5, 303: 5, 304: 5, 305: 5, 306: 5, 307: 5, 308: 5, 309: 5, 310: 5, 311: 5, 312: 5, 313: 5, 314: 5, 315: 5, 316: 5, 317: 5, 318: 5, 319: 15, 320: 15, 321: 15, 322: 15, 323: 15, 324: 15, 325: 15, 326: 15, 327: 15, 328: 15, 329: 15, 330: 15, 331: 15, 332: 15, 333: 15, 334: 15, 335: 15, 336: 15, 337: 15, 338: 15, 339: 15, 340: 15, 341: 15, 342: 15, 343: 15, 344: 15, 345: 15, 346: 15, 347: 15, 348: 15, 349: 15, 350: 15, 351: 15, 352: 15, 353: 15, 354: 15, 355: 15, 356: 15, 357: 15, 358: 15, 359: 15, 360: 15, 361: 15, 362: 15, 363: 15, 364: 15, 365: 15, 366: 15, 367: 15, 368: 15, 369: 15, 370: 15, 371: 15, 372: 15, 373: 15, 374: 15, 375: 15, 376: 15, 377: 15, 378: 15, 379: 15, 380: 15, 381: 15, 382: 15, 383: 15, 384: 15, 385: 15, 386: 15, 387: 15, 388: 15, 389: 15, 390: 15, 391: 15, 392: 15, 393: 15, 394: 15, 395: 15, 396: 15, 397: 15, 398: 15, 399: 15, 400: 15, 401: 15, 402: 15, 403: 4, 404: 4, 405: 4, 406: 4, 407: 4, 408: 4, 409: 4, 410: 4, 411: 4, 412: 4, 413: 4, 414: 4, 415: 4, 416: 4, 417: 4, 418: 4, 419: 4, 420: 4, 421: 4, 422: 4, 423: 4, 424: 4, 425: 4, 426: 4, 427: 4, 428: 4, 429: 4, 430: 4, 431: 21, 432: 21, 433: 21, 434: 21, 435: 21, 436: 21, 437: 21, 438: 21, 439: 21, 440: 21, 441: 21, 442: 21, 443: 21, 444: 21, 445: 21, 446: 21, 447: 21, 448: 21, 449: 21, 450: 21, 451: 21, 452: 21, 453: 21, 454: 21, 455: 2, 456: 2, 457: 2, 458: 2, 459: 2, 460: 2, 461: 2, 462: 2, 463: 2, 464: 2, 465: 2, 466: 2, 467: 2, 468: 2, 469: 2, 470: 2, 471: 2, 472: 2, 473: 2, 474: 2, 475: 2, 476: 2, 477: 2, 478: 2, 479: 2, 480: 2, 481: 11, 482: 11, 483: 11, 484: 11, 485: 11, 486: 11, 487: 11, 488: 11, 489: 11, 490: 11, 491: 11, 492: 11, 493: 11, 494: 11, 495: 11, 496: 11, 497: 11, 498: 11, 499: 11, 500: 11, 501: 11, 502: 11, 503: 11, 504: 11, 505: 11, 506: 11, 507: 11, 508: 11, 509: 11, 510: 11, 511: 18, 512: 18, 513: 18, 514: 18, 515: 18, 516: 18, 517: 18, 518: 18, 519: 18, 520: 18, 521: 18, 522: 18, 523: 18, 524: 18, 525: 18, 526: 18, 527: 18, 528: 18, 529: 18, 530: 18, 531: 18, 532: 18, 533: 18, 534: 18, 535: 18, 536: 18, 537: 18, 538: 18, 539: 18, 540: 18, 541: 18, 542: 18, 543: 18, 544: 18, 545: 18, 546: 18, 547: 18, 548: 18, 549: 18, 550: 18, 551: 20, 552: 20, 553: 20, 554: 20, 555: 20, 556: 20, 557: 20, 558: 20, 559: 20, 560: 20, 561: 20, 562: 20, 563: 20, 564: 20, 565: 20, 566: 20, 567: 20, 568: 20, 569: 20, 570: 20, 571: 20, 572: 20, 573: 20, 574: 20, 575: 20, 576: 20, 577: 20, 578: 20, 579: 20, 580: 20, 581: 20, 582: 20, 583: 20, 584: 20, 585: 20, 586: 20, 587: 20, 588: 20, 589: 20, 590: 20, 591: 20, 592: 20, 593: 20, 594: 20, 595: 20, 596: 20, 597: 20, 598: 20, 599: 8, 600: 8, 601: 8, 602: 8, 603: 8, 604: 8, 605: 8, 606: 8, 607: 8, 608: 8, 609: 8, 610: 8, 611: 8, 612: 8, 613: 8, 614: 8, 615: 8, 616: 8, 617: 8, 618: 8, 619: 8, 620: 8, 621: 8, 622: 8, 623: 8, 624: 8, 625: 8, 626: 8, 627: 8, 628: 8, 629: 8, 630: 8, 631: 8, 632: 8, 633: 8, 634: 8, 635: 8, 636: 8, 637: 8, 638: 8, 639: 8, 640: 8, 641: 8, 642: 8, 643: 8, 644: 8, 645: 8, 646: 8, 647: 8, 648: 8, 649: 8, 650: 8, 651: 8, 652: 8, 653: 8, 654: 17, 655: 17, 656: 17, 657: 17, 658: 17, 659: 17, 660: 17, 661: 17, 662: 17, 663: 17, 664: 17, 665: 17, 666: 17, 667: 17, 668: 17, 669: 17, 670: 17, 671: 17, 672: 17, 673: 17, 674: 17, 675: 17, 676: 17, 677: 17, 678: 17, 679: 19, 680: 19, 681: 19, 682: 19, 683: 19, 684: 19, 685: 19, 686: 19, 687: 19, 688: 19, 689: 19, 690: 19, 691: 19, 692: 19, 693: 19, 694: 19, 695: 19, 696: 19, 697: 19, 698: 19, 699: 19, 700: 19, 701: 19, 702: 19, 703: 19, 704: 19, 705: 19, 706: 19, 707: 19, 708: 19, 709: 7, 710: 7, 711: 7, 712: 7, 713: 7, 714: 7, 715: 7, 716: 7, 717: 7, 718: 7, 719: 7, 720: 7, 721: 7, 722: 7, 723: 7, 724: 7, 725: 7, 726: 7, 727: 7, 728: 7, 729: 7, 730: 7, 731: 7, 732: 7, 733: 7, 734: 7, 735: 7, 736: 7, 737: 7, 738: 7, 739: 7, 740: 7, 741: 7, 742: 13, 743: 13, 744: 13, 745: 13, 746: 13, 747: 13, 748: 13, 749: 13, 750: 13, 751: 13, 752: 13, 753: 13, 754: 13, 755: 13, 756: 13, 757: 13, 758: 13, 759: 13, 760: 13, 761: 13, 762: 13, 763: 13, 764: 13, 765: 13, 766: 13, 767: 13, 768: 13, 769: 13, 770: 13, 771: 13, 772: 13, 773: 13, 774: 13, 775: 13, 776: 13, 777: 13, 778: 13, 779: 13, 780: 13, 781: 13, 782: 13, 783: 13, 784: 10, 785: 10, 786: 10, 787: 10, 788: 10, 789: 10, 790: 10, 791: 10, 792: 10, 793: 10, 794: 10, 795: 10, 796: 10, 797: 10, 798: 10, 799: 10, 800: 10, 801: 10, 802: 10, 803: 10, 804: 10, 805: 10, 806: 10, 807: 10, 808: 10, 809: 10, 810: 10, 811: 10, 812: 10, 813: 10, 814: 10, 815: 10, 816: 10, 817: 10, 818: 10, 819: 10, 820: 10, 821: 10, 822: 10, 823: 10, 824: 9, 825: 9, 826: 9, 827: 9, 828: 9, 829: 9, 830: 9, 831: 9, 832: 9, 833: 9, 834: 9, 835: 9, 836: 9, 837: 9, 838: 9, 839: 9, 840: 9, 841: 9, 842: 9, 843: 9, 844: 9, 845: 9, 846: 9, 847: 9, 848: 9, 849: 9, 850: 9, 851: 9, 852: 3, 853: 3, 854: 3, 855: 3, 856: 3, 857: 3, 858: 3, 859: 3, 860: 3, 861: 3, 862: 3, 863: 3, 864: 3, 865: 3, 866: 3, 867: 3, 868: 3, 869: 3, 870: 3, 871: 3, 872: 3, 873: 3, 874: 3, 875: 3, 876: 3, 877: 3, 878: 3, 879: 3, 880: 3, 881: 3, 882: 3, 883: 3, 884: 3, 885: 3, 886: 3, 887: 3, 888: 3, 889: 3, 890: 3, 891: 3, 892: 23, 893: 23, 894: 23, 895: 23, 896: 23, 897: 23, 898: 23, 899: 23, 900: 23, 901: 23, 902: 23, 903: 23, 904: 23, 905: 23, 906: 23, 907: 23, 908: 23, 909: 23, 910: 23, 911: 23, 912: 23, 913: 23, 914: 23, 915: 23, 916: 23, 917: 23, 918: 23, 919: 23, 920: 23, 921: 23, 922: 23, 923: 23, 924: 23, 925: 23, 926: 23, 927: 23, 928: 23, 929: 23, 930: 23, 931: 23, 932: 23, 933: 23, 934: 23, 935: 23, 936: 23, 937: 23, 938: 23, 939: 23, 940: 23, 941: 23, 942: 23, 943: 23, 944: 23, 945: 23, 946: 23, 947: 23, 948: 23, 949: 23, 950: 23, 951: 23, 952: 23, 953: 23, 954: 23, 955: 23, 956: 23, 957: 23, 958: 23, 959: 23, 960: 23, 961: 23}\n"
          ]
        }
      ]
    },
    {
      "cell_type": "code",
      "source": [
        "#data clean up\n",
        "#remove special characters with regular expressions\n",
        "#https://stackoverflow.com/questions/43358857/how-to-remove-special-characters-except-space-from-a-file-in-python\n",
        "#https://stackoverflow.com/questions/25292838/applying-regex-to-a-pandas-dataframe\n",
        "import re\n",
        "\n",
        "#removes special chars\n",
        "def clean_chars(clean):\n",
        "    return re.sub(r\"[^a-zA-Z0-9]+\", ' ', clean)\n",
        "\n",
        "# test = \"Details \\r\\nMay 2013 to May 2017 B.\"\n",
        "# final = [re.sub(r\"[^a-zA-Z0-9]+\", ' ', test)]\n",
        "# print(final)\n",
        "#['Details May 2013 to May 2017 B ']\n",
        "\n",
        "#need to strip trailing white spaces\n",
        "resume.Resume = resume.Resume.apply(lambda x: clean_chars(x).strip())\n",
        "resume.Resume"
      ],
      "metadata": {
        "colab": {
          "base_uri": "https://localhost:8080/"
        },
        "id": "EBO8VgDQ1ZjM",
        "outputId": "a74f5f88-1363-4547-d512-c4d3d7f70727"
      },
      "execution_count": null,
      "outputs": [
        {
          "output_type": "execute_result",
          "data": {
            "text/plain": [
              "0      Skills Programming Languages Python pandas num...\n",
              "1      Education Details May 2013 to May 2017 B E UIT...\n",
              "2      Areas of Interest Deep Learning Control System...\n",
              "3      Skills R Python SAP HANA Tableau SAP HANA SQL ...\n",
              "4      Education Details MCA YMCAUST Faridabad Haryan...\n",
              "                             ...                        \n",
              "957    Computer Skills Proficient in MS office Word B...\n",
              "958    Willingness to accept the challenges Positive ...\n",
              "959    PERSONAL SKILLS Quick learner Eagerness to lea...\n",
              "960    COMPUTER SKILLS SOFTWARE KNOWLEDGE MS Power Po...\n",
              "961    Skill Set OS Windows XP 7 8 8 1 10 Database MY...\n",
              "Name: Resume, Length: 962, dtype: object"
            ]
          },
          "metadata": {},
          "execution_count": 51
        }
      ]
    },
    {
      "cell_type": "code",
      "source": [
        "#data restrict length to 128 characters\n",
        "import itertools\n",
        "\n",
        "#https://stackoverflow.com/questions/22767509/python-get-the-x-first-words-in-a-string\n",
        "# test = 'Computer Skills Proficient in MS office Word B'\n",
        "# test = test.split(' ')\n",
        "# test = test[:5]\n",
        "# test\n",
        "# #['Computer', 'Skills', 'Proficient', 'in', 'MS']\n",
        "# test = ' '.join(test)\n",
        "# test\n",
        "\n",
        "resume.Resume = resume.Resume.apply(lambda x: ' '.join(x.split(' ')[:128]))\n",
        "resume.Resume"
      ],
      "metadata": {
        "colab": {
          "base_uri": "https://localhost:8080/"
        },
        "id": "aoSLHysi5IKF",
        "outputId": "a14140c5-2724-497c-cff2-ed70f93aff95"
      },
      "execution_count": null,
      "outputs": [
        {
          "output_type": "execute_result",
          "data": {
            "text/plain": [
              "0      Skills Programming Languages Python pandas\n",
              "1                   Education Details May 2013 to\n",
              "2                 Areas of Interest Deep Learning\n",
              "3                        Skills R Python SAP HANA\n",
              "4         Education Details MCA YMCAUST Faridabad\n",
              "                          ...                    \n",
              "957              Computer Skills Proficient in MS\n",
              "958          Willingness to accept the challenges\n",
              "959       PERSONAL SKILLS Quick learner Eagerness\n",
              "960         COMPUTER SKILLS SOFTWARE KNOWLEDGE MS\n",
              "961                       Skill Set OS Windows XP\n",
              "Name: Resume, Length: 962, dtype: object"
            ]
          },
          "metadata": {},
          "execution_count": 53
        }
      ]
    },
    {
      "cell_type": "code",
      "source": [
        "#take look at fully clean data\n",
        "resume.head()"
      ],
      "metadata": {
        "colab": {
          "base_uri": "https://localhost:8080/",
          "height": 206
        },
        "id": "4Fishlyo8sen",
        "outputId": "34761934-846a-496b-b68c-1fd9f56d8dce"
      },
      "execution_count": null,
      "outputs": [
        {
          "output_type": "execute_result",
          "data": {
            "text/plain": [
              "       Category                                      Resume\n",
              "0  Data Science  Skills Programming Languages Python pandas\n",
              "1  Data Science               Education Details May 2013 to\n",
              "2  Data Science             Areas of Interest Deep Learning\n",
              "3  Data Science                    Skills R Python SAP HANA\n",
              "4  Data Science     Education Details MCA YMCAUST Faridabad"
            ],
            "text/html": [
              "\n",
              "  <div id=\"df-43c87e8c-f116-4c53-b907-0bc1f8d10182\">\n",
              "    <div class=\"colab-df-container\">\n",
              "      <div>\n",
              "<style scoped>\n",
              "    .dataframe tbody tr th:only-of-type {\n",
              "        vertical-align: middle;\n",
              "    }\n",
              "\n",
              "    .dataframe tbody tr th {\n",
              "        vertical-align: top;\n",
              "    }\n",
              "\n",
              "    .dataframe thead th {\n",
              "        text-align: right;\n",
              "    }\n",
              "</style>\n",
              "<table border=\"1\" class=\"dataframe\">\n",
              "  <thead>\n",
              "    <tr style=\"text-align: right;\">\n",
              "      <th></th>\n",
              "      <th>Category</th>\n",
              "      <th>Resume</th>\n",
              "    </tr>\n",
              "  </thead>\n",
              "  <tbody>\n",
              "    <tr>\n",
              "      <th>0</th>\n",
              "      <td>Data Science</td>\n",
              "      <td>Skills Programming Languages Python pandas</td>\n",
              "    </tr>\n",
              "    <tr>\n",
              "      <th>1</th>\n",
              "      <td>Data Science</td>\n",
              "      <td>Education Details May 2013 to</td>\n",
              "    </tr>\n",
              "    <tr>\n",
              "      <th>2</th>\n",
              "      <td>Data Science</td>\n",
              "      <td>Areas of Interest Deep Learning</td>\n",
              "    </tr>\n",
              "    <tr>\n",
              "      <th>3</th>\n",
              "      <td>Data Science</td>\n",
              "      <td>Skills R Python SAP HANA</td>\n",
              "    </tr>\n",
              "    <tr>\n",
              "      <th>4</th>\n",
              "      <td>Data Science</td>\n",
              "      <td>Education Details MCA YMCAUST Faridabad</td>\n",
              "    </tr>\n",
              "  </tbody>\n",
              "</table>\n",
              "</div>\n",
              "      <button class=\"colab-df-convert\" onclick=\"convertToInteractive('df-43c87e8c-f116-4c53-b907-0bc1f8d10182')\"\n",
              "              title=\"Convert this dataframe to an interactive table.\"\n",
              "              style=\"display:none;\">\n",
              "        \n",
              "  <svg xmlns=\"http://www.w3.org/2000/svg\" height=\"24px\"viewBox=\"0 0 24 24\"\n",
              "       width=\"24px\">\n",
              "    <path d=\"M0 0h24v24H0V0z\" fill=\"none\"/>\n",
              "    <path d=\"M18.56 5.44l.94 2.06.94-2.06 2.06-.94-2.06-.94-.94-2.06-.94 2.06-2.06.94zm-11 1L8.5 8.5l.94-2.06 2.06-.94-2.06-.94L8.5 2.5l-.94 2.06-2.06.94zm10 10l.94 2.06.94-2.06 2.06-.94-2.06-.94-.94-2.06-.94 2.06-2.06.94z\"/><path d=\"M17.41 7.96l-1.37-1.37c-.4-.4-.92-.59-1.43-.59-.52 0-1.04.2-1.43.59L10.3 9.45l-7.72 7.72c-.78.78-.78 2.05 0 2.83L4 21.41c.39.39.9.59 1.41.59.51 0 1.02-.2 1.41-.59l7.78-7.78 2.81-2.81c.8-.78.8-2.07 0-2.86zM5.41 20L4 18.59l7.72-7.72 1.47 1.35L5.41 20z\"/>\n",
              "  </svg>\n",
              "      </button>\n",
              "      \n",
              "  <style>\n",
              "    .colab-df-container {\n",
              "      display:flex;\n",
              "      flex-wrap:wrap;\n",
              "      gap: 12px;\n",
              "    }\n",
              "\n",
              "    .colab-df-convert {\n",
              "      background-color: #E8F0FE;\n",
              "      border: none;\n",
              "      border-radius: 50%;\n",
              "      cursor: pointer;\n",
              "      display: none;\n",
              "      fill: #1967D2;\n",
              "      height: 32px;\n",
              "      padding: 0 0 0 0;\n",
              "      width: 32px;\n",
              "    }\n",
              "\n",
              "    .colab-df-convert:hover {\n",
              "      background-color: #E2EBFA;\n",
              "      box-shadow: 0px 1px 2px rgba(60, 64, 67, 0.3), 0px 1px 3px 1px rgba(60, 64, 67, 0.15);\n",
              "      fill: #174EA6;\n",
              "    }\n",
              "\n",
              "    [theme=dark] .colab-df-convert {\n",
              "      background-color: #3B4455;\n",
              "      fill: #D2E3FC;\n",
              "    }\n",
              "\n",
              "    [theme=dark] .colab-df-convert:hover {\n",
              "      background-color: #434B5C;\n",
              "      box-shadow: 0px 1px 3px 1px rgba(0, 0, 0, 0.15);\n",
              "      filter: drop-shadow(0px 1px 2px rgba(0, 0, 0, 0.3));\n",
              "      fill: #FFFFFF;\n",
              "    }\n",
              "  </style>\n",
              "\n",
              "      <script>\n",
              "        const buttonEl =\n",
              "          document.querySelector('#df-43c87e8c-f116-4c53-b907-0bc1f8d10182 button.colab-df-convert');\n",
              "        buttonEl.style.display =\n",
              "          google.colab.kernel.accessAllowed ? 'block' : 'none';\n",
              "\n",
              "        async function convertToInteractive(key) {\n",
              "          const element = document.querySelector('#df-43c87e8c-f116-4c53-b907-0bc1f8d10182');\n",
              "          const dataTable =\n",
              "            await google.colab.kernel.invokeFunction('convertToInteractive',\n",
              "                                                     [key], {});\n",
              "          if (!dataTable) return;\n",
              "\n",
              "          const docLinkHtml = 'Like what you see? Visit the ' +\n",
              "            '<a target=\"_blank\" href=https://colab.research.google.com/notebooks/data_table.ipynb>data table notebook</a>'\n",
              "            + ' to learn more about interactive tables.';\n",
              "          element.innerHTML = '';\n",
              "          dataTable['output_type'] = 'display_data';\n",
              "          await google.colab.output.renderOutput(dataTable, element);\n",
              "          const docLink = document.createElement('div');\n",
              "          docLink.innerHTML = docLinkHtml;\n",
              "          element.appendChild(docLink);\n",
              "        }\n",
              "      </script>\n",
              "    </div>\n",
              "  </div>\n",
              "  "
            ]
          },
          "metadata": {},
          "execution_count": 54
        }
      ]
    },
    {
      "cell_type": "code",
      "execution_count": null,
      "metadata": {
        "id": "q-YbjCkzw0yU",
        "colab": {
          "base_uri": "https://localhost:8080/"
        },
        "outputId": "9c8d2135-aa64-4eeb-f4c2-81b434e8bd17"
      },
      "outputs": [
        {
          "output_type": "stream",
          "name": "stdout",
          "text": [
            "\u001b[K     |████████████████████████████████| 4.9 MB 4.8 MB/s \n",
            "\u001b[K     |████████████████████████████████| 497.9 MB 36 kB/s \n",
            "\u001b[K     |████████████████████████████████| 462 kB 58.2 MB/s \n",
            "\u001b[K     |████████████████████████████████| 1.4 MB 59.4 MB/s \n",
            "\u001b[K     |████████████████████████████████| 5.8 MB 59.5 MB/s \n",
            "\u001b[?25h"
          ]
        }
      ],
      "source": [
        "# A dependency of the preprocessing for BERT inputs\n",
        "#!pip install -q -U \"tensorflow-text==2.8.*\""
      ]
    },
    {
      "cell_type": "code",
      "execution_count": null,
      "metadata": {
        "id": "b-P1ZOA0FkVJ",
        "colab": {
          "base_uri": "https://localhost:8080/"
        },
        "outputId": "93fdc963-a0dc-4f75-bf79-79ff32f479d5"
      },
      "outputs": [
        {
          "output_type": "stream",
          "name": "stdout",
          "text": [
            "\u001b[K     |████████████████████████████████| 1.8 MB 5.2 MB/s \n",
            "\u001b[K     |████████████████████████████████| 118 kB 61.6 MB/s \n",
            "\u001b[K     |████████████████████████████████| 352 kB 63.5 MB/s \n",
            "\u001b[K     |████████████████████████████████| 43 kB 1.9 MB/s \n",
            "\u001b[K     |████████████████████████████████| 1.1 MB 41.3 MB/s \n",
            "\u001b[K     |████████████████████████████████| 238 kB 61.5 MB/s \n",
            "\u001b[K     |████████████████████████████████| 1.3 MB 54.8 MB/s \n",
            "\u001b[?25h  Building wheel for seqeval (setup.py) ... \u001b[?25l\u001b[?25hdone\n"
          ]
        }
      ],
      "source": [
        "#!pip install -q tf-models-official==2.7.0"
      ]
    },
    {
      "cell_type": "code",
      "execution_count": null,
      "metadata": {
        "id": "_XgTpm9ZxoN9"
      },
      "outputs": [],
      "source": [
        "import os\n",
        "import shutil\n",
        "\n",
        "import tensorflow as tf\n",
        "import tensorflow_hub as hub\n",
        "import tensorflow_text as text\n",
        "from official.nlp import optimization  # to create AdamW optimizer\n",
        "\n",
        "import matplotlib.pyplot as plt\n",
        "\n",
        "tf.get_logger().setLevel('ERROR')"
      ]
    },
    {
      "cell_type": "code",
      "execution_count": null,
      "metadata": {
        "id": "pOdqCMoQDRJL",
        "colab": {
          "base_uri": "https://localhost:8080/"
        },
        "outputId": "67dfb242-4281-45b4-9465-b1040692a345"
      },
      "outputs": [
        {
          "output_type": "stream",
          "name": "stdout",
          "text": [
            "Downloading data from https://ai.stanford.edu/~amaas/data/sentiment/aclImdb_v1.tar.gz\n",
            "84131840/84125825 [==============================] - 3s 0us/step\n",
            "84140032/84125825 [==============================] - 3s 0us/step\n"
          ]
        }
      ],
      "source": [
        "url = 'https://ai.stanford.edu/~amaas/data/sentiment/aclImdb_v1.tar.gz'\n",
        "\n",
        "dataset = tf.keras.utils.get_file('aclImdb_v1.tar.gz', url,\n",
        "                                  untar=True, cache_dir='.',\n",
        "                                  cache_subdir='')\n",
        "\n",
        "dataset_dir = os.path.join(os.path.dirname(dataset), 'aclImdb')\n",
        "\n",
        "train_dir = os.path.join(dataset_dir, 'train')\n",
        "\n",
        "# remove unused folders to make it easier to load the data\n",
        "remove_dir = os.path.join(train_dir, 'unsup')\n",
        "shutil.rmtree(remove_dir)"
      ]
    },
    {
      "cell_type": "code",
      "execution_count": null,
      "metadata": {
        "id": "6IwI_2bcIeX8",
        "colab": {
          "base_uri": "https://localhost:8080/"
        },
        "outputId": "8adb4589-c839-4f49-a77b-34680b32eb9f"
      },
      "outputs": [
        {
          "output_type": "stream",
          "name": "stdout",
          "text": [
            "Found 25000 files belonging to 3 classes.\n",
            "Using 20000 files for training.\n",
            "Found 25000 files belonging to 3 classes.\n",
            "Using 5000 files for validation.\n",
            "Found 25000 files belonging to 2 classes.\n"
          ]
        }
      ],
      "source": [
        "AUTOTUNE = tf.data.AUTOTUNE\n",
        "batch_size = 32\n",
        "seed = 42\n",
        "\n",
        "raw_train_ds = tf.keras.utils.text_dataset_from_directory(\n",
        "    'aclImdb/train',\n",
        "    batch_size=batch_size,\n",
        "    validation_split=0.2,\n",
        "    subset='training',\n",
        "    seed=seed)\n",
        "\n",
        "class_names = raw_train_ds.class_names\n",
        "train_ds = raw_train_ds.cache().prefetch(buffer_size=AUTOTUNE)\n",
        "\n",
        "val_ds = tf.keras.utils.text_dataset_from_directory(\n",
        "    'aclImdb/train',\n",
        "    batch_size=batch_size,\n",
        "    validation_split=0.2,\n",
        "    subset='validation',\n",
        "    seed=seed)\n",
        "\n",
        "val_ds = val_ds.cache().prefetch(buffer_size=AUTOTUNE)\n",
        "\n",
        "test_ds = tf.keras.utils.text_dataset_from_directory(\n",
        "    'aclImdb/test',\n",
        "    batch_size=batch_size)\n",
        "\n",
        "test_ds = test_ds.cache().prefetch(buffer_size=AUTOTUNE)"
      ]
    },
    {
      "cell_type": "code",
      "source": [
        " #CHECKIN 3\n",
        " print(train_ds)"
      ],
      "metadata": {
        "colab": {
          "base_uri": "https://localhost:8080/"
        },
        "id": "se69f8RYIpf7",
        "outputId": "e73fa274-ea95-4795-ad14-8a8ad986b5c1"
      },
      "execution_count": null,
      "outputs": [
        {
          "output_type": "stream",
          "name": "stdout",
          "text": [
            "<PrefetchDataset element_spec=(TensorSpec(shape=(None,), dtype=tf.string, name=None), TensorSpec(shape=(None,), dtype=tf.int32, name=None))>\n"
          ]
        }
      ]
    },
    {
      "cell_type": "code",
      "source": [
        " #CHECKIN 3\n",
        "len(raw_train_ds)\n",
        "#625\n",
        "\n",
        "#from documentation \n",
        "#https://www.tensorflow.org/datasets/overview\n",
        "raw_train_ds = raw_train_ds.take(1)  # Only take a single example\n",
        "\n",
        "for example in raw_train_ds:  # example is `{'image': tf.Tensor, 'label': tf.Tensor}`\n",
        "  print(example)\n"
      ],
      "metadata": {
        "colab": {
          "base_uri": "https://localhost:8080/"
        },
        "id": "IwiaySK3_3PV",
        "outputId": "89ec46a5-cb98-4d67-bca1-51083f604131"
      },
      "execution_count": null,
      "outputs": [
        {
          "output_type": "stream",
          "name": "stdout",
          "text": [
            "(<tf.Tensor: shape=(32,), dtype=string, numpy=\n",
            "array([b'\"Pandemonium\" is a horror movie spoof that comes off more stupid than funny. Believe me when I tell you, I love comedies. Especially comedy spoofs. \"Airplane\", \"The Naked Gun\" trilogy, \"Blazing Saddles\", \"High Anxiety\", and \"Spaceballs\" are some of my favorite comedies that spoof a particular genre. \"Pandemonium\" is not up there with those films. Most of the scenes in this movie had me sitting there in stunned silence because the movie wasn\\'t all that funny. There are a few laughs in the film, but when you watch a comedy, you expect to laugh a lot more than a few times and that\\'s all this film has going for it. Geez, \"Scream\" had more laughs than this film and that was more of a horror film. How bizarre is that?<br /><br />*1/2 (out of four)',\n",
            "       b\"David Mamet is a very interesting and a very un-equal director. His first movie 'House of Games' was the one I liked best, and it set a series of films with characters whose perspective of life changes as they get into complicated situations, and so does the perspective of the viewer.<br /><br />So is 'Homicide' which from the title tries to set the mind of the viewer to the usual crime drama. The principal characters are two cops, one Jewish and one Irish who deal with a racially charged area. The murder of an old Jewish shop owner who proves to be an ancient veteran of the Israeli Independence war triggers the Jewish identity in the mind and heart of the Jewish detective.<br /><br />This is were the flaws of the film are the more obvious. The process of awakening is theatrical and hard to believe, the group of Jewish militants is operatic, and the way the detective eventually walks to the final violent confrontation is pathetic. The end of the film itself is Mamet-like smart, but disappoints from a human emotional perspective.<br /><br />Joe Mantegna and William Macy give strong performances, but the flaws of the story are too evident to be easily compensated.\",\n",
            "       b'Great documentary about the lives of NY firefighters during the worst terrorist attack of all time.. That reason alone is why this should be a must see collectors item.. What shocked me was not only the attacks, but the\"High Fat Diet\" and physical appearance of some of these firefighters. I think a lot of Doctors would agree with me that,in the physical shape they were in, some of these firefighters would NOT of made it to the 79th floor carrying over 60 lbs of gear. Having said that i now have a greater respect for firefighters and i realize becoming a firefighter is a life altering job. The French have a history of making great documentary\\'s and that is what this is, a Great Documentary.....',\n",
            "       b\"It's boggles the mind how this movie was nominated for seven Oscars and won one. Not because it's abysmal or because given the collective credentials of the creative team behind it really ought to deserve them but because in every category it was nominated Prizzi's Honor disappoints. Some would argue that old Hollywood pioneer John Huston had lost it by this point in his career but I don't buy it. Only the previous year he signed the superb UNDER THE VOLCANO, a dark character study set in Mexico, that ranks among the finest he ever did. Prizzi's Honor on the other hand, a film loaded with star power, good intentions and a decent script, proves to be a major letdown.<br /><br />The overall tone and plot of a gangster falling in love with a female hit-man prefigures the quirky crimedies that caught Hollywood by storm in the early 90's but the script is too convoluted for its own sake, the motivations are off and on the whole the story seems unsure of what exactly it's trying to be: a romantic comedy, a crime drama, a gangster saga etc. Jack Nicholson (doing a Brooklyn accent that works perfectly for De Niro but sounds unconvincing coming from Jack) and Kathleen Turner in the leading roles seem to be in paycheck mode, just going through the motions almost sleepwalking their way through some parts. Anjelica Huston on the other hand fares better but her performance is sabotaged by her character's motivations: she starts out the victim of her bigot father's disdain, she proves to be supportive to her ex-husband, then becomes a vindictive bitch that wants his head on a plate.<br /><br />The colours of the movie have a washed-up quality like it was made in the early 70's and Huston's direction is as uninteresting as everything else. There's promise behind the story and perhaps in the hands of a director hungry to be recognized it could've been morphed to something better but what's left looks like a film nobody was really interested in making.\",\n",
            "       b'The concept of the legal gray area in Love Crimes contributes to about 10% of the movie\\'s appeal; the other 90% can be attributed to it\\'s flagrant bad-ness. To say that Sean Young\\'s performance as a so-called district attorney is wooden is a gross understatement. With her bland suits and superfluous hair gel, Young does a decent job at convincing the audience of her devout hatred for men. Why else would she ask her only friend to pose as a prostitute just so she can arrest cops who try to pick up on them? This hatred is also the only reason why she relentlessly pursues a perverted photographer who gives women a consensual thrill and the driving force behind this crappy movie. Watching Young go from frigid to full-frontal nudity does little to raise interest, but the temper tantrum she throws standing next to a fire by a lake does. Watching her rant and rave about her self-loathing and sexual frustration makes Love Crimes worth the rental fee, but it\\'s all downhill to and from there. Despite her urge to bring Patrick Bergin\\'s character to justice, her policing skills completely escape her in the throes of her own tired lust and passion. Patrick Bergin does a decent enough job as a slimy sociopath; if it worked in Sleeping With the Enemy it sure as hell can work in this. But I can\\'t help but wonder if the noticeable lack of energy Young brings to the film conflicts with his sliminess. I\\'m guessing it does and the result is a \"thriller\" with thrills that are thoroughly bad and yet comedic.',\n",
            "       b\"This flick reminds me some really bad science-fiction movies from 50's and 60's.It is not scary or interesting,but it's dull,cheesy and stupid.Special effects are laughable,all actors are ludicrous and the ending is simply awful.Don't waste your money,rent or buy something better.I give it 3.5 out of 10( I found this turkey quite amusing because of its stupidity).\",\n",
            "       b'Finally a thriller which omits the car chases, explosions and other eye catching effects. The movie combines a simple plot (assasination of a french president) with an excellent background. It takes a look behind mans behavior with authorities, and explains why we would obey almost every order (even murder) which would be given to us.<br /><br />Furthermore it shows us how secret services can manipulate the run of history and how hardly they can be controlled. The best thing on this movie is, that there is no classic \"Hollywood end\" which can easily be predicted.',\n",
            "       b\"I'm a Christian who generally believes in the theology taught in Left Behind. That being said, I think Left Behind is one of the worst films I've seen in some time.<br /><br />To have a good movie, you need to have a well-written screenplay. Left Behind fell woefully short on this. For one thing, it radically deviates from the book. Sometimes this is done to condense a 400-page novel down to a two-hour film, but in this film I saw changes that made no sense whatsoever.<br /><br />Another thing, there is zero character development. When characters in the story get saved (I won't say who), the book makes it clear that it's a long, soul-searching process. In the film it's quick and artificial. The book is written decently enough where people like Rayford Steele, Buck Williams and Hattie Durham seem real, but in the movie scenarios are consistently given the quick treatment without anything substantial. In another scene where one character gets angry about being left behind (again, I won't say who), it seems artificial.<br /><br />I realize as a Christian it's unedifying for me to say I disliked this film, but I can't in a good conscience recommend a film that I feel was horribly done. Perhaps it would've been better to make the first book into 2-3 films. Either way, Christians need to realize that to be taken seriously as filmmakers, we need to start by putting together a film in a quality way. I realize a lot of effort probably went into Left Behind, but that's the way I see it.\",\n",
            "       b'This effort is based on the true story of Jim Morris, a high school science teacher/baseball coach, who is inspired by his players to try out for the pros and fulfill his life-long dream of playing in the majors. Dennis Quaid, no stranger to sports films, plays Morris with enough conviction to make the part work and the producers do a credible job of recreating the real-world events that led to Morris brief stint as a relief pitcher for the woefull Tampa Bay Devil Rays. The first half of the film, dealing with his rag tag bunch of High School Baseball players (all of whom look way too old to actualy be in High School) is less effective and probably a bit too long. Overall the film does suffer from some pacing issues and a few extra subplots that we probably could have done without. However, it is still a fairly involving movie with an inspirational theme that proves once again that baseball is the national pastime for a reason. GRADE: B-',\n",
            "       b\"Live Feed is set in some unnamed Chinese/Japanese Asian district somewhere as five American friends, Sarah (Ashley Schappert), Emily (Taayla Markell), Linda (Caroline Chojnacki), Mike (Lee Tichon) & Darren (Rob Scattergood) are enjoying a night on the town & taking in the sights. After a scuffle in a bar with a Japanese Triad boss (Stephen Chang) they decide to check out a porno theatre, as you would. Inside they are separated & quickly find out that the place belongs to the Triad boss who uses it to torture & kill people for reasons which aren't made clear. Can local boy Miles (Kevan Ohtsji) save them?<br /><br />This Canadian production was co-written, produced & directed by Ryan Nicholson who also gets a prosthetic effects designer credit as well, one has to say that Live Feed is another pretty poor low budget shot on a camcorder type horror film that seems to exist only to cash in on the notoriety & success of Hostel (2005) & the mini craze for 'torture porn' as it's become known. According the IMDb's 'Trivia' section for Live Feed writer & director Nicholson wrote it after hearing about certain activities taking place in live sex theatres, for my money I reckon he wrote it after watching Hostel! The script is pretty poor, there is no basic reason given as to why this porno theatre has a big fat ugly freak dressed in bondage gear lurking around torturing & killing people, none. Was it for the Triads? Was it for his pleasure? Was it to make snuff films to sell? Some sort of explanation would have been nice. Also why did he turn on the Triad boss at the end? If your looking for a film with a coherent story then forget about Live Feed. It seemed to me to be some sort of uneasy misjudged mix of sex, S&M, horror, torture, gore & action films which doesn't come off. I mean just setting a horror film in a porn theatre isn't automatically going to make your film any good, there still needs to be a decent script & story, right? The character's were fairly poor clich\\xc3\\xa9s & some of their actions & motivations were more than a little bit questionable. It moves along at a reasonable pace, it's fairly sleazy mixing gore, sex & nudity but it does look cheap which lessens the effect.<br /><br />Director Nicholson doesn't do anything special here, the editing is choppy & annoying, he seems to think lighting almost every scene with neon lights is a good idea & the film has a cheap look about it. Available in both 'R' & 'Unrated' versions I saw the shorter cut 'R' version which really isn't that gory but I am prepared to give the benefit of the doubt to the 'Unrated' version & say that it might be much, much gorier but I can't say for sure. There's a fair amount of nudity too if that's your thing. I wouldn't say there's much of an atmosphere or many scares here because there isn't & aren't respectively although it does have a sleazy tone in general which is something it has going for it I suppose.<br /><br />Technically Live Feed isn't terribly impressive, the blood looks a little too watery for my liking & entire scenes bathed in annoying neon lights sometimes makes it hard to tell whats happening, it to often looks like it was shot on a hand-held camcorder & the choppy editing at least on the 'R' rated version is at times an annoying mess. Shot on location in an actual porn theatre somewhere in Vancouver in Canada. The acting is poor, sometimes I couldn't tell if the actresses in this were supposed to be crying or laughing...<br /><br />Live Feed is not a film I would recommend anyone to rush out & buy or rent, I didn't think much of it with it's very weak predictable storyline lacking exposition & which goes nowhere, poor acting & less than impressive gore (at least in the 'R' rated cut anyway). Watch either Hostel films again or instead as they are superior.\",\n",
            "       b\"It starts slowly, showing the dreary lives of the two housewives who decide to rent a castle in Italy for the month of April, but don't give up on it. Nothing much happens, but the time passes exquisitely, and there are numerous sly jokes (my favorite is the carriage ride in the storm, which I find hilarious). The movie is wonderfully romantic in many senses of the word, the scenery is beautiful (as is Polly Walker), and the resolutions in the movie are very satisfying.<br /><br />The movie takes a couple of liberties with the book, the biggest being with the Arbuthnot/Briggs/Dester business, but I actually preferred the movie's version of this (it may be more sentimental, but I felt that it was more consistent with the tone of the story, and anyway I like sentiment when it's well done).<br /><br />An excellent movie, especially as a date movie during lousy weather.\",\n",
            "       b\"An uninteresting addition to the stalk 'n slash cycle which dominated the horror genre in the 1980's. This was filmed as Pranks but released as The Dorm That Dripped Blood which is an obvious steal from the 1970 horror anthology The House That Dripped Blood. Daphne Zuniga is the only recognisable face in the cast and this was her first horror movie (she has also appeared in The Initiation and The Fly II).\",\n",
            "       b'There is so much that is wrong with this film, but to sum it up: Terrible acting- so bad it must have been on purpose. poor script - they may have had some good ideas but this was not the best way to present the story. ridiculously bad ending- in some cases the ending manages to save the film-not in this case. if you manage to sit through the entire film you will want to kick yourself at the end because the ending is not even worth waiting for. This is the worst film i have seen in a long time. It was complete torture sitting through this film, i would have appreciated someone warning me in advance. So do yourself a favor. Watch this film only if you have absolutely nothing better to do. Even then you will regret having put yourself through the unspeakable torture.',\n",
            "       b\"I agree with the above comment, I love the realism in this, and in many movies (not just movies on eating disorders) the producers seem to forget that. They take an every day problem and create a hugely dramatic scene and then come the end of the movie everything is perfect again, which I dislike because its not reality. Not meaning to say things can't get better, and not meaning to say things don't in this movie, but it doesn't spend most of the movie creating all these problems, and come the end of the movie everything is perfect again. When people have eating disorders people don't just admit it and want to get better, and then life is peachy, it takes time, and I like how in this movie we grow with the characters, we go through the difficulties with them, getting better and worse, because it is a very important part of the movie. It gets into the minds of people with eating disorders, and shows the complications and pain, in a very realistic way, and I loved that. I also love how it shows The secrecy and betrayal people feel when suffering from eating disorders, it is scary to see how people react when they find out, especially if they approve of it. I thought this movie was very touching and beautiful and well told, and defiantly one of my favourites.\",\n",
            "       b\"I came here for a review last night before deciding which TV movie to settle in front of, and those I found made this one look unmissable. How misled I feel!<br /><br />Firstly, it needs to be pointed out up front that this is very much a housewife's daytime movie. The performances are wooden, every sentence is an attempt at 'poignant' in the way that housewife's daytime movies and bad soap operas always are, and it is based in that predictable and well-trodden premise that men (particularly soldiers) are essentially violent and incompassionate. The whole movie is about the 'drama' apparent in the moments when the male characters threaten to develop a second dimension.<br /><br />If that sounds tolerable (or even enjoyable) to you, then be warned. Linda Hamilton's German accent, while quite good, is painfully distracting - as is her face, for some reason. The other performances are no doubt an enduring source of embarrassment to their perpetrators, with painfully thin and obvious characterizations being the order of the day. There are few surprises, but do watch for the 'Monty Pythonesque' endless supply of food and drink that miraculously appears from the hungry soldiers' knapsacks!<br /><br />I wasn't expecting action, but I had hoped for beautiful or textural or emotionally charged. What I got was a particularly bad Christmas 'feelgood' story that will have an intelligent audience cringing with the crapulence of it all.<br /><br />Watch it under the folowing circumstances: 1: There's nothing else on. 2: You are a fan of predictable 'housewife takes on men and wins' TV movies. 3: The only way you can appreciate a true story is when Hollywood turns it into a feature film. 4: You've imbibed enough nog that your emotions are easily stirred by unsophisticated storytelling.\",\n",
            "       b\"At first, I thought the Ring would be a more than normal movie with it's ordinary plot. How surprised was I! Of course, the plot is simple - one girl is in love with two men - but Hitchcock brings it to us on a silver platter, with laughter and fear, with compassion and anguish. The way he depicts the popular crowds of the fair, the strength of the attraction of the girl to both men, the tragic elements that come together with techniques that open the mind to most of his greatest movies(North by Northwest, the Rope, etc.). The master did it great even before his thirties!\",\n",
            "       b'I know the film snobs are snorting. But if you\\'re looking for a surprisingly fun ride through the B-movie jungle, try \"Jake Speed\".<br /><br />A little thin at times, but its one-liners and the location more then make up for this. John Hurt(God love him), seems to be having fun doing his role as the ultra evil white slaver. The nemesis of Crawfords, Jake Speed. He adds a dimension to the film that only a pro like Hurt could provide. Crawford and Dennis Christopher( Jakes sidekick) are a good team,although you do wonder why they both put up with each other.However ,together both Crawford and Christopher portray a team that is just so much fun that, if you can get over yourself for a moment, you may find yourself acting like a kid again at the situations and the inherent suspense they provide.The delicious Karen Kopins does a great job as the damsel in distress that is more concerned about the motives of her rescuer then her tormentor.<br /><br />I have yet to find a movie that is as much fun without getting preachy,or bogging down the movie by trying too hard. Not every movie has to be the latest \"Citizen Kane\". And trust me,Wells was an original. So lets remember that sometimes, movies are for fun.Not social commentary or attempting to sway an audience politically. But just for the sheer fun of being alive and living in a time when our hero\\'s live in a celluloid dimension.',\n",
            "       b\"Ahista Ahista is one little small brilliant. I started watching it, and at the beginning I got a little bored since the pacing was slow and the main idea of one guy meeting a girl who is lost was not really new. But as the film went on, I started getting increasingly and gradually engaged by the film, the fantastic writing and the charming romance. The film was extremely simple and natural and after some time I felt I was watching a real documentation of one guy's life. There's one very good reason the film got this feel, and it's the fresh talent called Abhay Deol. He is extremely convincing as the simple, kind-hearted and struggling Ankush, whose new love motivates him to make amends and fight for a better life. Throughout the film, he is presented as an ordinary mischievous prankster, but also as a helping and loving person, who, like anyone else will do anything to protect his love. Deol portrays all the different shades of his character, whether positive or negative, naturally and with complete ease.<br /><br />Shivam Nair's direction is very good. His depiction of the life of people in the rural neighbourhood is excellent, but what gets to be even more impressive is his portrayal of Ankush's relationships with the different people who surround him, including his friends and his love interest Megha who he is ready to do anything for. I also immensely liked the way Nair portrayed his interaction with his friend's loud and plump mother whom he calls 'khala' (aunty). He likes to drive her crazy and annoy her on every occasion, yet we see that she occupies a very special place in his heart and is like a mother-figure to him as evidenced in several scenes. Except for Abhay, the rest of the cast performed well. Though Soha Ali Khan did not stand out according to me, she was good and had some of her mother's charm. The actors who played Ankush's friends were very good as was the actress who played Ankush's 'khala'.<br /><br />Apart from the performances, the film's writing was outstanding. The dialogues were sort of ordinary yet brilliant, and the script was also fantastic. That's mainly because despite a not-so-new story it was never overdone or melodramatic and there were no attempts to make it look larger-than-life. The film's biggest weakness was Himesh Reshammiya's uninspiring music which was unsuitable for this film. Otherwise, Ahista Ahista was a delightful watch and it got only better with every scene. The concept may not be new, but the film manages to look fresh and becomes increasingly heartwarming as the story goes by. The ending was bittersweet, kind of sad yet optimistic. In short, this movie really grows on you slowly, and this can be easily attributed to the wonderful writing, the moving moments, the charming romance, the realistic proceedings, and of course Abhay Deol's memorable performance.\",\n",
            "       b\"This is another one of those movies that could have been great. The basic premise is good - immortal cat people who kill to live, etc. - sort of a variation on the vampire concept.<br /><br />The thing that makes it all fall apart is the total recklessness of the main characters. Even sociopaths know that you need to keep a low profile if you want to survive - look how long it took to catch the Unibomber, and that was because a family member figured it out.<br /><br />By contrast, the kid (and to a lesser extent, the mom) behave as though they're untouchable. The kid kills without a thought for not leaving evidence or a trail or a living witness. How these people managed to stay alive and undiscovered for a month is unbelievable, let alone decades or centuries.<br /><br />It's really a shame - this could have been so much more if it had been written plausibly, i.e., giving the main characters the level of common sense they would have needed to get by for so long.<br /><br />Other than that, not a bad showing. I loved the bit at the end where every cat in town converges on the house - every time I put out food on the porch and see our cats suddenly rush in from wherever they were before, I think of that scene.\",\n",
            "       b'I was looking through the movie listings in my area on yahoo and seen a movie that had not been advertised. I looked closer and noticed that Peter Falk and Paul Reiser were in it. Having watched \"Mad about you\", once, I was not a fan of Paul Reiser. However, I am a big fan of Peter Falk. So the spouse and I took a chance. We were both swept into this story. The beautiful scenery, the heartfelt acting and the sense of family and moral values that are seldom seen in movies and the world today. Not that sappy emoted junk, but real life situations from real life-like people. I even have to say, Paul Reiser was excellent, although, I still won\\'t watch \"Mad about you\". I don\\'t know where this movie has gone. I heard it was put out in limited release. It should be shared with the world. It is one of the finest movies I have seen. M.',\n",
            "       b\"This is one of those cheaply made TV Movies were the characters seem to lose all sense. The premise of the story, the kidnapping of a son by the boy's father,is very good. But the story just seems to beggar belief. Whenever the mother is advised not to do anything you know fine well she is going to do it. It is a bit far fetched and not worthy of a viewing.\",\n",
            "       b'Great movie - especially the music - Etta James - \"At Last\". This speaks volumes when you have finally found that special someone.',\n",
            "       b\"I am shocked. Shocked and dismayed that the 428 of you IMDB users who voted before me have not given this film a rating of higher than 7. 7?!?? - that's a C!. If I could give FOBH a 20, I'd gladly do it. This film ranks high atop the pantheon of modern comedy, alongside Half Baked and Mallrats, as one of the most hilarious films of all time. If you know _anything_ about rap music - YOU MUST SEE THIS!! If you know nothing about rap music - learn something!, and then see this! Comparisons to 'Spinal Tap' fail to appreciate the inspired genius of this unique film. If you liked Bob Roberts, you'll love this. Watch it and vote it a 10!\",\n",
            "       b\"when my sister said this movie was gonna be good i had second thoughts but i watched it and it was actually funny. basically the movie is made of a weird girl who goes to a small town where no one likes her and she just wants to go there and get the reading of her aunts will don so she can go. but its not all that easy. In this movie you will come across hilarious humor, a witch, a book of spells/recopies, a mentally challenged uncle and a dog. You will understand the meaning of the word freak a after anyways i hope you run right out and try to find this really old movie. hope you like it in total i will have to give it a 0.... no I'm totally joking ill give it a 9 hope you understand that you will laugh, you will scream and you may just be offended.<br /><br />love yours truly: Dakota you can email me at dakota_loves_it@hot mail.com if you wanna\",\n",
            "       b'From the very opening scene you will notice just how hard they tried to mimic the very smart and powerful \\'Cruel Intentions\\', and how flat it landed. You\\'ll also notice what a terrible choice they made by casting Robin Dunne as Valmont... Then in the second scene, you meet the two best things in this movie, Amy Adams and Mimi Rogers as Kathryn and her mother. That is, if you can get past the fact that Kathryn wasn\\'t blonde in the first film... Then the movie goes on, you see the cheap romantic story from miles ago, and you notice Sebastian has already met an Anette in the past, here called Danielle, and a Cecile, here called Cherie... How original is that for a prequel. Then it turns into a low budget \\'Wild Things\\' type of film with lots and lots of oh-my \"twists\". As I mentioned, Robin Dunne was a very bad choice. Not that he is a bad actor, he\\'s good.. He just doesn\\'t have the charisma Ryan did. Amy Adams, who is in my opinion one of the most talented young actresses of our time, once again delivers. But with all the talent in the world, there is no way one could save this trash. As a whole, this \"movie\" feels like a \\'Beverly Hills, 90210\\' episode. The score has been stolen from \\'Cruel Intentions\\' and \\'Jawbreaker\\'... Yes, they used the score from JAWBREAKER... Couldn\\'t they at least leave that one alone?! You\\'ll want to pass this one. If you want more Cruel Intentions, watch Stephen Frears\\' Dangerous Liaisons.',\n",
            "       b\"Being a fan of silent films, I looked forward to seeing this picture for the first time. I was pretty disappointed. <br /><br />As has been mentioned, the film seems to be one long, long, commercial for the Maxwell automobile. <br /><br />Perhaps if the chase scene was about half the length that it is, I may have enjoyed the film more. But it got old very fast. And while I recognize that reality is stretched many times in films, without lessening a viewer's enjoyment, what was with the Mexican bandits? I mean, they are chasing a car through the mountains, a car that most of the time is moving at about one mile per hour, yet they can't catch up to it?\",\n",
            "       b'Mr Perlman gives a standout performance (as usual). Sadly, he has to struggle with an underwritten script and some nonsensical set pieces.<br /><br />Larsen is in \"Die Hard\" mode complete with singlet and bulging muscles, I\\'m sure he could do better but seems satisfied to grimace and snarl through his part.<br /><br />The lovely Erika is very decorative (even though fully clothed!) and shows some signs of \"getting\" acting at last.<br /><br />SFX are mainly poor CGI and steals from other movies.<br /><br />The shootouts are pitiful - worthy of the A-Team<br /><br />Not even worth seeing for Perlman - AVOID',\n",
            "       b\"A lot of the problem many people have with this movie is that they seem to think that the story should have been more entertaining (ignoring it is based on a true story) or ranting against a film that glorifies Che (which it really doesn't). This film is very close to Jon Anderson's definitive bio on Che and gets the story right. Soderburgh does an excellent job of setting the mood for the unraveling debacle that was Che's Bolivian adventure. You really get the impression of the total timidity and bewilderment of the Bolvian peasant to Che's revolutionary ideas or of the difficulties that his men faced with hunger and the terrain. Sorry to bore the attention challenged movie fan out there but that was how it happened. So don't go into this movie expecting a Rambo shoot em up, its a true story!\",\n",
            "       b'<br /><br />Ok, well I rented this movie while I was bed ridden hopped up on pain killers, and let me say, It didn\\'t help the film any.<br /><br />The film is about a man who buys a car as he is going through a midlife crisis, he loves the car more than anything around him, one day his wife decides to borrow the car. Since I don\\'t want to spoil (not that there was anything to spoil) I shall let your imagination figure out the \"Zany\" (and I use that word lightly) antics that follow.<br /><br />I had to fight to stay awake through this snore a minute sleeper of a film, and I would like to say that if you are venturing to the movie store and are thinking about being adventurous, please don\\'t, it\\'s a waste of the film it was printed on.<br /><br />Then again I could be wrong...',\n",
            "       b'This picture seemed way to slanted, it\\'s almost as bad as the drum beating of the right wing kooks who say everything is rosy in Iraq. It paints a picture so unredeemable that I can\\'t help but wonder about it\\'s legitimacy and bias. Also it seemed to meander from being about the murderous carnage of our troops to the lack of health care in the states for PTSD. To me the subject matter seemed confused, it only cared about portraying the military in a bad light, as A) an organzation that uses mind control to turn ordinary peace loving civilians into baby killers and B) an organization that once having used and spent the bodies of it\\'s soldiers then discards them to the despotic bureacracy of the V.A. This is a legitimate argument, but felt off topic for me, almost like a movie in and of itself. I felt that \"The War Tapes\" and \"Blood of my Brother\" were much more fair and let the viewer draw some conclusions of their own rather than be beaten over the head with the film makers viewpoint. F-',\n",
            "       b\"I have to say I totally loved the movie. It had it's funny moments, some heartwarming parts, just all around good. Me, personally, really liked the movie because it's something that finally i can relate to my childhood. This movie, in my opinion, is geared more towards the young gay population. It shows how a young gay boy would be treated while growing up. All the taunting, name-calling, and not knowing is something I, like most other young feminine boys, will always remember, and now finally a movie that illustrates how hard it really is to grow up gay. So, I would definitely recommend seeing this movie. Probably shouldn't really watch it until a person is old and mature enough to understand it\",\n",
            "       b\"Nobody said movies had to be realistic did they? I really liked this movie because I remember when I first saw it in junior high. For all the kids who remember the PMRC and albums before there were warning stickers, it's a cool story for all those kids who were part of the mid to late 80's headbanger crowd.\"],\n",
            "      dtype=object)>, <tf.Tensor: shape=(32,), dtype=int32, numpy=\n",
            "array([0, 0, 1, 0, 0, 0, 1, 0, 1, 0, 1, 0, 0, 1, 0, 1, 1, 1, 0, 1, 0, 0,\n",
            "       1, 1, 0, 0, 0, 1, 0, 0, 1, 1], dtype=int32)>)\n"
          ]
        }
      ]
    },
    {
      "cell_type": "code",
      "source": [
        " #CHECKIN 3\n",
        "#looks like I need 2x tensors arrays of size 32, each with 1 array for text and a second array for encodings\n",
        "#figuring out what b' means\n",
        "for example in raw_train_ds:  # example is `{'image': tf.Tensor, 'label': tf.Tensor}`\n",
        "  print(example[0])"
      ],
      "metadata": {
        "colab": {
          "base_uri": "https://localhost:8080/"
        },
        "id": "V1Om5tdwGBc6",
        "outputId": "c264163e-31d1-4b3d-cf3e-99c3cfc85844"
      },
      "execution_count": null,
      "outputs": [
        {
          "output_type": "stream",
          "name": "stdout",
          "text": [
            "tf.Tensor(\n",
            "[b\"Having seen most of Ringo Lam's films, I can say that this is his best film to date, and the most unusual. It's a ancient china period piece cranked full of kick-ass martial arts, where the location of an underground lair full of traps and dungeons plays as big a part as any of the characters. The action is fantastic, the story is tense and entertaining, and the set design is truely memorable. Sadly, Burning Paradise has not been made available on DVD and vhs is next-to-impossible to get your mitts on, even if you near the second biggest china-town in North America (like I do). If you can find it, don't pass it up.\"\n",
            " b'Caution: May contain spoilers...<br /><br />I\\'ve seen this movie 3 times & I\\'ve liked it every time. Upon seeing it again, I\\'m always reminded of how good it is. An HBO TV movie- very well done like most of their movies are- this would\\'ve gotten Oscars for it\\'s performances had it been released for general distribution instead of made for TV.<br /><br />As I\\'m sure anyone knows from reading other reviews here, this is the story of serial murderer, Andrei Chikatilo. He murdered 56 people over 8 years in the former Soviet Union. (3 victims were buried & couldn\\'t be found so he was only convicted of 52 out of 53 of his murders.) The story actually focuses more on the forensic analyst, Victor Burakov played to perfection by Stephen Rea. A man that becomes tortured and obsessed with finding this killer despite the additional obstacles placed by party hacks, his part is essential to be sure. There is a very touching scene towards the end of the movie that mentions how in America, investigators are routinely taken off serial killer cases after 18 months whether they want to or not due to the mental strain & frustration. According to this acct, Burakov worked for over 5 years before getting his first break from it. He followed the case to its conclusion, 3 years later. In this scene, his superior, General Fetisov, played by Donald Sutherland, actually tells him he admires his dedication and apologizes for not knowing he should\\'ve given him a break sooner.<br /><br />Rea\\'s performance is so well done, he doesn\\'t overact, chew up the scenery or do anything that distracts from his portrayal of a man who is hell bent on finding his killer. He is a man with passion, but doesn\\'t show it in the same manner as is so usually portrayed in detective movies. He only occasionally gives outbursts after quietly putting up with more than most could stand under such circumstances. Rea does so much with his face, his eyes, he doesn\\'t need to overact. He just *is* - His character, so frustrated after so long, at one point, driven to frustration, he actually says he\\'d rather find 3 at one time than none in a year. Of course what he means is not that he wants more people to die, he just wants some clues to catch this man. Rea makes us feel for this man. He makes us understand but a glimpse of what it is to live with such horror and futility.<br /><br />A mutant to be sure, Chikatilo\\'s childhood was one which produces such \"monsters.\" The character of Chikatilo is very well done by Jeffrey DeMunn. He somehow (impossible though it may seem) elicits some modicum of sympathy for himself. Perhaps he is the worst of us gone terribly wrong? Either way, his performance is very well done.<br /><br />Donald Sutherland as Colonel Fetisov (later promoted to General) also does a great job. He starts out seeming to be a cynical worldly official that doesn\\'t seem much more interested in helping the investigation than anyone else blocking Burakov. But he eventually becomes more than just an assistant, he actually actively participates in helping Burakov. There is also a very nice turn by Max Von Sydow as the psychiatrist brought in to help profile and figure out what kind of deviant they are looking for.<br /><br />Although this movie deals with a morbid, grotesque and violent story, it really is more about what it takes to catch a killer than the killer himself. All around a very well done movie with fine performances and a great screenplay. The screenplay manages to do what the best of this type of movie does: give factual events & place them meaningfully inside a dramatic framework that makes you feel like you know the people *behind* the facts.<br /><br />9 out of 10 stars'\n",
            " b\"from the view of a NASCAR Maniac like I am, the movie is interesting. You can see many race cars from 1983. Even tough, the racing scenes are not that much realistic. But I have to admit, that I haven't seen any race before 1995, because before that time, they didn't show any NASCAR races in Germany)<br /><br />from the view of a Burt Reynolds fan like I am, the movie basically is what we are used to see from Reynolds in the 80's: Burt behind the wheel of a fast car, like in his Bandit Movies.<br /><br />If you love NASCAR and Burt Reynolds, this movie is a must-see. If you only love one of this 2 things, I also recommend to watch it. If you like neither NASCAR nor Burt Reynolds, you still should give it a chance, but remember, this movie was far away from winning an Oscar Academy Award.<br /><br />It is the typical humor of the 80's. If you like movies like the Cannonball Movies, and Police Academy, you will also like that one.\"\n",
            " b'When it first came out, this work by the Meysels brothers was much criticized and even judged to be exploitation. Luckily, it is now hailed as a masterpiece of documentary cinema, especially now that society has been exposed to real exploitation in what is reality television, and the bad evolution of most direct cinema.<br /><br />Really, at first, we must say that this isn\\'t really direct cinema, it is more cinema verit\\xc3\\xa9. The difference between the two is very slight, but it mainly is the fact that in this documentary, we are made to feel the presence of the Meysels brothers, and they do interact with the characters filmed. This as well makes it clear that it is not exploitation. The Meysels have been allowed in the house, and they are included in what is a very eccentric situation of a very eccentric household. And both Edith and Edie just love the idea of being filmed.<br /><br />It would have been very disappointing had very been shown only a voice of God narration and shallow interviews. Here, we are given a full portrait of the madness of the house, a madness that does seem to go down well with both Edie and her mother Edith. Their house is a mess, litter and animals everywhere, faded colors and furniture all over the house, and the constant fights that are constant interactions of reality. These two people have lived with each other their whole life, and are not fighting in front of the camera because they want the attention, but rather because they can\\'t help talking to each other this way. They know each other too well to hide their inner feelings, there is no need. In the end, though, even as they blame each other for their lives, they really love each other deeply. Edie says she doesn\\'t want her mother to die, because she loves her very much, and Edith says that she doesn\\'t want Edie to leave her because she doesn\\'t want to be alone.<br /><br />But the most interesting aspect of the film is that regardless of their old age, the two women can\\'t help be girls. They cannot help being one the singer, the other the dancer. Exhibit all their artistic skills in front of their camera. When Edie asks David Meysels rhetorically \"Where have you been all my life?\" she is really very happy that she finally gets to show the whole world herself and her wonderful showgirls skills. A beautiful portrait of stylistic importance and a charm that is highly unlikely to be ever seen again, the way only the Meysels and few others could do.'\n",
            " b\"I thought that this was an absolutely charming movie centering around the lives of Mary-Kate's and Ashley's characters Sam and Emma Stanton! They are both trying to make both themselves and their parents happy but; unfortunately, it's just not that easy for them to actually do! I thought that this was an utterly charming and sweet movie and if you are a real fan of these marvelous young ladies then I'm sure that you'll agree with me here! If you haven't seen this movie yet then I say you really missed-out; big time, and that you should definitely take the time out to see it now! This movie is a real winner! Sincerely, Rick Morris\"\n",
            " b\"The filming is pleasant and the environment is keenly realistic. I liked that it boldly redresses conceptions of the many difficult moral and social morays of the 1930's Chinese-mainland countryside as well as more basic human questions - I felt I could get a real sense of the times, recreated even in splendid shots of traditional Chinese theatre and in purist depictions of street living. It seemed worthwhile to experience. The interwoven role which Buddhism plays is probably the most true-to-form - both in its menial and in its philosophic aspect, perhaps the most effective that I've seen in Chinese film. Casting is great. Images are memorable. Acting is solid enough. Thematically puerile but still rich enough to compliment the vehicle of its expression.\"\n",
            " b\"This is one of those cheaply made TV Movies were the characters seem to lose all sense. The premise of the story, the kidnapping of a son by the boy's father,is very good. But the story just seems to beggar belief. Whenever the mother is advised not to do anything you know fine well she is going to do it. It is a bit far fetched and not worthy of a viewing.\"\n",
            " b'Great movie - especially the music - Etta James - \"At Last\". This speaks volumes when you have finally found that special someone.'\n",
            " b'This film is not even worth walking to the movie theatre. No jokes, but stupid and boring laughing on repeated disgusting stuff. The music and the girls are great, unfortunately you have to watch the whole movie to enjoy them. It was weak, very very weak.'\n",
            " b\"For me, this movie just seemed to fall on its face. The main problem for me was the casting of Glover as a serial killer. I don't know whether this grows out of type-casting or simply his demeanor, but I doubt Glover could ever portray a convincing villain. He's a good guy, and that's always obvious in his performances. Other than that the film is your run of the mill serial killer story. Nothing very innovative .\"\n",
            " b'William Powell is a doctor dealing with a murder and an ex-wife in \"The Ex-Mrs. Bradford,\" also starring Jean Arthur, Eric Blore, and James Gleason. It seems that Powell had chemistry going with just about any woman with whom he was teamed. Though he and Myrna Loy were the perfect screen couple, the actor made a couple of other \"Thin Man\" type movies, one with Ginger Rogers and this one with Arthur, both to very good effect.<br /><br />Somehow one never gets tired of seeing Powell as a witty, debonair professional and \"The Ex-Mrs. Bradford\" is no exception. The ex-Mrs. B has Mr. B served with a subpoena for back alimony and then moves back in to help him solve a mystery that she\\'s dragged him into. And this isn\\'t the first time she\\'s done that! It almost seems as though there was a \"Bradford\" film before this one or that this was intended to be the first of a series of films - Mr. B complains that his mystery-writer ex is constantly bringing him into cases. This time, a jockey riding the favorite horse in a raise mysteriously falls off the horse and dies right before the finish line.<br /><br />The solution of the case is kind of outlandish but it\\'s beside the point. The point is the banter between the couple and the interference of the ex-Mrs. B. Jean Arthur is quite glamorous in her role and very funny. However, with an actress who comes off as brainy as Arthur does, the humor seems intentional rather than featherbrained. I suspect the writer had something else in mind - say, the wacky side of Carole Lombard. When Arthur hears that the police have arrived, she says, \"Ah, it\\'s probably about my alimony. I\\'ve been waiting for the police to take a hand in it,\" it\\'s more of a rib to Powell rather than a serious statement. It still works well, and it shows how a good actress can make a part her own.<br /><br />Definitely worth watching, as William Powell and Jean Arthur always were.'\n",
            " b\"I agree with the above comment, I love the realism in this, and in many movies (not just movies on eating disorders) the producers seem to forget that. They take an every day problem and create a hugely dramatic scene and then come the end of the movie everything is perfect again, which I dislike because its not reality. Not meaning to say things can't get better, and not meaning to say things don't in this movie, but it doesn't spend most of the movie creating all these problems, and come the end of the movie everything is perfect again. When people have eating disorders people don't just admit it and want to get better, and then life is peachy, it takes time, and I like how in this movie we grow with the characters, we go through the difficulties with them, getting better and worse, because it is a very important part of the movie. It gets into the minds of people with eating disorders, and shows the complications and pain, in a very realistic way, and I loved that. I also love how it shows The secrecy and betrayal people feel when suffering from eating disorders, it is scary to see how people react when they find out, especially if they approve of it. I thought this movie was very touching and beautiful and well told, and defiantly one of my favourites.\"\n",
            " b'I vaguely remember Ben from my Sci-Fi fandom days of the \\'60s, I was doing several interviews & bios of obscure actors/actresses, most notably Ben, actress Fay Spain, and Jody Fair, who played Angela in 1961\\'s The Young Savages. Ben was one of the people at a low-key Sci-Fi con in Chicago, about 1970, when I had a nice chat with him and his \"career\" and life. All these were published in some now-long-forgotten fanzine of the day. Wish I still had copies of those interviews, but time marches on, and any of those people surely wouldn\\'t\\' remember me at all so many years later. Ben was a really nice fellow, ekeing out a living (The cons of those days didn\\'t even pay their guest, unless, of course they were big-name stars, and even then the pay was a couple hundred dollars, at most! Good to know Ben\\'s still alive & kicking! How \\'bout a remake of Creature, but 50 years older! Ugly then, uglier now!'\n",
            " b'Every scene was put together perfectly.This movie had a wonderful cast and crew. I mean, how can you have a bad movie with Robert Downey Jr. in it,none have and ever will exist. He has the ability to brighten up any movie with his amazing talent.This movie was perfect! I saw this movie sitting all alone on a movie shelf in \"Blockbuster\" and like it was calling out to me,I couldn\\'t resist picking it up and bringing it home with me. You can call me a sappy romantic, but this movie just touched my heart, not to mention made me laugh with pleasure at the same time. Even though it made me cry,I admit, at the end, the whole movie just brightened up my outlook on life thereafter.I suggested to my horror, action, and pure humor movie buff of a brother,who absolutely adored this movie. This is a movie with a good sense of feeling.It could make you laugh out loud, touch your heart, make you fall in love,and enjoy your life.Every time you purposefully walk past this movie, just be aware that you are consciously making the choice to live and feel this inspiring movie.Who knows? What if it could really happen to you?, and keep your mind open to the mystical wonders of life.'\n",
            " b'Definitely the worst movie I have ever seen... Can somebody tell me where should have I laughed? There\\'s not a single hint or shadow of an idea. The three leading actors are pestilential, especially the one (I think it\\'s Aldo) from Sicily who _can\\'t_ make a Sicilian accent!!! Not to say about the dream-like insertion about Dracula... just another expedient, drawn from the worst cabaret tradition, to make this \"film\" last a little longer. Massironi and Littizzetto do what they can, but this so-called movie was really too, too hard to rescue. I would have given it \"0\"/10, but the lowest mark was 1/10 and so I had to overestimate it by one mark.'\n",
            " b'Silent Night, Deadly Night 5 is the very last of the series, and like part 4, it\\'s unrelated to the first three except by title and the fact that it\\'s a Christmas-themed horror flick.<br /><br />Except to the oblivious, there\\'s some obvious things going on here...Mickey Rooney plays a toymaker named Joe Petto and his creepy son\\'s name is Pino. Ring a bell, anyone? Now, a little boy named Derek heard a knock at the door one evening, and opened it to find a present on the doorstep for him. Even though it said \"don\\'t open till Christmas\", he begins to open it anyway but is stopped by his dad, who scolds him and sends him to bed, and opens the gift himself. Inside is a little red ball that sprouts Santa arms and a head, and proceeds to kill dad. Oops, maybe he should have left well-enough alone. Of course Derek is then traumatized by the incident since he watched it from the stairs, but he doesn\\'t grow up to be some killer Santa, he just stops talking.<br /><br />There\\'s a mysterious stranger lurking around, who seems very interested in the toys that Joe Petto makes. We even see him buying a bunch when Derek\\'s mom takes him to the store to find a gift for him to bring him out of his trauma. And what exactly is this guy doing? Well, we\\'re not sure but he does seem to be taking these toys apart to see what makes them tick. He does keep his landlord from evicting him by promising him to pay him in cash the next day and presents him with a \"Larry the Larvae\" toy for his kid, but of course \"Larry\" is not a good toy and gets out of the box in the car and of course, well, things aren\\'t pretty.<br /><br />Anyway, eventually what\\'s going on with Joe Petto and Pino is of course revealed, and as with the old story, Pino is not a \"real boy\". Pino is probably even more agitated and naughty because he suffers from \"Kenitalia\" (a smooth plastic crotch) so that could account for his evil ways. And the identity of the lurking stranger is revealed too, and there\\'s even kind of a happy ending of sorts. Whee.<br /><br />A step up from part 4, but not much of one. Again, Brian Yuzna is involved, and Screaming Mad George, so some decent special effects, but not enough to make this great. A few leftovers from part 4 are hanging around too, like Clint Howard and Neith Hunter, but that doesn\\'t really make any difference. Anyway, I now have seeing the whole series out of my system. Now if I could get some of it out of my brain. 4 out of 5.'\n",
            " b'Great documentary about the lives of NY firefighters during the worst terrorist attack of all time.. That reason alone is why this should be a must see collectors item.. What shocked me was not only the attacks, but the\"High Fat Diet\" and physical appearance of some of these firefighters. I think a lot of Doctors would agree with me that,in the physical shape they were in, some of these firefighters would NOT of made it to the 79th floor carrying over 60 lbs of gear. Having said that i now have a greater respect for firefighters and i realize becoming a firefighter is a life altering job. The French have a history of making great documentary\\'s and that is what this is, a Great Documentary.....'\n",
            " b'The Western society has been fed ideas about India being a poor country. Movies like these only make those beliefs stronger. Such illustrations make it all the more difficult for Indians to be accepted abroad. Agreed there are poor and homeless in India, but why is there no representation of educated people if not the successful ones.<br /><br />I totally hated the idea of the movie portraying Patrick Swayze as another Mother Teressa. In my opinion this movie has shown India in a very bad light giving wrong notions. It is unjust to discuss only one aspect of the society. Exactly the reason why people ask me, \"When we go to India, can we hire an elephant right outside the airport so we do not have to walk on the roads so full of filth and snakes?\"<br /><br />Those who want a second opinion on contemporary Indian society should watch \"Monsoon Wedding\".'\n",
            " b\"What else can you say about this movie,except that it's plain awful.Tina Louise and Adam West are the reasons why to see this,but,that's it,but their talents are wasted in this junk.I think that they used a double in some of Adam's scenes,like when he's running because you can't see his face.If Adam was embarrassed in being in Zombie Nightmare,just think what he must've felt about appearing in this??? If it was before or after,I'm not sure,but,still,Zombie Nightmare is a classic(check out the Mystery Science Theater 3000 version first and last)compared to this.The gang is very annoying and over-acting by some of the actors.A rip-off of The Wild One starring Marlon Brando,of course.Tina looks stunning though.I hope her and Adam got a good paycheck!! Pass!\"\n",
            " b'I saw the description of the movie on TCM and only let it run because I like both Peter Ustinov and Maggie Smith, so I was delightfully surprised to find that I really liked the movie and found it quite exceptional. Of course, it is seriously dated, but as a period piece it is well worth watching just for the subtle humour in insight into life and lifestyle almost forty years ago. Now the only problem is trying to find it on DVD so I can watch it more often. I also was quite taken with the performances of Smith and Ustinov as the leads, and of Karl Malden, Bob Newhart, and the cameo appearances by Robert Morley and Cesar Romero.'\n",
            " b\"Like most people, i was drawn to buy this film because of the pictures of the mighty Bolo Yeung plastered all over the box, and the assumption (from the aforementioned pictures and the title of the film) that this film is all about the Beast from the East kickin' ass for 90 minutes.<br /><br />However, to my disappointment, Chinese Hercules is to Bolo Yeung what No Retreat No Surrender was to Jean Claude Van Damme and Fearless Tiger was to... erm, Bolo Yeung - maximum exposure on video box, minimum actual screen-time! Oh well! <br /><br />The storyline is pretty basic stuff, but it was well done - peaceful kung fu fighter (played by Chen Hui Min) accidentally kills a man and promises never to fight again. He then runs away to work as a labourer on a pier where he impresses his co-workers with his heavy sack lifting prowess, causing them to suspect him to be a formidable fighter (dont quite know how that works but never mind). Meanwhile, the corrupt boss of the pier does a deal with gangsters, giving them exclusive use of the pier. As a result, the workers are thrown out on their ear and forced to live on the beach, where they unite against their boss, the gangster boss, and his hulking henchman Bolo Yeung.<br /><br />While the film was quite watchable (mainly through waiting for the next glimpse of Bolo), i had a few problems with it - firstly, the bad dubbing, but of course thats a given in old kung fu films. But also, the film tended to drag between the various fight-scenes. And as for the fight scenes themselves, i found them to be over-long, badly choreographed (apparently by Jackie Chan!), badly shot and at times performed by people who didn't seem to have any martial arts ability.... in fact, most of the fights in this film weren't 'fights' at all, just people getting beaten up without offering any resistance!<br /><br />Finally, the hero - played by Chen Hui Min. I've never seen any other films with this guy in, but at no point was i rooting for him. Not only did he look wimpy and on the verge of tears at all times, but i found his insistence on not fighting infuriating! I understood his reasoning, but he could have saved a lot of people a lot of pain if he had done earlier what we all knew he was gonna do eventually, and fight! A bigger mystery was why this entire community of people were pinning their hopes on a guy they've never even seen fight! <br /><br />Really, the big saving grace in this film was the presence of Bolo Yeung. Not only is he as huge and brutal as ever, he has some great, funny lines and gives the rest of the cast a master-class on how to fight on film. The guy oozes screen presence and you can easily see how he became a star. The guy scares the life out of me, but i'm sure i wasn't the only person to have watched this film who was rooting for Bolo all through the end fight! <br /><br />All in all then, a below-average kung-fu film lifted several huge notches due to you-know-who. I've never met a person who didn't think Bolo Yeung was great. The man's a legend!!\"\n",
            " b'I had numerous problems with this film.<br /><br />It contains some basic factual information concerning quantum mechanics, which is fine. Although quantum physics has been around for over 50 years, the film presents this information in a grandiose way that seems to be saying: \"Aren\\'t you just blown away by this!\" Well, not really. These aren\\'t earth shattering revelations anymore. At any rate, I was already familiar with quantum theory, and the fact that particles have to be described by wave equations, etc. is not new.<br /><br />The main problem I have with this movie, however, is the way these people use quantum theory as a way of providing a scientific basis for mysticism and spiritualism. I don\\'t have any serious problem with mysticism and spiritualism, but quantum mechanics doesn\\'t really have anything to do with these things, and it should be kept separate. The people they interviewed for this movie start with the ideas of quantum theory and then make the leap to say that simply by thinking about something you can alter the matter around you, hence we should think positively so as to have a positive impact on the world and make our lives better. The reasoning is completely ridiculous, and the conclusions do not logically follow from quantum theory. For every so called \"expert\" that they interviewed for this film, there are scores of theoretically physicists who would completely disagree. They would point out, quite rightly, that the unpredictability of the subatomic world does not lend support to mystical notions about our spiritual connectedness.<br /><br />It disturbs me that people are going to see this film and completely eat it up because it leaves them with a nice positive feeling. The main thrust of the film is based on a total misinterpretation of quantum theory, and it is as bad in its reasoning as any attempt to justify organized religion with similar pseudo-scientific arguments.<br /><br />Avoid this film.<br /><br />Oh yeah. At one point, one of the \"experts\" says that since throughout history most of the assumptions people have made about the world turned out to be false, therefore the assumptions we currently hold about the world are also likely to be false. Huh? That totally does not follow. And even if it did, I don\\'t see how that helps his argument. I mean, if his ideas ever became common assumptions then I guess we would have to assume that they are false too, based on his own reasoning.'\n",
            " b\"This movie makes Canadians and Brits out to be asinine, moronic idiots. The men get stoned/drunk, and then they yell/beat each other up in almost every scene. The women are superfluous to the story \\xc2\\x96 I do not understand what they are there for \\xc2\\x96 they spend every scene causing a ruckus, or worse, milling around like mesmerized cattle. Apparently, Canadian women are either quarrelsome vulgar tramps or hulking hippie chicks. It's the standard knocked-up girlfriend, her loser boyfriend and his wicked mother ludicrousness that we have seen in countless movies before.<br /><br />Every character here is a carping, infantile stereotype. Not to mention that they all looked like they need a shower! And the idea of any kind of scene implying sex with George Wendt \\xc2\\x96 shudder \\xc2\\x96 is enough to make anyone gag! I watched the movie because Samuel West was in it \\xc2\\x96 but I cannot understand why he would have accepted a role like this. Maybe he needed the money. Ian Tracey is a superb actor - the only one with a vague redeeming moment, but his talent is wasted here.<br /><br />As for the rest of the plot \\xc2\\x96 the three imbeciles trying to get their dope back \\xc2\\x96 yawn - or Karl \\xc2\\x96 who is dead, but who is actually a character very much alive in the minds of those left behind (almost like Rebecca in Alfred Hitchcock's masterpiece \\xc2\\x96 although I am ashamed to even have thought to compare these two films), why even bother? Karl is so galling that you find the circumstances of his death gratifying.<br /><br />By the end of this wretched movie, I thought they would all have been better off going down with him on that boat!\"\n",
            " b\"This is comedy as it once was and comparing this with the two remakes, THE MONEY PIT and ARE WE DONE YET?, only points out all the more how the 40's movie makers had a flair for comedy which has since, regretfully, been lost.<br /><br />I was 15 when I first saw this and even at that tender age, there was much I could laugh at. Now of course being familiar with adult frustrations, I see a whole lot that I missed as a youth.<br /><br />The three main actors...Cary Grant, Myrna Loy, and Melvyn Douglas...interacted perfectly, but the core of the movie lies in the frustrations encountered in achieving a dream. It's never as easy and free of unseen complications as one envisions.<br /><br />All in all, this is a classic comedy which still stands above the attempts to remake it.\"\n",
            " b\"I'm a Jean Harlow fan, because she had star quality. I don't think her movies are good and I don't even think that she was a good actress, but she certainly was Great in comedies. Every bit of comedy in The Girl from Missouri is very good. But this movie is perhaps more like a love story. Jean Harlow is wonderful in this one and you can forget the rest of the cast - their performances bring nothing new. It always impresses me much to think that Harlow's beautiful body was that of an ill woman. Well, in this movie she does look beautiful.\"\n",
            " b\"I'm probably one of the biggest Nancy Drew fans out there. I've read every book three times over and I've played a lot of the Nancy drew games. I Loved this movie. It kept you entertained the whole time you watched it. I went with about 10 of my friends and everyone LOVED it. There were three woman sitting behind us who appeared to be in their late 30's to early 40's and I asked them how they liked it, they said they loved it! So you see it will be an entertainment to all ages. You just have to give it a chance. And it teaches a lesson too, just be yourself even if everyone around you is exactly alike. So overall, this move was great. I'm going to see it a second time now! So stop bashing it please. Its a really good movie!\"\n",
            " b\"1st watched 12/7/2002 - 3 out of 10(Dir-Steve Purcell): Typical Mary Kate & Ashley fare with a few more kisses. It looks to me like the girls are getting pretty tired of this stuff and it will be interesting what happens to them if they ever decide to split up and go there own ways. In this episode of their adventures they are interns in Rome for a `fashion' designer who puts them right into the mailroom to learn what working hard is all about(I guess..). Besides the typical flirtations with boys there is nothing much else except the Rome scenario until about \\xc2\\xbe way into the movie when it's finally revealed why they are getting fired, then re-hired, then fired again, then re-hired again. This is definetly made by people who don't understand the corporate world and it shows in their interpretation of it. Maybe the real world will be their next adventure(if there is one.). Even my kids didn't seem to care for this boring `adventure' in the make-believe. Let's see they probably only have a couple of years till their legal adults. We'll see what happens then.\"\n",
            " b\"I am shocked. Shocked and dismayed that the 428 of you IMDB users who voted before me have not given this film a rating of higher than 7. 7?!?? - that's a C!. If I could give FOBH a 20, I'd gladly do it. This film ranks high atop the pantheon of modern comedy, alongside Half Baked and Mallrats, as one of the most hilarious films of all time. If you know _anything_ about rap music - YOU MUST SEE THIS!! If you know nothing about rap music - learn something!, and then see this! Comparisons to 'Spinal Tap' fail to appreciate the inspired genius of this unique film. If you liked Bob Roberts, you'll love this. Watch it and vote it a 10!\"\n",
            " b'I can see why this film was Oscar-nominated for Best Live Action Short, as it was constructed masterfully. Even if you don\\'t particularly like the Blues (though to me, this sounded much more like jazz), you can easily appreciate this film. It is simply very well made, though for the life of me, I can\\'t see why director Gjon Mili only got to direct one film--this one. In other words, the film is nominated and yet the director didn\\'t get any sort of career boost. As for the black performers, I could understand this not causing their careers to shift into high gear, as unfortunately most of white society have indifference (or worse) for blacks or \"that kind of music\".<br /><br />If you do watch this film, if you aren\\'t particularly enjoying the earlier portion, skip ahead to about the 5:50 mark--where it picks up considerably. When the lady stopped singing and the performers began to improvise, the pace improved quite a bit.'\n",
            " b\"This is a very engrossing BBC-TV mini-series which is loosely based upon a mysterious disappearance of a young mother, but the series is really more of a study of the assorted characters in the story, which lasts for five hours. It is thus very much an ensemble piece, where the wide variety of brilliant British actors and actresses can show off their talents. The actual characters portrayed are really 'the kind of people one does not normally meet', people so boring and nondescript that it is difficult to admire them. For instance, the lead character is a young husband (the one whose wife disappears) who has no job and no apparent interest in finding any. He lives off handouts from his parents-in-law. He was once in the Army but does not appear to have the slightest flicker of any ambition or any interests in life apart from doting on his small family. He is played by David Oyelowo, who is brilliant at the part, coming across as a totally sympathetic person, although his only activities for five hours are loving and grieving, which he does superbly, so that one wants to comfort him, as he is so obviously a nice guy. The standout performance of the whole series is unquestionably Penelope Wilton, who acts circles round everyone else in the story. She is simply incredible. She portrays a very unsympathetic woman, indeed the only character in the story who is all too familiar to everyone, namely an irrational, hysterical, self-centred, dense, querulous, blindly loving and blindly hating, elderly idiot-woman. Alas, alas, we know them too well. Wilton is one of Britain's finest actresses (see my review of her in 'Half Broken Things'). She takes a character who could have been two-dimensional and makes her four-dimensional. She is wonderfully supported by old pro Patrick Malahide, who plays her exasperated husband, and the pair of them set a high standard indeed for all the younger players. Janet McTeer, a spectacular actress when younger, has become a much less sympathetic type of person now that she is older, has coarsened in some way, and puts one off, but she redeems herself in the latter stages of the story by showing how brilliant an actress she can be when she has a chance by pulling off one of the most convincing and original drunk scenes I have ever seen on film. The big surprise is the enigmatic character Sarah, played with great depth and originality by actress Sarah Smart. She takes a character who could have been insufferably tedious and by sheer acting magic turns her into a deeply mysterious and intriguing person, about whom we wonder tirelessly for the entire five hours. She is so good at it that we end up wondering about Sarah Smart, frankly. I guess that's what happens when you really do your job properly, that people wonder where the character ends and the actress begins, if she knows herself, that is, and many do not. She has some deeply unnerving tricks with her eyes, which wobble and let us know she is unhinged, but we are not sure how or why, though we eventually learn that she had an extremely violent and traumatic childhood. Her mastery of ambiguous facial expressions is extraordinary. Rory Kinnear is amazingly convincing as an apparently hopeless fellow who lives with his mum and isn't up to much, but who turns out to have hidden depths. (I suppose most people have hidden depths, but do we want to plumb them, that is the question.) His mum is played very well indeed by Margot Leicester. A superb performance is given by Lucinda Dryzek, who plays a snotty, revolting teenage girl of the sort we all dread to meet, but who at crucial moments collapses in helpless tears and turns out to be pathetic, with all her arrogance just a pose. Three other children are also very good, Lucinda's friend, and her younger half-brother and half-sister. The younger siblings may be very dim indeed as characters in the story (they seem unable to say anything particularly articulate, being hopeless witnesses to the disappearance), with little to recommend them but their sweet natures, but that is conveyed to wonderful effect by Lee Massey as the boy and Tyler Anthony as the girl. Harriet Walter has a small role, but we do not get to see much of her, which is a shame, as she is such a fine actress that she was wasted here. One could go on, but one must draw a line somewhere. The series manages to be strangely fascinating because of the depth of portrayal of all these essentially uninteresting people caught up in a web of intense anxiety and suspense.\"\n",
            " b'Wow. The only people reviewing this positively are the Carpenter apologists. I know a lot of those. The guys that\\'ll watch John Carpenter squat on celluloid and pinch out a movie and proclaim it a masterwork of horror. This \"movie\" is utter crap. It looks and sounds like a porno (good lord, the soundtrack is awful...), and has sub-par porn acting, which is shocking, because normally Ron Perlman is really a very good actor. I honestly have no idea what Carpenter was thinking when making this. Most likely \"Beans, beans, beans..\" until somebody fed him and rolled him up into a blanket for the day... They say nothing about the abortion debate whatsoever, when they could have had a very interesting central theme (how do religious zealot anti-abortionists feel when it\\'s the devil\\'s baby?) but instead they chose to have Ron Perlman and his terribly acted kids kill a bunch of people and have the horribly cast doctors try to calm the hysterically bad pregnant girl. Not a single person from this episode or what have you should come away unscathed. It\\'s just awful. Like, Plan 9 From Outerspace awful. Like, good god please would somebody turn it off before I soil myself awful. Try watching this and The Thing in the same day and your mind will implode.'\n",
            " b'This British film is truly awful, and it\\'s hard to believe that Glenn Ford is in it, although he pretty much sleepwalks through it. The idea of a bomb on a train sounds good...but it turns out this train ends up parked for the majority of the film! No action, no movement, just a static train. The area where the train is parked is evacuated, so it\\'s not like there\\'s any danger to anyone either. In fact, this film could be used in a film class to show how NOT to make a suspense film. True suspense is generated by letting the audience know things that the characters don\\'t, a fact apparently unknown to the director. SPOILER: the train actually has two bombs on it, but we are led to believe there is only one. After the first bomb is defused, it feels as if there is no longer a reason to watch the film any more. But at the last minute, the villain, who has no apparent motivation for his actions, reveals there are two. Nor are we certain WHEN the bombs will go off, so we don\\'t even have a classic \"ticking bomb\" tension sequence. A good 10 minutes or more are spent watching Glenn Ford\\'s French wife thinking about leaving him, and then wondering where he is . She\\'s such an annoying character that we don\\'t care whether she reconciles with him, so when she does, there\\'s nothing emotional about it. Most of the other characters are fairly devoid of personality, and none have any problems or issues. It\\'s only 72 minutes, but it feels long because it\\'s tedious and dull. Don\\'t waste your time.'], shape=(32,), dtype=string)\n"
          ]
        }
      ]
    },
    {
      "cell_type": "code",
      "source": [
        " #CHECKIN 3\n",
        "for example in raw_train_ds:  # example is `{'image': tf.Tensor, 'label': tf.Tensor}`\n",
        "  print(example[1])"
      ],
      "metadata": {
        "colab": {
          "base_uri": "https://localhost:8080/"
        },
        "id": "0VOCfyGcHHeX",
        "outputId": "ff03bb5e-ec9b-4dd9-d731-61a8abedaaf3"
      },
      "execution_count": null,
      "outputs": [
        {
          "output_type": "stream",
          "name": "stdout",
          "text": [
            "tf.Tensor([0 0 0 0 0 0 1 0 1 0 1 0 0 0 1 0 0 0 1 1 1 1 0 0 0 0 0 0 0 1 0 0], shape=(32,), dtype=int32)\n"
          ]
        }
      ]
    },
    {
      "cell_type": "code",
      "source": [
        " #CHECKIN 3\n",
        "# looks like a tuple of 2 tf.tensors each of length 32\n",
        "# https://stackoverflow.com/questions/34097281/convert-a-tensor-to-numpy-array-in-tensorflow\n",
        "test\n",
        "for example in raw_train_ds:  # example is `{'image': tf.Tensor, 'label': tf.Tensor}`\n",
        "  print(example[0].numpy())\n",
        "  test = example[0].numpy()\n",
        "\n"
      ],
      "metadata": {
        "colab": {
          "base_uri": "https://localhost:8080/"
        },
        "id": "HhU47A6GHSG4",
        "outputId": "058e3339-254b-4c31-b205-3529378faf65"
      },
      "execution_count": null,
      "outputs": [
        {
          "output_type": "stream",
          "name": "stdout",
          "text": [
            "[b'Great movie - especially the music - Etta James - \"At Last\". This speaks volumes when you have finally found that special someone.'\n",
            " b\"I am shocked. Shocked and dismayed that the 428 of you IMDB users who voted before me have not given this film a rating of higher than 7. 7?!?? - that's a C!. If I could give FOBH a 20, I'd gladly do it. This film ranks high atop the pantheon of modern comedy, alongside Half Baked and Mallrats, as one of the most hilarious films of all time. If you know _anything_ about rap music - YOU MUST SEE THIS!! If you know nothing about rap music - learn something!, and then see this! Comparisons to 'Spinal Tap' fail to appreciate the inspired genius of this unique film. If you liked Bob Roberts, you'll love this. Watch it and vote it a 10!\"\n",
            " b'What a lovely heart warming television movie. The story tells of a little five year old girl who has lost her daddy and finds it impossible to cope. Her mother is also very distressed ..only a miracle can alleviate their unhappiness.Which all viewers hope will materialise. Samantha Mathis is brilliant as the little girl\\'s mum ,as she was as the nanny in\" Jack and Sarah\",worth watching if you like both Samantha Mathis and happy; year tear jerking movies! Ellen Burstyn is, as, always a delightful grandmother in this tender and magnificently acted movie. Jodelle Ferland (the little five year old) is charming and a most convincing young actress. The film is based on a true story which makes it so touching.\"Mermaid\" is a tribute to the milk of human kindness which is clearly illustrated and clearly is still all around us in this difficult world we live in. \"Mermaid\" gives us all hope ,by realising that there a lot of lovely people in the world with lot\\'s of love to give. James Robson Glasgow Scotland U.K.'\n",
            " b'I haven\\'t read this book, but all through the movie I was awestruck with only one thought in my head: This is so Vonnegut. I have never seen an author, all of the intelligence and life behind the workings of a novel, translated so well to film. This movie had the same complexities found in Vonnegut\\'s novels: the jokes were often meaningful and symbolic, and the dramatic events and symbols were often also jokes.<br /><br />Campbell was also a very Vonnegut character, portrayed perfectly by Nick Nolte. He had all of the earmarks of a Vonnegut \"hero\": lack of concern for political boundaries, ironic dark humor giving way to dumb inactivity in response to stress, and an unwillingness to push his version of reality on those around him.<br /><br />Overall, I was constantly surprised and impressed as I watched this movie. It was the same feeling I had reading \"Cat\\'s Cradle,\" my first Vonnegut novel, as if the most perfectly oddball thing that could happen, he thought of THAT, and he made it real and important. Yes, he has nothing but army surplus \"White Christmas\" albums. So it goes!'\n",
            " b'\"A Cry in the Dark\" is a masterful piece of cinema, haunting, and incredibly though provoking. The true story of Lindy Chamberland, who, in 1980, witnessed a horrific sight, seeing her 3-month-old baby being brutally taken from their family\\'s tent, while camping on the Austrailian outback. Azaria (the baby) was never seen again, and the result of her horrendous disappearance caused a true life frenzy all around the world. Meryl Streep does immaculate justice to the role of Lindy, as she always does. But the one thing that helps \"A Cry in the Dark\" never fall flat is the brilliant direction. A truly inspired and accurate outlook on this baffeling case, tears are brought to the eyes. The concept is nothing less then terrifying, and afterwards you are left haunted, but also inspired.'\n",
            " b'Any film in the early days of Orson Welles is a triumph all the way to The third Man with Joseph Cotton. He is also wonderful in a Touch Of Evil. Please see them all! He tends to get pompous and self serving in films like F is for Fake, really stupid waste of film.Don\\'t waste your time watching it. it is really ignorant. Orson Welles is a film icon and anyone studying film should see everything he has filmed. All his leading ladies are tremendous but in the end Welles became a fat drunk, like his character in A Touch Of Evil! For some reason Orson Welles had a way with women, I see how he could be considered attractive in his youth, not like Gary Cooper or Joseph Cotton, or Cary Grant,John Wayne, I could go on and on but I digress... and because I am a woman,I can see the attraction to him. He (Orson Welles) is one of the last true film makers and unless you count the film-makers of today: Tarantino, Scorscese, Spike Lee, most of the film makers just don\\'t measure up to the film makers of the Forties! I know there are many more great film makers of today but in such a short amount of time I can\\'t name them all. No Offense to any of the great film makers of this millennium! August 21,2006. Please remind me of some current up and coming film makers, I don\\'t want to be stuck in the past! I love some of the films out now, but rarely are there any that I would put on a \"100 best\" list.. \"Hustle and Flow\" was great, so was \"Fargo\", and \"Oh, Brother, where art thou,\" from a line in Sullivan\\'s travels; another fine film from the forties! Can anyone give me a best list for the 90\\'s and on up to 2006? I would like to know who to watch! Thank you! Also Props to this website! Where else can you plug a film or boo it! i love the ranting and raving from regular folks like me who can say what I want and I promise not to spoil any film for someone who hasn\\'t seen it yet!'\n",
            " b\"This movie scared the crap out of me! I have to admit that I spent most of the film watching through my fingers but what I saw was really scary. I screamed out loud two or three times during the show.<br /><br />Film-making-wise my favorite aspects were the sound and photography. The sound was particularly great and the setting was really creepy beautiful. I read somewhere that it's some weird husband and wife team that made it. For some reason that makes this even stranger for me. <br /><br />If you enjoy the jumps and jitters of scary movies than this one is for you! Very suspenseful and a great movie to rent with a bunch of friends who love to watch movies curled up on a sofa screaming like little girls!\"\n",
            " b'Uta Hagen\\'s \"Respect for Acting\" is the standard textbook in many college theater courses. In the book, Hagen presents two fundamentally different approaches to developing a character as an actor: the Presentational approach, and the Representational approach. In the Presentational approach, the actor focuses on realizing the character as honestly as possible, by introducing emotional elements from the actor\\'s own life. In the Representational approach, the actor tries to present the effect of an emotion, through a high degree of control of movement and sound.<br /><br />The Representational approach to acting was still partially in vogue when this Hamlet was made. British theater has a long history of this style of acting, and Olivier could be said to be the ultimate king of the Representational school.<br /><br />Time has not been kind to this school of acting, or to this movie. Nearly every working actor today uses a Presentational approach. To the modern eye, Olivier\\'s highly enunciated, stylized delivery is stodgy, stiff and stilted. Instead of creating an internally conflicted Hamlet, Olivier made a declaiming, self-important bullhorn out of the melancholy Dane -- an acting style that would have carried well to the backs of the larger London theaters, but is far too starchy to carry off a modern Hamlet.<br /><br />And so the movie creaks along ungainfully today. Olivier\\'s tendency to e-nun-ci-ate makes some of Hamlet\\'s lines unintentionally funny: \"In-stead, you must ac-quire and be-get a tem-purr-ance that may give it... Smooth-ness!\" Instead of crying at meeting his father\\'s ghost (as any proper actor could), bright fill lights in Olivier\\'s pupils give us that impression.<br /><br />Eileen Herlie is the only other actor of note in this Hamlet, putting in a good essay at the Queen, despite the painfully obvious age differences (he was 41; she was 26). The other actors in this movie have no chance to get anything else of significance done, given Olivier\\'s tendency to want to keep! the camera! on him! at all! times! <br /><br />Sixty years later, you feel the insecurity of the Shakespearean stage actor who lacked the confidence to portray a breakable, flawed Hamlet, and instead elected to portray a sort of Elizabethan bullhorn. Final analysis: \"I would have such a fellow whipped for o\\'er-doing Termagant; it out-herods Herod: pray you, avoid it.\"'\n",
            " b'This is one of Joan Crawford\\'s best Talkies. It was the first Gable-Crawford pairing, and made it evident to MGM and to audiences that they were a sizzling team, leading the studio to make seven more films with them as co-stars.<br /><br />The film convincingly depicts the downward slide of a brother and sister who, after their father loses everything in the stock market crash, must fend for themselves and work for a living. Life is hard in the Depression, and soon even their attempts at finding legitimate work prove futile, and they resort to underworld activity. <br /><br />Joan Crawford is excellent as the socialite-turned-moll. She\\'s smart, complex, and believable. She even tempers the theatrical stiffness of the other actors\\' early Talkie acting style. Clark Gable is a diamond-in-the rough, masculine and gruff as the no-nonsense gangster who becomes involved with Crawford\\'s character. The same year he would play a similar and even more successful role opposite Norma Shearer in \"A Free Soul\", securing his position as top male sex symbol at MGM.<br /><br />If you like Crawford in this type of role, don\\'t miss \"Paid\", which she did a year earlier, which is also among her best early Talkie performances.<br /><br />'\n",
            " b\"When I was a kid we always used to be babysat, and we always used to rent a film or see a film at the cinema. This is one of the films we watched. This is one of the stupidest films I've ever seen, I think it might even be a Walt Disney Pictures film! A martian is dropped on earth, turns into a human, befriends a human, and is trying everything he can to get back home. But he is distracted by the wonders of the Earth. The only good comment I can give is the choice of actors, Back to the Future's Christopher Lloyd as the martian, Uncle Martin, Dumb and Dumber's Jeff Daniels as Tim O'Hara, Elizabeth Hurley as Brace Channing and Daryl Hannah as Lizzie. But apart from that it's complete crap. Poor!\"\n",
            " b\"While the overall idea of Escape from Atlantis was intriguing, I found the film to be far less than what I had hoped for upon reading the plot summery. Perhaps I am too much of a child in the technological age: the movie was made, as it is now 2002, an official five years ago --after viewing fantasy epics such as Lord of the Rings, and science fiction feats like Star Wars, as a whole it could not compare to other movies of similar line such as Dinotopia or Homer's The Odyssey.<br /><br />My beef, basically, is that I couldn't relate --I am just about the same age of the children (a young adult), and have no trouble putting myself in the place of a middle-aged man if that is the character available. But the picture did not take me to a different mental plain of existence. I didn't find myself saying 'ACK! I would have done the SAME thing!'. It did not open the doors to my imagination. Even without comparing it to high-budget films or other TV movies, standing alone, certain aspects of the feature I found to be cliche: The character development in the children occurred too rapidly for my liking, seeing too much of the stereotypical selfish-teenager-bitter-after-divorce image changing into the we're-a-big-happy-family-let's-never-separate-again feel that can ultimately make or break a picture in the long run. Even the characters themselves could have undergone improvement: a typical set of one or the other stereotypes. There was the ever-present selfish beauty looking to be rebellious, accompanied by Mr. Perfect image of combining athletics, good looks and intelligence yet a brooding attitude, and lastly the smart-aleck little brother we find to be so common these days. While I know the personalities pushed the story along, I think that adding more individuality as far as nuances and more unique differences would have made it a more enjoyable --and believable (as far as character)-- movie.<br /><br />I do have to raise my glass to the costume and set design --that made it worth finishing to the end for me. Don't get me wrong: all movies are worth seeing for yourself, and the opinion of one could never account for the opinion of many, but I think that with a little more depth to the script, and a little more (I cannot believe I am saying this) realness I dare say Escape from Atlantis could have been magical.\"\n",
            " b'Wow. The only people reviewing this positively are the Carpenter apologists. I know a lot of those. The guys that\\'ll watch John Carpenter squat on celluloid and pinch out a movie and proclaim it a masterwork of horror. This \"movie\" is utter crap. It looks and sounds like a porno (good lord, the soundtrack is awful...), and has sub-par porn acting, which is shocking, because normally Ron Perlman is really a very good actor. I honestly have no idea what Carpenter was thinking when making this. Most likely \"Beans, beans, beans..\" until somebody fed him and rolled him up into a blanket for the day... They say nothing about the abortion debate whatsoever, when they could have had a very interesting central theme (how do religious zealot anti-abortionists feel when it\\'s the devil\\'s baby?) but instead they chose to have Ron Perlman and his terribly acted kids kill a bunch of people and have the horribly cast doctors try to calm the hysterically bad pregnant girl. Not a single person from this episode or what have you should come away unscathed. It\\'s just awful. Like, Plan 9 From Outerspace awful. Like, good god please would somebody turn it off before I soil myself awful. Try watching this and The Thing in the same day and your mind will implode.'\n",
            " b'If you want Scream or anything like the big-studio horror product that we get forced on us these days don\\'t bother. This well-written film kept me up thinking about all it had to say. Importance of myth in our lives to make it make sense, how children interpret the world (and the violence in it), our ransacking of the environment and ignorance of its history and legends.. all here, but not flatly on the surface. You could technically call it a \"monster movie\" even though the Wendigo does not take physical form until the end, and then it\\'s even up to you and your beliefs as to what\\'s happening with the legendary spirit/beast. Some standard thriller elements for those looking just for the basics and the film never bores, though in fact the less you see of the creature, the better. Fessenden successfully continues George Romero\\'s tradition of using the genre as parable and as a discussion forum while still keeping us creeped out.'\n",
            " b\"I'm never much for classic films. Movies like Patton, Going My Way, How Green was My Valley, The Godfather, Casablanca, Annie Hall, Gone with the Wind, Lawrence of Arabia, and Citizen Kane bore me. However, I would much rather watch any one of those films 3,469 times while being tied up on a chair than watch An American in Paris once in the most luxurious suite ever. If I did the latter, I'd probably be sleeping the entire time.<br /><br />The color art direction and the music didn't interest me, Gershwin or non-Gershwin. The dancing and the singing could help an insomniac fall to sleep. The dialogue doesn't match up to Singin' in the Rain. Basically, this movie is boring. The only other film that I fell asleep while watching was Butch Cassidy and the Sundance Kid. But you can't blame me. I only slept 5 minutes the night before.<br /><br />1 star/10 (Too bad we can't give zeroes.)\"\n",
            " b\"I agree with the above comment, I love the realism in this, and in many movies (not just movies on eating disorders) the producers seem to forget that. They take an every day problem and create a hugely dramatic scene and then come the end of the movie everything is perfect again, which I dislike because its not reality. Not meaning to say things can't get better, and not meaning to say things don't in this movie, but it doesn't spend most of the movie creating all these problems, and come the end of the movie everything is perfect again. When people have eating disorders people don't just admit it and want to get better, and then life is peachy, it takes time, and I like how in this movie we grow with the characters, we go through the difficulties with them, getting better and worse, because it is a very important part of the movie. It gets into the minds of people with eating disorders, and shows the complications and pain, in a very realistic way, and I loved that. I also love how it shows The secrecy and betrayal people feel when suffering from eating disorders, it is scary to see how people react when they find out, especially if they approve of it. I thought this movie was very touching and beautiful and well told, and defiantly one of my favourites.\"\n",
            " b'Finally a thriller which omits the car chases, explosions and other eye catching effects. The movie combines a simple plot (assasination of a french president) with an excellent background. It takes a look behind mans behavior with authorities, and explains why we would obey almost every order (even murder) which would be given to us.<br /><br />Furthermore it shows us how secret services can manipulate the run of history and how hardly they can be controlled. The best thing on this movie is, that there is no classic \"Hollywood end\" which can easily be predicted.'\n",
            " b\"Where the hell are all these uncharted islands where prehistoric monsters lurk, evil doctors perform their experiments, madmen hold the ultimate karate championship, and the uber-rich hunt humans for sport? I had no idea there were still so many uncharted islands out there, but if you take into account the number of movies that utilize one of these mysterious islands as a location, you'd have to assume that there are at least 50 of these suckers out there. It always winds up feeling so damned convenient and I immediately deduct points from any movie that uses this hackneyed device. Hammerhead is the story of a mad scientist who is conducting experiments on one of these uncharted islands, so the movie already had a lot to make up for before it even began.<br /><br />The island in this movie used to belong to Dr. Moreau, but has recently been purchased by the Re-Animator himself, Jeffrey Combs. Old Jeffrey is doing some kind of cutting edge stem cell research, which has led him to start working with sharks while searching for a cure for cancer. If that sounds familiar, that's because this is roughly the same basic set-up as the smart shark facility in Deep Blue Sea, not to mention a host of other Nu Image movies. So apparently, Jeffrey's son was dying of cancer which prompted our mad doctor to start experimenting on his progeny. He did some kind of super fancy gene splicing and so forth, turning his son into a shark-man.<br /><br />William Forsythe leads a crew of unknown actors to the island to look into the doctor's experiments. If someone would have given him a sailor's hat, William would have been a dead ringer for the Skipper from Gilligan's Island. In typical Bond Villain fashion, the doctor decides that all of these intruders would make nice chum for his son. Not chums, like buddies... chum, like shark food. So enter shark-boy who starts stalking the Skipper and his cohorts all over the island. They, of course, make half-hearted attempts to escape and are thwarted over and over again while being chased by a guy in a rubber shark-man suit. <br /><br />The movie didn't make up any of the points that it lost for taking place on one of those dastardly deserted islands. It's funny that this movie is called Hammerhead, it made me think of an old joke. Why do you hit yourself in the head with a hammer? Because it feels so good when you stop. That's pretty much how this movie is. The only reason to watch it is because it feels so good when it's over.\"\n",
            " b\"To get in touch with the beauty of this film pay close attention to the sound track, not only the music, but the way all sounds help to weave the imagery. How beautifully the opening scene leading to the expulsion of Gino establishes the theme of moral ambiguity! Note the way music introduces the characters as we are led inside Giovanna's marriage. Don't expect to find much here of the political life of Italy in 1943. That's not what this is about. On the other hand, if you are susceptible to the music of images and sounds, you will be led into a word that reaches beyond neo-realism. By the end of the film we there are moments Antonioni-like landscape that has more to do with the inner life of the characters than with real places. This is one of my favorite Visconti films.\"\n",
            " b\"What a let down! This started with an intriguing mystery and interesting characters. Admittedly it moved along at the speed of a snail, but I was nevertheless gripped and kept watching.<br /><br />David Morrissey is always good value and he Suranne Jones were good leads. The Muslim aspects were very interesting. We were tantalised with possible terrorist connections.<br /><br />But then Morrissey's character was killed off and all the air left the balloon. The last episode was dull, dull, dull. The whole thing turned out to be very small beer and the d\\xc3\\xa9nouement was unbelievably feeble.<br /><br />Five hours of my life for that? My advice: watch paint dry instead.\"\n",
            " b'The movie \"Atlantis: The Lost Empire\" is a shining gem in the rubble of films produced by the Disney Studios recently. Parents who have had to sit through \"The Jungle Book 2\" or even a Pokemon movie will surely appreciate this one.<br /><br />The film is one of few to attempt at an original story; previous feature films were merely re tellings of existing stories. Films such as \"Toy Story\", \"Finding Nemo\", and \"Monsters Inc.\" all do the same, but it must be noted that all were made by Pixar and only distributed by Disney. Recent films from the Disney Studios are mostly released direct to video, and are sequels to an existing successful film. The quality of those films is given way to the profitability. A new era started with \"Atlantis\" following it were \"Mulan\", \"Lilo & Stitch\", and most recently \"Open Range\". The writers have created all original story lines instead of the fairy tales of the past.<br /><br />A good portion of the movie is devoted to the quest to find Atlantis, a task that has captured the imagination of many for hundreds of years. Including that of young Milo Thatch, voiced by Michael J. Fox. Milo is employed by a museum in Washington D.C.. His grandfather was a renowned archaeologist, who had devoted his life to discovering Atlantis. This was seen as a waste by his peers, and they wish Milo to not follow in his footsteps. After failing to convince the museum board of directors to sponsor his expedition, Milo comes home to find a woman in his darkened apartment. She takes him to her employer, a Mr. Whitmore. Whitmore was a close friend of Milo\\'s grandfather, and wishes to send Milo with a team to locate Atlantis. Mr. Whitmore is very wealth and has paid for the best of everything. The crew that is to accompany him is the same as his grandfathers. The journey is filled with many great obstacles to overcome and is great fun to watch. The viewer finds themselves caught up in if they will reach Atlantis. The plot takes an unexpected turn after the discovery Atlantis, not just the discovery of people. It is enough to keep the interest of the older audience.<br /><br />The animators have done a wonderful job in then depth of the animation. The movie is very successful in blending traditional animation with Computer Generated Images. A feat not easily achieved, most audiences are quick to notice the difference in the two. The characters are believably human. There are some nice chase type scenes, with lots of action going on. A few lulls are filled with jokes that the children just may not get.<br /><br />The creativity of the writers really shines through. The culture of Atlantis is richly developed, including an entire language. The film uses references to Atlantis from historical sources, such as Plato. The disappearance of Atlantis from the world is explained. Believable, if by a younger audience, that magic really does exist. The powers of the people of Atlantis are not exactly presented as magic, but can best be described in this way.<br /><br />Although set in 1914 the level of technology used is unrealistic. The voyage is in a submarine very reminiscent of Captain Nemo\\'s nautilus, complete with sub pods that fire torpedoes. The giant diggers are driven by steam boilers so they did try for some era technology. The female characters are empowered in a way that women of the age would not have been, even holding roles in leadership. This is not a bad thing. It gives a good role model for my daughter to look to, rather than an all male cast.<br /><br />One reason this film is a favorite of mine over other Disney films is that there is not one single song, ever. A tradition that began with the first feature film, \"Snow White\", and carried on through to \"The Lion King\", almost every Disney film is full of upbeat songs. This is great and all, what would the Seven Dwarfs be without \"Hi HO!\"? After the millionth time through it\\'d almost be better without, but this one spares the parent. Not once does every single person on the screen suddenly know the words to a song that no one has ever heard before and break out in song. I for one am grateful.<br /><br />The storyline and depth of animation is sure to keep the attention of both parent and child alike. It is a film I am willing to watch again and again with my children.'\n",
            " b'Let\\'s start this review out on a positive note -- I am very glad they didn\\'t decide to wimp out with Tony being shot and do a retrospective season like some people were rumoring. Actually, creator and writer of this episode David Chase did quite the opposite. We don\\'t actually know if Tony will live or die. He\\'s in a coma and his chances of recovering are very slim to none. This episode seemed to move very slow, and the coma induced dream Tony was in involving mistaken identity and robed Asian monks slapping the sh*t out of him was absolutely, flat-out weird. After 45-minutes I got a little sick of everyone grieving, but that shouldn\\' t be a reason to slam this episode. It was a weird and unpredictable episode, but it was still well-written and intense. Edie Falco gave an astounding career-defining performance in this episode as the conflicted wife having to face with her husband\\'s could-be demise. I also found it interesting AJ dropped out of school and swore a vendetta against Junior, which AJ most likely won\\'t have the balls to pull off. Silvio is now acting-boss which opens numerous doors to problems in later episodes. There were a lot of great quips in this episode, also, and I think Vito \\'Pole-Smoker\\' Spadafore may meet his demise if he keeps being a greedy S.O.B.<br /><br />This wasn\\'t a great episode and disappointed only because even though Tony kills people, we as an audience adore him and feel he is our hero of the show. This was a necessary episode for the series, even though it was a little snore inducing towards the conclusion. Kudos to Edie Falco\\'s performance, and David Chase and the writers for creating this wholly original and unpredictable plot twist. This is the only season of \\'The Sopranos\\' where I haven\\'t a f*cking clue where it is going to go. I can\\'t wait for next week\\'s episode. My Rating: 7.5/10 <br /><br />Best Line of the Episode: (Paulie to AJ): \"Let\\'s go, Van Helsing!\"'\n",
            " b\"Yes, it's flawed - especially if you're into Hollywood films that demand a lot of effects, a purely entertaining or fantasy story or plot, and you can't actually think for yourself.<br /><br />Roeg's films are for the intelligent film-goer, and Insignificance is a perfect example.<br /><br />The characterizations are brilliant, the story is excellent, but, like all Nic Roeg's films - it has you thinking on every level about aspects of reality that would never have dawned on you before. His films always make you think, and personally, I like that in a film.<br /><br />So don't expect to come away from watching this film and feeling all happy-happy, because it's likely you'll be disappointed.<br /><br />But I think it's excellent.\"\n",
            " b\"Marjorie, a young woman who works in a museum and lives with two female roommates, Pat and Terry.One night she gets in her car and is attacked by masked man with a knife.His plan is to rape her, but she manages to escape.The man has her purse.The police can't help her, since the actual rape didn't happen.Then one day, when Marjorie's roommates are at work, her assailant comes there.His name is Joe.A long battle begins against this man.But then she manages to spray his eyes and mouth with insect repellent, stuff that will kill him if he won't get help soon.She ties him up and makes Joe the subject of the same kind of physical and mental assaults he used on her earlier.The Extremities (1986) is directed by Robert M. Young.It's based on the controversial off-Broadway play from 1982 by William Mastrosimone.Farrah Fawcett, who sadly lost her battle with cancer last year, is terrific as Marjorie.James Russo, who played the attacker also in the play, is convincing as Joe.Alfre Woodard and Diana Scarwid are great as Pat and Terry.James Avery is seen as Security Guard.She got a Golden Globe nomination.This is not a movie that is supposed to entertain you.It asks a question is revenge justified.This is not a perfect movie, but I recommend it.\"\n",
            " b\"This seems like two films: one a dreary, pretentious lengthy saga about an ac-tor who is taken over by the parts he plays; the other a brilliant social comment about a middle aged divorce who is picked up by a waitress. Shelley Winters is wonderful as a waitress with another business on the side. She drops heavy hints about the need for connections, her certificate in massage and her desire to get into the modelling game. I love the glimpse of her seedy flat with a kitchenette behind a curtain, and her terrible seducing outfit of navel-revealing, puff-sleeved crochet top.<br /><br />Do actors get Oscars for Shakespeare? We know they Oscars for impersonating disabled people, wearing a lot of prosthetics, or pretending to be mad. The Shakespearean scenes (which go ON and ON) are embarrassing and dated. And so are the 'going mad' scenes where Tony looks distracted while listening to his own voice-over.<br /><br />By the way, Anthony John is not aristocratic. He makes it quite clear in an early scene that he used to be a chorus boy. When he quotes his father's advice, he slips into a Cockney accent.\"\n",
            " b\"This is a very engrossing BBC-TV mini-series which is loosely based upon a mysterious disappearance of a young mother, but the series is really more of a study of the assorted characters in the story, which lasts for five hours. It is thus very much an ensemble piece, where the wide variety of brilliant British actors and actresses can show off their talents. The actual characters portrayed are really 'the kind of people one does not normally meet', people so boring and nondescript that it is difficult to admire them. For instance, the lead character is a young husband (the one whose wife disappears) who has no job and no apparent interest in finding any. He lives off handouts from his parents-in-law. He was once in the Army but does not appear to have the slightest flicker of any ambition or any interests in life apart from doting on his small family. He is played by David Oyelowo, who is brilliant at the part, coming across as a totally sympathetic person, although his only activities for five hours are loving and grieving, which he does superbly, so that one wants to comfort him, as he is so obviously a nice guy. The standout performance of the whole series is unquestionably Penelope Wilton, who acts circles round everyone else in the story. She is simply incredible. She portrays a very unsympathetic woman, indeed the only character in the story who is all too familiar to everyone, namely an irrational, hysterical, self-centred, dense, querulous, blindly loving and blindly hating, elderly idiot-woman. Alas, alas, we know them too well. Wilton is one of Britain's finest actresses (see my review of her in 'Half Broken Things'). She takes a character who could have been two-dimensional and makes her four-dimensional. She is wonderfully supported by old pro Patrick Malahide, who plays her exasperated husband, and the pair of them set a high standard indeed for all the younger players. Janet McTeer, a spectacular actress when younger, has become a much less sympathetic type of person now that she is older, has coarsened in some way, and puts one off, but she redeems herself in the latter stages of the story by showing how brilliant an actress she can be when she has a chance by pulling off one of the most convincing and original drunk scenes I have ever seen on film. The big surprise is the enigmatic character Sarah, played with great depth and originality by actress Sarah Smart. She takes a character who could have been insufferably tedious and by sheer acting magic turns her into a deeply mysterious and intriguing person, about whom we wonder tirelessly for the entire five hours. She is so good at it that we end up wondering about Sarah Smart, frankly. I guess that's what happens when you really do your job properly, that people wonder where the character ends and the actress begins, if she knows herself, that is, and many do not. She has some deeply unnerving tricks with her eyes, which wobble and let us know she is unhinged, but we are not sure how or why, though we eventually learn that she had an extremely violent and traumatic childhood. Her mastery of ambiguous facial expressions is extraordinary. Rory Kinnear is amazingly convincing as an apparently hopeless fellow who lives with his mum and isn't up to much, but who turns out to have hidden depths. (I suppose most people have hidden depths, but do we want to plumb them, that is the question.) His mum is played very well indeed by Margot Leicester. A superb performance is given by Lucinda Dryzek, who plays a snotty, revolting teenage girl of the sort we all dread to meet, but who at crucial moments collapses in helpless tears and turns out to be pathetic, with all her arrogance just a pose. Three other children are also very good, Lucinda's friend, and her younger half-brother and half-sister. The younger siblings may be very dim indeed as characters in the story (they seem unable to say anything particularly articulate, being hopeless witnesses to the disappearance), with little to recommend them but their sweet natures, but that is conveyed to wonderful effect by Lee Massey as the boy and Tyler Anthony as the girl. Harriet Walter has a small role, but we do not get to see much of her, which is a shame, as she is such a fine actress that she was wasted here. One could go on, but one must draw a line somewhere. The series manages to be strangely fascinating because of the depth of portrayal of all these essentially uninteresting people caught up in a web of intense anxiety and suspense.\"\n",
            " b'This movie was so poorly written and directed I fell asleep 30 minutes through the movie. The jokes in the movie are corny and even though the plot is interesting at some angles, it is too far fetched and at some points- ridiculous. If you are 11 or older you will overlook the writing in the movie and be disappointed, but if you are 10 or younger this is a film that will capture your attention and be amazed with all the stunts (which I might add are poorly done) and wish you were some warrior to. The casting in this movie wasn\\'t very good, and the music was very disappointing because it was like they were trying to build up the tension but it didn\\'t fit at all. On a scale of 1-10 (10 being excellent, 1 being horrible) the acting in this movie is a 4. Brenda Song is talented in comedy, but with this kind of movie, in some of the more serious scenes, her acting was laughable. When she made some of her \"fighting\" poses, I started laughing out loud. I think the worst thing about this movie is definitely the directing, for example, the part where her enemy turns out to be the person the evil villain is possesing, how her voice turns dark and evil, I think that was incredibly stupid, and how Wendy\\'s (Brenda Song)teachers were all her teachers at school being possessed by monks, that was pretty ridiculous to. So to sumamrize it all, a disappointing movie, but okay if you\\'re 10 or under.'\n",
            " b\"Someone must have been seriously joking when they made this film.<br /><br />Firstly, it is an absolute impossibility that this movie was made in 1993. The fashions and music dictate that this is seriously 80's. My guess is that this has sat on the shelf for a long while before some crazed distributer picked it up and released it to a disbelieving world.<br /><br />There is a plot. Kind of. A strange loner meets a random man with a beard who tells him that if he meditates while singing his favourite song he will be able to turn into whomever he chooses. At this point I feel obliged to point out that the loner's favourite song is London Bridge Is Falling Down. Why is this his favourite song? Because he's an idiot. We are only a minute into the film and already the film has reached a monumental level of stupidity. It gets even stupider.<br /><br />The loner is the nostril picker. I can only assume this as there are two scenes in the film where he is seen picking his nose. That clears up the title. He decides to change into a girl so that he can get close to other girls. And kill them. That's more or less it.<br /><br />The acting is universally appalling. Every single performance in this movie sucks. In fact, I would go so far as to say that the acting is of the standard of a pornographic movie. It really is that terrible. The nostril picker appears to the audience as the nostril picker. The characters in the movie see him as the girl he has become through singing London Bridge Is Falling Down. Man, I feel like an idiot even typing this. Anyway, it is kind of strange seeing a middle aged weirdo hanging out with school girls. And not in a good way. There is even an extended montage of scenes where the nostril picker is at school with the girls and a song plays over the top. It is very possibly the worst song ever recorded. I'm not even going to describe it. You'll know it when you hear it. And you'll agree with me.<br /><br />There are some scenes of violence, sure. And there is a Benny Hill style chase sequence involving a transsexual. There is even an immortal bit of dialogue, that may or may not have been taken from Shakespeare or John Milton, where the nostril picker says to a prostitute, 'I've got the cash if you've got the gash'. Lovely, I'm sure you'll agree.<br /><br />Utter nonsense.\"\n",
            " b'I haven\\'t actually finished the film. You may say that in this case I have no right to review it, especially so negatively. But I do, only because I stopped it on account of I couldn\\'t watch anymore...I got over halfway, and I only got there by promising myself something good was just around the corner. This film is so tiresome, so lackluster that I was actually insulted. I haven\\'t read many of the other reviews, so I\\'m not sure if there are other homosexual teens who have suffered through it, but I am homosexual, and I did go through \"similar\" revelations, day dreams, issues etc etc. There were maybe two moments where I actually felt this film could go somewhere, where I felt it may have some inkling of meaning, or relativity, but these hopes were dashed the moment the next set of clich\\xc3\\xa9-ridden narration came on. I mean, just look at the quotes on the IMDb page. Unfortunately you\\'re not able to hear the scratchy play back, nor the echo-ey fades if you\\'re just read the quotes, because they are just too painful/ridiculous/stupid to miss. I did give the film three stars, and all three of those stars go to the films cinematographer who did a fantastic job attempting to transform Archer\\'s tired \"concepts\" into something watchable. Mind you, I pray he wasn\\'t the one who decided to include all the long shots of TV closeups...another unnecessary clich\\xc3\\xa9 already over done in films such as Korine\\'s Gummo... I think it is extremely fitting that this film premiered at Sundance (only because Archer had connections in the festival via volunteer work he did, by the way...) because Sundance seems to be the one festival where clich\\xc3\\xa9 heavy drivel like this is still accepted as \"arthouse\". No, it\\'s not art house, I\\'m afraid it\\'s just plain s**t-house. Do not watch.'\n",
            " b'basically, i like Verhoeven film because in his film, i enjoy a brilliant pscychosexual story that i have seen before in \"Basic Instinct\".it is really a wonderful thriller i enjoyed very much.so it is obviously for me to watch this another Verhoeven movie.<br /><br />well, it is his previous direction before his block buster hit \"Basic Instinct\" and for that i was very much curious to watch that movie and yeah, the movie has fulfilled my hope and expectation.<br /><br />this movie \"The Fourth Man\" is a brilliant pscychosexual drama which is a lit bit complex for some audiences. the story of this movie is about a gay writer named \"Reve\"(Krabbe), an alcoholic person who is lives by his own moral values and sees many visions that may warn him from a future accident.after the end of his lecture, he introduce a seductive woman named \"Christine\", who has a mysterious past she doesn\\'t want to reveal.Reve do sex with her at her house as she is a boy.next morning, he watch her sexy, macho boyfriend\\'s picture on her table, the person he met at the station.he is curious to meet him and tell Christine to invite him to her house.<br /><br />that\\'s it. i don\\'t want to reveal the entire story because it is a Verhoeven movie and the end of the film is really surprising!<br /><br />especially, i like the character \"Reve\" which is brilliantly played by \"Krabbe\".i basically like his acting because as a gay person i am purely identified with his character and yeah i like his charming face.<br /><br />i would like thanks Mr.Verhoeven to make such a black comedy.<br /><br />i rate this movie: 10 out of 10.'\n",
            " b'Despite the patronage of George Lucas, this captivating and totally original fantasy in \"Lumage\" (a combination of animation through live action cut-outs) is about as far removed from the usual kiddie fare as anything made by Ralph Bakshi in his heyday. Brilliantly conceived characters such as the shape-shifting dog Ralph (one of a duo of bumbling, rejected heroes), Synonamess Botch (the hilariously foul-mouthed villain) and Rod Rescueman (the pompous novice superhero) breathe life into a uniquely clever concept: Frivoli vs. Murkwood or, the eternal fight between dreams and nightmares. In this context, the MOR-infused songs on the soundtrack ought not to have worked but somehow they do. It\\'s a real pity, therefore, that I have had to watch this via a truly crappy-looking boot (culled from a TV screening) of the uncensored version \\xc2\\x96 there is also a milder variant that toned down the language for its VHS release \\xc2\\x96 since the film is otherwise unavailable on DVD. Interestingly, both Henry Selick and David Fincher worked on this picture in subordinate capacities.'\n",
            " b'What Hopkins does succeed at with this effort as writer and director is giving us a sense that we know absolutely no one in the film. However, perhaps therein lies the problem. His movie has a lot of ambition and his intentions were obviously complex and drawn from very deep within, but it\\'s so impersonal. There are no characters. We never know who anyone is, thus there is no investment on our part.<br /><br />It could be about a screenwriter intermingle with his own characters. Is it? Maybe. By that I don\\'t mean that Slipstream is ambiguous; I mean that there is no telling. Hopkins\\'s film is an experiment. On the face of it, one could make the case that it is about a would-be screenwriter, who at the very moment of his meeting with fate, realizes that life is hit and miss, and/or success is blind chance, as he is hurled into a \"slipstream\" of collisions between points in time, dreams, thoughts, and reality. Nevertheless, it is so unremittingly cerebral that it leaves no room for any hint of emotion, even to the tiny, quite rudimentary extent of allowing us a connection with its characters.<br /><br />I didn\\'t think the nippy and flamboyant school of shaky, machine-gun-speed camera-work and editing disengaged me, but reflecting upon the film I am beginning to realize that it had a lot to do with it. There are so many movies of the past decade in which the cuts or camera movement have sound effects as well as other atmosphere-deteriorating technical doodads. I suppose in this case it was justified in that its purpose was to compose the impressionistic responsiveness of dreams. However, I knew barely anything about Slipstream when watching it, and I came out the same way. And I just do not care, because Hopkins made no effort to make us care. There are interactive movies, and there are movies that sit in a rocking chair and knit, unaware of your presence. Slipstream is the latter.'\n",
            " b\"It's a very good movie, not only for the fans of Lady Death comics, but also for those who like animated movies/series of adventure and fantasy.<br /><br />The film is about a innocent girl who is about killed for something she hadn't done, but for be who she is daughter of the ruler of hell, Lucifer himself.<br /><br />Then she seeks revenge...and the rest you better see it from the movie.<br /><br />I liked the movie a lot, the characters are like the original comics, form Chaos. I never had the chance of read the the first parts of the story in comics, only the last ones, after the passages in the movie, so I cannot tell you if the events are exactly like the comics, but...one way or another it's the story of Lady Death!\"]\n"
          ]
        }
      ]
    },
    {
      "cell_type": "code",
      "source": [
        " #CHECKIN 3\n",
        "print(test[0])\n",
        "#this is a bytes object\n",
        "#https://www.programiz.com/python-programming/methods/built-in/bytes"
      ],
      "metadata": {
        "colab": {
          "base_uri": "https://localhost:8080/"
        },
        "id": "BpW53UFVH_0O",
        "outputId": "8b928310-c52d-43fa-a5c6-e436a5c5516d"
      },
      "execution_count": null,
      "outputs": [
        {
          "output_type": "stream",
          "name": "stdout",
          "text": [
            "b'Great movie - especially the music - Etta James - \"At Last\". This speaks volumes when you have finally found that special someone.'\n"
          ]
        }
      ]
    },
    {
      "cell_type": "code",
      "source": [
        " #CHECKIN 3\n",
        "#recreating \n",
        "# 2 options\n",
        "# 1 I could recreate the objects 1 at a time\n",
        "# 2 I could just create the file directory structure and import\n",
        "# I would need 1 folder for each category, with text files for each entry\n",
        "# 2 seems easier to do than 1\n",
        "# looking at dataset object, its designed to go from txt\n",
        "# https://www.tensorflow.org/api_docs/python/tf/data/Dataset\n",
        "# TODO: need to create txt repositories https://stackoverflow.com/questions/31247198/python-pandas-write-content-of-dataframe-into-text-file "
      ],
      "metadata": {
        "id": "h_QKYsJgIhst"
      },
      "execution_count": null,
      "outputs": []
    },
    {
      "cell_type": "code",
      "execution_count": null,
      "metadata": {
        "id": "JuxDkcvVIoev",
        "colab": {
          "base_uri": "https://localhost:8080/"
        },
        "outputId": "5659f8ce-63ee-464a-e3ee-3c5d651f7e2a"
      },
      "outputs": [
        {
          "output_type": "stream",
          "name": "stdout",
          "text": [
            "Review: b'Every scene was put together perfectly.This movie had a wonderful cast and crew. I mean, how can you have a bad movie with Robert Downey Jr. in it,none have and ever will exist. He has the ability to brighten up any movie with his amazing talent.This movie was perfect! I saw this movie sitting all alone on a movie shelf in \"Blockbuster\" and like it was calling out to me,I couldn\\'t resist picking it up and bringing it home with me. You can call me a sappy romantic, but this movie just touched my heart, not to mention made me laugh with pleasure at the same time. Even though it made me cry,I admit, at the end, the whole movie just brightened up my outlook on life thereafter.I suggested to my horror, action, and pure humor movie buff of a brother,who absolutely adored this movie. This is a movie with a good sense of feeling.It could make you laugh out loud, touch your heart, make you fall in love,and enjoy your life.Every time you purposefully walk past this movie, just be aware that you are consciously making the choice to live and feel this inspiring movie.Who knows? What if it could really happen to you?, and keep your mind open to the mystical wonders of life.'\n",
            "Label : 1 (pos)\n",
            "Review: b\"Despite its low-key release in this country, and its apparent disregard in other countries (the 'R' rating in the States can't have helped - honestly, just because HBC uses the C-word!), this is actually a fine piece of work. The sentimentality does occasionally threaten to choke it, but it's overcome by the playing of the two leads.<br /><br />It's easy to win plaudits just because you're playing a physical or mental cripple (Daniel Day-Lewis, Geoffrey Rush, Dustin Hoffman, etc.), and Helena Bonham-Carter may not quite capture the physical degradation of MND, but her vocal stretching and ruthless emotional drive compensate entirely. In fact, almost all her performance is conducted through her eyes (and what eyes!). This is an intelligent turn from an actress who is rapidly undoing her English Rose reputation, and emerging as a figure of some stature. Awards must surely follow, though not, alas, for this fine performance.<br /><br />Branagh, one feels, has never quite given his best on film (except possibly 'Hamlet', and there his playing was diluted by the large cast). Here, though, he tops his other appearances, playing to the hilt a self-loathing, unstable, ultimately lovable guy with a subtlety he hasn't always displayed, and exhibiting both intelligence and depth. In short, we believe him, just as much as we could NOT believe him as Frankenstein, as the priest in 'The Proposition', as the lawyer in 'The Gingerbread Man', even as Andrew in 'Peter's Friends'. This is surely his finest performance yet - so why could he not produce the goods much earlier?<br /><br />As a film, it looks more like a television offering, and without its stars it probably wouldn't amount to very much. But it's been a pleasure to see this pair perform their socks off like this, and I eagerly await more from them (though not 'Love's Labour's Lost'...). 8 out of 10, but Branagh and HBC get 10 out of 10.\"\n",
            "Label : 1 (pos)\n",
            "Review: b'This is probably the best television show I\\'ve ever seen. I first saw it on Comedy Central several years ago. At the time I was unaware that it had been dramatically edited and was shown out of order, and having just watched all three series in order and unedited (thank you internet and your wondrous \"series of tubes\") I am SO GLAD I rediscovered it! I think Comedy Central sort of picked and chose their way through series one and two to make a \"season\"......and I tried to get friends and family to watch it, but nobody really seemed to like it (I need new friends). So, on my own, I made the best out of it that I could. Even when I felt like it was waning a bit, I still felt compelled to continue watching. Years after when I discovered Little Britain, I immediately recognized Pauline from LoG as having influenced Marjorie in Fat Fighters. Also, I love the idea of writers who act the entire show....(not new, but done impeccably here). LB has nothing on LoG! (No offense, Matt & David....Love you)! This is indeed a darkly comedic piece of genius. Serial murder, implied cannibalism.....you name it and it\\'s probably found in this wonderful, unique piece of TV art. The location shots from the very first scene themselves are chilling and seem to beckon you to the town of Royston Vasey.....You\\'ll Never Leave! I think my favorite character would have to be Tubbs, but each character as portrayed has it\\'s own \"charm\". My least favorite was Papa Lazarous, that was until he re-surfaced in series three (clever and wholly unexpected)! It\\'s best to watch several episodes in a row as it drives the continuity and as I said before, becomes so compelling (while repulsing) that you really CAN\\'T stop watching. This is not for those with weak stomachs, kids, conservatives or Grandma (unless you\\'ve got one saucy granny)! I have always loved British TV, particularly comedies, from Monty Python to Benny Hill, Red Dwarf to Keeping Up Appearances, Absolutely Fabulous and the British originals Coupling and The Office (but not their US counterparts....sorry). This is unlike any of those in that it completely redraws the line between what\\'s funny and what\\'s just sick and twisted. Nothing, NOTHING on US TV has ever come close to this level of entertainment. US broadcast TV is so sad and lame, I can barely stand to watch ANY of it. It\\'s kind of sad that even our cable channels don\\'t have the guts to show unedited versions of this gem (your loss, Comedy Central). Thankfully there are shows like this one that come from the \"across the pond\" that redeem the entire medium every decade or so. Basic cable here in the US has been making tiny steps the last few years in confidently \"crossing lines\" with more graphic sexual content, drug use and adult language, but they are still years away from just deciding to be Adults about showing real life, adult behavior (instead of just murder obsession and blowing things up, sheesh, it\\'s like the same basic show format for the past 35 years)! Don\\'t even get me started on US sitcoms! Waste of time and lots of wasted money......did you know that \"According to Jim\" has been on the air for 10 years??? 10 YEARS?? Anyway... Watch this show, get it on DVD, do what you must and then make your friends watch it as well! You\\'ve never seen anything like it. There are three specials that I have not watched yet....I\\'m saving them to spring on my best friend next time he visits. He\\'ll watch them, even if I have to chain him up and paint him with Excrement! Lines and lines and lines and lines! Note that series three departs from one and two....the greater town seems to fall away to concentrate on newer characters, the laugh track is gone (thank bloody hell), the theme is more band and less orchestra and a bit of the story takes place outside of Royston Vasey. Don\\'t be thrown by any of that as by the end, the series has preserved the quiet perversity first demonstrated in series one and two. I think these four guys have created something sort of undefinable. Brilliant, confident and absolutely demented. You will want to re-watch it again and again. It\\'s amazing that in 5 seconds of screen time they can go from cheap sight-gag to horrifying blasphemy then end with a single actors close-up facial expression. If ever I were to meet any of the writer/performers, I\\'d implore them not to recreate it or try to top it.....I\\'d just say \"Can I help you at all?\" (Then they\\'d probably slap me, so I\\'d ask them to sign the slap-mark)! 10 out of 10'\n",
            "Label : 1 (pos)\n"
          ]
        }
      ],
      "source": [
        "for text_batch, label_batch in train_ds.take(1):\n",
        "  for i in range(3):\n",
        "    print(f'Review: {text_batch.numpy()[i]}')\n",
        "    label = label_batch.numpy()[i]\n",
        "    print(f'Label : {label} ({class_names[label]})')\n"
      ]
    },
    {
      "cell_type": "code",
      "execution_count": null,
      "metadata": {
        "id": "y8_ctG55-uTX",
        "colab": {
          "base_uri": "https://localhost:8080/"
        },
        "outputId": "624e665e-1733-4a5f-f8e7-58c1661e1614"
      },
      "outputs": [
        {
          "output_type": "stream",
          "name": "stdout",
          "text": [
            "BERT model selected           : https://tfhub.dev/tensorflow/small_bert/bert_en_uncased_L-4_H-512_A-8/1\n",
            "Preprocess model auto-selected: https://tfhub.dev/tensorflow/bert_en_uncased_preprocess/3\n"
          ]
        }
      ],
      "source": [
        "#@title Choose a BERT model to fine-tune\n",
        "\n",
        "bert_model_name = 'small_bert/bert_en_uncased_L-4_H-512_A-8'  #@param [\"bert_en_uncased_L-12_H-768_A-12\", \"bert_en_cased_L-12_H-768_A-12\", \"bert_multi_cased_L-12_H-768_A-12\", \"small_bert/bert_en_uncased_L-2_H-128_A-2\", \"small_bert/bert_en_uncased_L-2_H-256_A-4\", \"small_bert/bert_en_uncased_L-2_H-512_A-8\", \"small_bert/bert_en_uncased_L-2_H-768_A-12\", \"small_bert/bert_en_uncased_L-4_H-128_A-2\", \"small_bert/bert_en_uncased_L-4_H-256_A-4\", \"small_bert/bert_en_uncased_L-4_H-512_A-8\", \"small_bert/bert_en_uncased_L-4_H-768_A-12\", \"small_bert/bert_en_uncased_L-6_H-128_A-2\", \"small_bert/bert_en_uncased_L-6_H-256_A-4\", \"small_bert/bert_en_uncased_L-6_H-512_A-8\", \"small_bert/bert_en_uncased_L-6_H-768_A-12\", \"small_bert/bert_en_uncased_L-8_H-128_A-2\", \"small_bert/bert_en_uncased_L-8_H-256_A-4\", \"small_bert/bert_en_uncased_L-8_H-512_A-8\", \"small_bert/bert_en_uncased_L-8_H-768_A-12\", \"small_bert/bert_en_uncased_L-10_H-128_A-2\", \"small_bert/bert_en_uncased_L-10_H-256_A-4\", \"small_bert/bert_en_uncased_L-10_H-512_A-8\", \"small_bert/bert_en_uncased_L-10_H-768_A-12\", \"small_bert/bert_en_uncased_L-12_H-128_A-2\", \"small_bert/bert_en_uncased_L-12_H-256_A-4\", \"small_bert/bert_en_uncased_L-12_H-512_A-8\", \"small_bert/bert_en_uncased_L-12_H-768_A-12\", \"albert_en_base\", \"electra_small\", \"electra_base\", \"experts_pubmed\", \"experts_wiki_books\", \"talking-heads_base\"]\n",
        "\n",
        "map_name_to_handle = {\n",
        "    'bert_en_uncased_L-12_H-768_A-12':\n",
        "        'https://tfhub.dev/tensorflow/bert_en_uncased_L-12_H-768_A-12/3',\n",
        "    'bert_en_cased_L-12_H-768_A-12':\n",
        "        'https://tfhub.dev/tensorflow/bert_en_cased_L-12_H-768_A-12/3',\n",
        "    'bert_multi_cased_L-12_H-768_A-12':\n",
        "        'https://tfhub.dev/tensorflow/bert_multi_cased_L-12_H-768_A-12/3',\n",
        "    'small_bert/bert_en_uncased_L-2_H-128_A-2':\n",
        "        'https://tfhub.dev/tensorflow/small_bert/bert_en_uncased_L-2_H-128_A-2/1',\n",
        "    'small_bert/bert_en_uncased_L-2_H-256_A-4':\n",
        "        'https://tfhub.dev/tensorflow/small_bert/bert_en_uncased_L-2_H-256_A-4/1',\n",
        "    'small_bert/bert_en_uncased_L-2_H-512_A-8':\n",
        "        'https://tfhub.dev/tensorflow/small_bert/bert_en_uncased_L-2_H-512_A-8/1',\n",
        "    'small_bert/bert_en_uncased_L-2_H-768_A-12':\n",
        "        'https://tfhub.dev/tensorflow/small_bert/bert_en_uncased_L-2_H-768_A-12/1',\n",
        "    'small_bert/bert_en_uncased_L-4_H-128_A-2':\n",
        "        'https://tfhub.dev/tensorflow/small_bert/bert_en_uncased_L-4_H-128_A-2/1',\n",
        "    'small_bert/bert_en_uncased_L-4_H-256_A-4':\n",
        "        'https://tfhub.dev/tensorflow/small_bert/bert_en_uncased_L-4_H-256_A-4/1',\n",
        "    'small_bert/bert_en_uncased_L-4_H-512_A-8':\n",
        "        'https://tfhub.dev/tensorflow/small_bert/bert_en_uncased_L-4_H-512_A-8/1',\n",
        "    'small_bert/bert_en_uncased_L-4_H-768_A-12':\n",
        "        'https://tfhub.dev/tensorflow/small_bert/bert_en_uncased_L-4_H-768_A-12/1',\n",
        "    'small_bert/bert_en_uncased_L-6_H-128_A-2':\n",
        "        'https://tfhub.dev/tensorflow/small_bert/bert_en_uncased_L-6_H-128_A-2/1',\n",
        "    'small_bert/bert_en_uncased_L-6_H-256_A-4':\n",
        "        'https://tfhub.dev/tensorflow/small_bert/bert_en_uncased_L-6_H-256_A-4/1',\n",
        "    'small_bert/bert_en_uncased_L-6_H-512_A-8':\n",
        "        'https://tfhub.dev/tensorflow/small_bert/bert_en_uncased_L-6_H-512_A-8/1',\n",
        "    'small_bert/bert_en_uncased_L-6_H-768_A-12':\n",
        "        'https://tfhub.dev/tensorflow/small_bert/bert_en_uncased_L-6_H-768_A-12/1',\n",
        "    'small_bert/bert_en_uncased_L-8_H-128_A-2':\n",
        "        'https://tfhub.dev/tensorflow/small_bert/bert_en_uncased_L-8_H-128_A-2/1',\n",
        "    'small_bert/bert_en_uncased_L-8_H-256_A-4':\n",
        "        'https://tfhub.dev/tensorflow/small_bert/bert_en_uncased_L-8_H-256_A-4/1',\n",
        "    'small_bert/bert_en_uncased_L-8_H-512_A-8':\n",
        "        'https://tfhub.dev/tensorflow/small_bert/bert_en_uncased_L-8_H-512_A-8/1',\n",
        "    'small_bert/bert_en_uncased_L-8_H-768_A-12':\n",
        "        'https://tfhub.dev/tensorflow/small_bert/bert_en_uncased_L-8_H-768_A-12/1',\n",
        "    'small_bert/bert_en_uncased_L-10_H-128_A-2':\n",
        "        'https://tfhub.dev/tensorflow/small_bert/bert_en_uncased_L-10_H-128_A-2/1',\n",
        "    'small_bert/bert_en_uncased_L-10_H-256_A-4':\n",
        "        'https://tfhub.dev/tensorflow/small_bert/bert_en_uncased_L-10_H-256_A-4/1',\n",
        "    'small_bert/bert_en_uncased_L-10_H-512_A-8':\n",
        "        'https://tfhub.dev/tensorflow/small_bert/bert_en_uncased_L-10_H-512_A-8/1',\n",
        "    'small_bert/bert_en_uncased_L-10_H-768_A-12':\n",
        "        'https://tfhub.dev/tensorflow/small_bert/bert_en_uncased_L-10_H-768_A-12/1',\n",
        "    'small_bert/bert_en_uncased_L-12_H-128_A-2':\n",
        "        'https://tfhub.dev/tensorflow/small_bert/bert_en_uncased_L-12_H-128_A-2/1',\n",
        "    'small_bert/bert_en_uncased_L-12_H-256_A-4':\n",
        "        'https://tfhub.dev/tensorflow/small_bert/bert_en_uncased_L-12_H-256_A-4/1',\n",
        "    'small_bert/bert_en_uncased_L-12_H-512_A-8':\n",
        "        'https://tfhub.dev/tensorflow/small_bert/bert_en_uncased_L-12_H-512_A-8/1',\n",
        "    'small_bert/bert_en_uncased_L-12_H-768_A-12':\n",
        "        'https://tfhub.dev/tensorflow/small_bert/bert_en_uncased_L-12_H-768_A-12/1',\n",
        "    'albert_en_base':\n",
        "        'https://tfhub.dev/tensorflow/albert_en_base/2',\n",
        "    'electra_small':\n",
        "        'https://tfhub.dev/google/electra_small/2',\n",
        "    'electra_base':\n",
        "        'https://tfhub.dev/google/electra_base/2',\n",
        "    'experts_pubmed':\n",
        "        'https://tfhub.dev/google/experts/bert/pubmed/2',\n",
        "    'experts_wiki_books':\n",
        "        'https://tfhub.dev/google/experts/bert/wiki_books/2',\n",
        "    'talking-heads_base':\n",
        "        'https://tfhub.dev/tensorflow/talkheads_ggelu_bert_en_base/1',\n",
        "}\n",
        "\n",
        "map_model_to_preprocess = {\n",
        "    'bert_en_uncased_L-12_H-768_A-12':\n",
        "        'https://tfhub.dev/tensorflow/bert_en_uncased_preprocess/3',\n",
        "    'bert_en_cased_L-12_H-768_A-12':\n",
        "        'https://tfhub.dev/tensorflow/bert_en_cased_preprocess/3',\n",
        "    'small_bert/bert_en_uncased_L-2_H-128_A-2':\n",
        "        'https://tfhub.dev/tensorflow/bert_en_uncased_preprocess/3',\n",
        "    'small_bert/bert_en_uncased_L-2_H-256_A-4':\n",
        "        'https://tfhub.dev/tensorflow/bert_en_uncased_preprocess/3',\n",
        "    'small_bert/bert_en_uncased_L-2_H-512_A-8':\n",
        "        'https://tfhub.dev/tensorflow/bert_en_uncased_preprocess/3',\n",
        "    'small_bert/bert_en_uncased_L-2_H-768_A-12':\n",
        "        'https://tfhub.dev/tensorflow/bert_en_uncased_preprocess/3',\n",
        "    'small_bert/bert_en_uncased_L-4_H-128_A-2':\n",
        "        'https://tfhub.dev/tensorflow/bert_en_uncased_preprocess/3',\n",
        "    'small_bert/bert_en_uncased_L-4_H-256_A-4':\n",
        "        'https://tfhub.dev/tensorflow/bert_en_uncased_preprocess/3',\n",
        "    'small_bert/bert_en_uncased_L-4_H-512_A-8':\n",
        "        'https://tfhub.dev/tensorflow/bert_en_uncased_preprocess/3',\n",
        "    'small_bert/bert_en_uncased_L-4_H-768_A-12':\n",
        "        'https://tfhub.dev/tensorflow/bert_en_uncased_preprocess/3',\n",
        "    'small_bert/bert_en_uncased_L-6_H-128_A-2':\n",
        "        'https://tfhub.dev/tensorflow/bert_en_uncased_preprocess/3',\n",
        "    'small_bert/bert_en_uncased_L-6_H-256_A-4':\n",
        "        'https://tfhub.dev/tensorflow/bert_en_uncased_preprocess/3',\n",
        "    'small_bert/bert_en_uncased_L-6_H-512_A-8':\n",
        "        'https://tfhub.dev/tensorflow/bert_en_uncased_preprocess/3',\n",
        "    'small_bert/bert_en_uncased_L-6_H-768_A-12':\n",
        "        'https://tfhub.dev/tensorflow/bert_en_uncased_preprocess/3',\n",
        "    'small_bert/bert_en_uncased_L-8_H-128_A-2':\n",
        "        'https://tfhub.dev/tensorflow/bert_en_uncased_preprocess/3',\n",
        "    'small_bert/bert_en_uncased_L-8_H-256_A-4':\n",
        "        'https://tfhub.dev/tensorflow/bert_en_uncased_preprocess/3',\n",
        "    'small_bert/bert_en_uncased_L-8_H-512_A-8':\n",
        "        'https://tfhub.dev/tensorflow/bert_en_uncased_preprocess/3',\n",
        "    'small_bert/bert_en_uncased_L-8_H-768_A-12':\n",
        "        'https://tfhub.dev/tensorflow/bert_en_uncased_preprocess/3',\n",
        "    'small_bert/bert_en_uncased_L-10_H-128_A-2':\n",
        "        'https://tfhub.dev/tensorflow/bert_en_uncased_preprocess/3',\n",
        "    'small_bert/bert_en_uncased_L-10_H-256_A-4':\n",
        "        'https://tfhub.dev/tensorflow/bert_en_uncased_preprocess/3',\n",
        "    'small_bert/bert_en_uncased_L-10_H-512_A-8':\n",
        "        'https://tfhub.dev/tensorflow/bert_en_uncased_preprocess/3',\n",
        "    'small_bert/bert_en_uncased_L-10_H-768_A-12':\n",
        "        'https://tfhub.dev/tensorflow/bert_en_uncased_preprocess/3',\n",
        "    'small_bert/bert_en_uncased_L-12_H-128_A-2':\n",
        "        'https://tfhub.dev/tensorflow/bert_en_uncased_preprocess/3',\n",
        "    'small_bert/bert_en_uncased_L-12_H-256_A-4':\n",
        "        'https://tfhub.dev/tensorflow/bert_en_uncased_preprocess/3',\n",
        "    'small_bert/bert_en_uncased_L-12_H-512_A-8':\n",
        "        'https://tfhub.dev/tensorflow/bert_en_uncased_preprocess/3',\n",
        "    'small_bert/bert_en_uncased_L-12_H-768_A-12':\n",
        "        'https://tfhub.dev/tensorflow/bert_en_uncased_preprocess/3',\n",
        "    'bert_multi_cased_L-12_H-768_A-12':\n",
        "        'https://tfhub.dev/tensorflow/bert_multi_cased_preprocess/3',\n",
        "    'albert_en_base':\n",
        "        'https://tfhub.dev/tensorflow/albert_en_preprocess/3',\n",
        "    'electra_small':\n",
        "        'https://tfhub.dev/tensorflow/bert_en_uncased_preprocess/3',\n",
        "    'electra_base':\n",
        "        'https://tfhub.dev/tensorflow/bert_en_uncased_preprocess/3',\n",
        "    'experts_pubmed':\n",
        "        'https://tfhub.dev/tensorflow/bert_en_uncased_preprocess/3',\n",
        "    'experts_wiki_books':\n",
        "        'https://tfhub.dev/tensorflow/bert_en_uncased_preprocess/3',\n",
        "    'talking-heads_base':\n",
        "        'https://tfhub.dev/tensorflow/bert_en_uncased_preprocess/3',\n",
        "}\n",
        "\n",
        "tfhub_handle_encoder = map_name_to_handle[bert_model_name]\n",
        "tfhub_handle_preprocess = map_model_to_preprocess[bert_model_name]\n",
        "\n",
        "print(f'BERT model selected           : {tfhub_handle_encoder}')\n",
        "print(f'Preprocess model auto-selected: {tfhub_handle_preprocess}')"
      ]
    },
    {
      "cell_type": "code",
      "execution_count": null,
      "metadata": {
        "id": "0SQi-jWd_jzq"
      },
      "outputs": [],
      "source": [
        "bert_preprocess_model = hub.KerasLayer(tfhub_handle_preprocess)"
      ]
    },
    {
      "cell_type": "code",
      "execution_count": null,
      "metadata": {
        "id": "r9-zCzJpnuwS",
        "colab": {
          "base_uri": "https://localhost:8080/"
        },
        "outputId": "d15e2b9b-216d-4145-988e-245a3e6d97d4"
      },
      "outputs": [
        {
          "output_type": "stream",
          "name": "stdout",
          "text": [
            "Keys       : ['input_type_ids', 'input_word_ids', 'input_mask']\n",
            "Shape      : (1, 128)\n",
            "Word Ids   : [ 101 2023 2003 2107 2019 6429 3185  999  102    0    0    0]\n",
            "Input Mask : [1 1 1 1 1 1 1 1 1 0 0 0]\n",
            "Type Ids   : [0 0 0 0 0 0 0 0 0 0 0 0]\n"
          ]
        }
      ],
      "source": [
        "text_test = ['this is such an amazing movie!']\n",
        "text_preprocessed = bert_preprocess_model(text_test)\n",
        "\n",
        "print(f'Keys       : {list(text_preprocessed.keys())}')\n",
        "print(f'Shape      : {text_preprocessed[\"input_word_ids\"].shape}')\n",
        "print(f'Word Ids   : {text_preprocessed[\"input_word_ids\"][0, :12]}')\n",
        "print(f'Input Mask : {text_preprocessed[\"input_mask\"][0, :12]}')\n",
        "print(f'Type Ids   : {text_preprocessed[\"input_type_ids\"][0, :12]}')"
      ]
    },
    {
      "cell_type": "code",
      "execution_count": null,
      "metadata": {
        "id": "tXxYpK8ixL34"
      },
      "outputs": [],
      "source": [
        "bert_model = hub.KerasLayer(tfhub_handle_encoder)"
      ]
    },
    {
      "cell_type": "code",
      "execution_count": null,
      "metadata": {
        "id": "_OoF9mebuSZc",
        "colab": {
          "base_uri": "https://localhost:8080/"
        },
        "outputId": "86f2edad-1ca8-4cba-e53c-0bacf1dce929"
      },
      "outputs": [
        {
          "output_type": "stream",
          "name": "stdout",
          "text": [
            "Loaded BERT: https://tfhub.dev/tensorflow/small_bert/bert_en_uncased_L-4_H-512_A-8/1\n",
            "Pooled Outputs Shape:(1, 512)\n",
            "Pooled Outputs Values:[ 0.76262903  0.9928099  -0.1861187   0.3667383   0.15233696  0.65504414\n",
            "  0.9681154  -0.9486272   0.00216167 -0.9877732   0.06842678 -0.9763059 ]\n",
            "Sequence Outputs Shape:(1, 128, 512)\n",
            "Sequence Outputs Values:[[-0.28946355  0.34321314  0.3323151  ...  0.2130079   0.7102079\n",
            "  -0.05771136]\n",
            " [-0.28742105  0.31981066 -0.2301857  ...  0.58455014 -0.21329743\n",
            "   0.7269204 ]\n",
            " [-0.6615694   0.6887674  -0.8743296  ...  0.10877217 -0.26173162\n",
            "   0.4785526 ]\n",
            " ...\n",
            " [-0.22561109 -0.28925592 -0.07064441 ...  0.4756602   0.83277166\n",
            "   0.40025324]\n",
            " [-0.29824194 -0.2747312  -0.05450527 ...  0.48849782  1.0955361\n",
            "   0.18163359]\n",
            " [-0.4437828   0.00930762  0.07223727 ...  0.17290081  1.1833241\n",
            "   0.07897999]]\n"
          ]
        }
      ],
      "source": [
        "bert_results = bert_model(text_preprocessed)\n",
        "\n",
        "print(f'Loaded BERT: {tfhub_handle_encoder}')\n",
        "print(f'Pooled Outputs Shape:{bert_results[\"pooled_output\"].shape}')\n",
        "print(f'Pooled Outputs Values:{bert_results[\"pooled_output\"][0, :12]}')\n",
        "print(f'Sequence Outputs Shape:{bert_results[\"sequence_output\"].shape}')\n",
        "print(f'Sequence Outputs Values:{bert_results[\"sequence_output\"][0, :12]}')"
      ]
    },
    {
      "cell_type": "code",
      "execution_count": null,
      "metadata": {
        "id": "aksj743St9ga"
      },
      "outputs": [],
      "source": [
        "def build_classifier_model():\n",
        "  text_input = tf.keras.layers.Input(shape=(), dtype=tf.string, name='text')\n",
        "  preprocessing_layer = hub.KerasLayer(tfhub_handle_preprocess, name='preprocessing')\n",
        "  encoder_inputs = preprocessing_layer(text_input)\n",
        "  encoder = hub.KerasLayer(tfhub_handle_encoder, trainable=True, name='BERT_encoder')\n",
        "  outputs = encoder(encoder_inputs)\n",
        "  net = outputs['pooled_output']\n",
        "  net = tf.keras.layers.Dropout(0.1)(net)\n",
        "  net = tf.keras.layers.Dense(1, activation=None, name='classifier')(net)\n",
        "  return tf.keras.Model(text_input, net)"
      ]
    },
    {
      "cell_type": "code",
      "execution_count": null,
      "metadata": {
        "id": "mGMF8AZcB2Zy",
        "colab": {
          "base_uri": "https://localhost:8080/"
        },
        "outputId": "6a9342a9-af6f-40d6-8afe-c333a0567e44"
      },
      "outputs": [
        {
          "output_type": "stream",
          "name": "stdout",
          "text": [
            "tf.Tensor([[0.23925212]], shape=(1, 1), dtype=float32)\n"
          ]
        }
      ],
      "source": [
        "classifier_model = build_classifier_model()\n",
        "bert_raw_result = classifier_model(tf.constant(text_test))\n",
        "print(tf.sigmoid(bert_raw_result))"
      ]
    },
    {
      "cell_type": "code",
      "execution_count": null,
      "metadata": {
        "id": "0EmzyHZXKIpm",
        "colab": {
          "base_uri": "https://localhost:8080/",
          "height": 466
        },
        "outputId": "6bb9a523-f5a7-4eb9-a471-8d109a4d4967"
      },
      "outputs": [
        {
          "output_type": "execute_result",
          "data": {
            "image/png": "[encoded data removed]",
            "text/plain": [
              "<IPython.core.display.Image object>"
            ]
          },
          "metadata": {},
          "execution_count": 78
        }
      ],
      "source": [
        "tf.keras.utils.plot_model(classifier_model)"
      ]
    },
    {
      "cell_type": "code",
      "execution_count": null,
      "metadata": {
        "id": "OWPOZE-L3AgE"
      },
      "outputs": [],
      "source": [
        "loss = tf.keras.losses.BinaryCrossentropy(from_logits=True)\n",
        "metrics = tf.metrics.BinaryAccuracy()"
      ]
    },
    {
      "cell_type": "code",
      "execution_count": null,
      "metadata": {
        "id": "P9eP2y9dbw32"
      },
      "outputs": [],
      "source": [
        "epochs = 5\n",
        "steps_per_epoch = tf.data.experimental.cardinality(train_ds).numpy()\n",
        "num_train_steps = steps_per_epoch * epochs\n",
        "num_warmup_steps = int(0.1*num_train_steps)\n",
        "\n",
        "init_lr = 3e-5\n",
        "optimizer = optimization.create_optimizer(init_lr=init_lr,\n",
        "                                          num_train_steps=num_train_steps,\n",
        "                                          num_warmup_steps=num_warmup_steps,\n",
        "                                          optimizer_type='adamw')"
      ]
    },
    {
      "cell_type": "code",
      "execution_count": null,
      "metadata": {
        "id": "-7GPDhR98jsD"
      },
      "outputs": [],
      "source": [
        "classifier_model.compile(optimizer=optimizer,\n",
        "                         loss=loss,\n",
        "                         metrics=metrics)"
      ]
    },
    {
      "cell_type": "code",
      "execution_count": null,
      "metadata": {
        "id": "HtfDFAnN_Neu",
        "colab": {
          "base_uri": "https://localhost:8080/"
        },
        "outputId": "417c2ed4-23f7-408d-b34f-b5cd59f6592b"
      },
      "outputs": [
        {
          "output_type": "stream",
          "name": "stdout",
          "text": [
            "Training model with https://tfhub.dev/tensorflow/small_bert/bert_en_uncased_L-4_H-512_A-8/1\n",
            "Epoch 1/5\n",
            "625/625 [==============================] - 933s 1s/step - loss: 0.5039 - binary_accuracy: 0.7339 - val_loss: 0.4049 - val_binary_accuracy: 0.8314\n",
            "Epoch 2/5\n",
            "625/625 [==============================] - 927s 1s/step - loss: 0.3332 - binary_accuracy: 0.8523 - val_loss: 0.3591 - val_binary_accuracy: 0.8496\n",
            "Epoch 3/5\n",
            "625/625 [==============================] - 924s 1s/step - loss: 0.2519 - binary_accuracy: 0.8939 - val_loss: 0.3875 - val_binary_accuracy: 0.8494\n",
            "Epoch 4/5\n",
            "625/625 [==============================] - 925s 1s/step - loss: 0.1883 - binary_accuracy: 0.9269 - val_loss: 0.4405 - val_binary_accuracy: 0.8546\n",
            "Epoch 5/5\n",
            "625/625 [==============================] - 924s 1s/step - loss: 0.1531 - binary_accuracy: 0.9431 - val_loss: 0.4660 - val_binary_accuracy: 0.8506\n"
          ]
        }
      ],
      "source": [
        "print(f'Training model with {tfhub_handle_encoder}')\n",
        "history = classifier_model.fit(x=train_ds,\n",
        "                               validation_data=val_ds,\n",
        "                               epochs=epochs)"
      ]
    },
    {
      "cell_type": "code",
      "execution_count": null,
      "metadata": {
        "id": "slqB-urBV9sP",
        "colab": {
          "base_uri": "https://localhost:8080/"
        },
        "outputId": "a5311151-cb48-493b-98c2-c099b5558c1f"
      },
      "outputs": [
        {
          "output_type": "stream",
          "name": "stdout",
          "text": [
            "782/782 [==============================] - 329s 420ms/step - loss: 0.4520 - binary_accuracy: 0.8569\n",
            "Loss: 0.45197272300720215\n",
            "Accuracy: 0.8569200038909912\n"
          ]
        }
      ],
      "source": [
        "loss, accuracy = classifier_model.evaluate(test_ds)\n",
        "\n",
        "print(f'Loss: {loss}')\n",
        "print(f'Accuracy: {accuracy}')"
      ]
    },
    {
      "cell_type": "code",
      "execution_count": null,
      "metadata": {
        "id": "fiythcODf0xo",
        "colab": {
          "base_uri": "https://localhost:8080/",
          "height": 439
        },
        "outputId": "9c4945bc-6a9d-4199-a938-db3fd76c0841"
      },
      "outputs": [
        {
          "output_type": "stream",
          "name": "stdout",
          "text": [
            "dict_keys(['loss', 'binary_accuracy', 'val_loss', 'val_binary_accuracy'])\n"
          ]
        },
        {
          "output_type": "execute_result",
          "data": {
            "text/plain": [
              "<matplotlib.legend.Legend at 0x7f0679a97510>"
            ]
          },
          "metadata": {},
          "execution_count": 20
        },
        {
          "output_type": "display_data",
          "data": {
            "text/plain": [
              "<Figure size 720x432 with 2 Axes>"
            ],
            "image/png": "[encoded data removed]"
          },
          "metadata": {
            "needs_background": "light"
          }
        }
      ],
      "source": [
        "history_dict = history.history\n",
        "print(history_dict.keys())\n",
        "\n",
        "acc = history_dict['binary_accuracy']\n",
        "val_acc = history_dict['val_binary_accuracy']\n",
        "loss = history_dict['loss']\n",
        "val_loss = history_dict['val_loss']\n",
        "\n",
        "epochs = range(1, len(acc) + 1)\n",
        "fig = plt.figure(figsize=(10, 6))\n",
        "fig.tight_layout()\n",
        "\n",
        "plt.subplot(2, 1, 1)\n",
        "# r is for \"solid red line\"\n",
        "plt.plot(epochs, loss, 'r', label='Training loss')\n",
        "# b is for \"solid blue line\"\n",
        "plt.plot(epochs, val_loss, 'b', label='Validation loss')\n",
        "plt.title('Training and validation loss')\n",
        "# plt.xlabel('Epochs')\n",
        "plt.ylabel('Loss')\n",
        "plt.legend()\n",
        "\n",
        "plt.subplot(2, 1, 2)\n",
        "plt.plot(epochs, acc, 'r', label='Training acc')\n",
        "plt.plot(epochs, val_acc, 'b', label='Validation acc')\n",
        "plt.title('Training and validation accuracy')\n",
        "plt.xlabel('Epochs')\n",
        "plt.ylabel('Accuracy')\n",
        "plt.legend(loc='lower right')"
      ]
    },
    {
      "cell_type": "code",
      "execution_count": null,
      "metadata": {
        "id": "ShcvqJAgVera",
        "colab": {
          "base_uri": "https://localhost:8080/"
        },
        "outputId": "ca55280c-433f-4fb1-f46a-1a520a667276"
      },
      "outputs": [
        {
          "output_type": "stream",
          "name": "stderr",
          "text": [
            "WARNING:absl:Found untraced functions such as restored_function_body, restored_function_body, restored_function_body, restored_function_body, restored_function_body while saving (showing 5 of 124). These functions will not be directly callable after loading.\n"
          ]
        }
      ],
      "source": [
        "dataset_name = 'imdb'\n",
        "saved_model_path = './{}_bert'.format(dataset_name.replace('/', '_'))\n",
        "\n",
        "classifier_model.save(saved_model_path, include_optimizer=False)"
      ]
    },
    {
      "cell_type": "code",
      "execution_count": null,
      "metadata": {
        "id": "gUEWVskZjEF0"
      },
      "outputs": [],
      "source": [
        "reloaded_model = tf.saved_model.load(saved_model_path)"
      ]
    },
    {
      "cell_type": "code",
      "execution_count": null,
      "metadata": {
        "id": "VBWzH6exlCPS",
        "colab": {
          "base_uri": "https://localhost:8080/"
        },
        "outputId": "dc8eee46-5df1-4f8d-b84e-bb8db1186119"
      },
      "outputs": [
        {
          "output_type": "stream",
          "name": "stdout",
          "text": [
            "Results from the saved model:\n",
            "input: this is such an amazing movie! : score: 0.998903\n",
            "input: The movie was great!           : score: 0.994243\n",
            "input: The movie was meh.             : score: 0.972265\n",
            "input: The movie was okish.           : score: 0.037899\n",
            "input: The movie was terrible...      : score: 0.000607\n",
            "\n",
            "Results from the model in memory:\n",
            "input: this is such an amazing movie! : score: 0.998903\n",
            "input: The movie was great!           : score: 0.994243\n",
            "input: The movie was meh.             : score: 0.972265\n",
            "input: The movie was okish.           : score: 0.037899\n",
            "input: The movie was terrible...      : score: 0.000607\n",
            "\n"
          ]
        }
      ],
      "source": [
        "def print_my_examples(inputs, results):\n",
        "  result_for_printing = \\\n",
        "    [f'input: {inputs[i]:<30} : score: {results[i][0]:.6f}'\n",
        "                         for i in range(len(inputs))]\n",
        "  print(*result_for_printing, sep='\\n')\n",
        "  print()\n",
        "\n",
        "\n",
        "examples = [\n",
        "    'this is such an amazing movie!',  # this is the same sentence tried earlier\n",
        "    'The movie was great!',\n",
        "    'The movie was meh.',\n",
        "    'The movie was okish.',\n",
        "    'The movie was terrible...'\n",
        "]\n",
        "\n",
        "reloaded_results = tf.sigmoid(reloaded_model(tf.constant(examples)))\n",
        "original_results = tf.sigmoid(classifier_model(tf.constant(examples)))\n",
        "\n",
        "print('Results from the saved model:')\n",
        "print_my_examples(examples, reloaded_results)\n",
        "print('Results from the model in memory:')\n",
        "print_my_examples(examples, original_results)"
      ]
    },
    {
      "cell_type": "code",
      "execution_count": null,
      "metadata": {
        "id": "0FdVD3973S-O",
        "colab": {
          "base_uri": "https://localhost:8080/"
        },
        "outputId": "7b8f636c-b405-4c70-8c99-ac32ea3fdcc8"
      },
      "outputs": [
        {
          "output_type": "stream",
          "name": "stdout",
          "text": [
            "input: this is such an amazing movie! : score: 0.998903\n",
            "input: The movie was great!           : score: 0.994243\n",
            "input: The movie was meh.             : score: 0.972265\n",
            "input: The movie was okish.           : score: 0.037899\n",
            "input: The movie was terrible...      : score: 0.000607\n",
            "\n"
          ]
        }
      ],
      "source": [
        "serving_results = reloaded_model \\\n",
        "            .signatures['serving_default'](tf.constant(examples))\n",
        "\n",
        "serving_results = tf.sigmoid(serving_results['classifier'])\n",
        "\n",
        "print_my_examples(examples, serving_results)"
      ]
    }
  ],
  "metadata": {
    "colab": {
      "collapsed_sections": [],
      "provenance": [],
      "machine_shape": "hm"
    },
    "kernelspec": {
      "display_name": "Python 3",
      "name": "python3"
    },
    "accelerator": "TPU"
  },
  "nbformat": 4,
  "nbformat_minor": 0
}
