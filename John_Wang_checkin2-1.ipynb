{
  "nbformat": 4,
  "nbformat_minor": 0,
  "metadata": {
    "colab": {
      "provenance": []
    },
    "kernelspec": {
      "name": "python3",
      "display_name": "Python 3"
    },
    "language_info": {
      "name": "python"
    }
  },
  "cells": [
    {
      "cell_type": "code",
      "execution_count": 1,
      "metadata": {
        "colab": {
          "base_uri": "https://localhost:8080/"
        },
        "id": "EWq8InDMOi8m",
        "outputId": "0b1b897c-afab-497a-ba1d-55b46e9a8c87"
      },
      "outputs": [
        {
          "output_type": "execute_result",
          "data": {
            "text/plain": [
              "array(['Data Science', 'HR', 'Advocate', 'Arts', 'Web Designing',\n",
              "       'Mechanical Engineer', 'Sales', 'Health and fitness',\n",
              "       'Civil Engineer', 'Java Developer', 'Business Analyst',\n",
              "       'SAP Developer', 'Automation Testing', 'Electrical Engineering',\n",
              "       'Operations Manager', 'Python Developer', 'DevOps Engineer',\n",
              "       'Network Security Engineer', 'PMO', 'Database', 'Hadoop',\n",
              "       'ETL Developer', 'DotNet Developer', 'Blockchain', 'Testing'],\n",
              "      dtype=object)"
            ]
          },
          "metadata": {},
          "execution_count": 1
        }
      ],
      "source": [
        "#Data Visualization\n",
        "import pandas as pd\n",
        "\n",
        "#load data\n",
        "resume = pd.read_csv(\"/content/UpdatedResumeDataSet.csv\")\n",
        "\n",
        "#view all of the categories\n",
        "len(resume.iloc[:, 0].unique())\n",
        "#25 categories\n",
        "resume.iloc[:, 0].unique()\n",
        "#note that all of the categories are good, there doesnt need for there to be any\n",
        "#more data marshalling for the categories\n",
        "#this is why I choose this data set\n"
      ]
    },
    {
      "cell_type": "code",
      "source": [
        "#view head\n",
        "resume.head()\n",
        "#note all the crappy characters in the resume to be cleaned"
      ],
      "metadata": {
        "colab": {
          "base_uri": "https://localhost:8080/",
          "height": 206
        },
        "id": "dERBS8TYOpHq",
        "outputId": "2ef930b5-66d5-4359-d5eb-c1009101b628"
      },
      "execution_count": 2,
      "outputs": [
        {
          "output_type": "execute_result",
          "data": {
            "text/plain": [
              "       Category                                             Resume\n",
              "0  Data Science  Skills * Programming Languages: Python (pandas...\n",
              "1  Data Science  Education Details \\r\\nMay 2013 to May 2017 B.E...\n",
              "2  Data Science  Areas of Interest Deep Learning, Control Syste...\n",
              "3  Data Science  Skills â¢ R â¢ Python â¢ SAP HANA â¢ Table...\n",
              "4  Data Science  Education Details \\r\\n MCA   YMCAUST,  Faridab..."
            ],
            "text/html": [
              "\n",
              "  <div id=\"df-9f934567-46a6-4a20-b23b-003fc0cb9e29\">\n",
              "    <div class=\"colab-df-container\">\n",
              "      <div>\n",
              "<style scoped>\n",
              "    .dataframe tbody tr th:only-of-type {\n",
              "        vertical-align: middle;\n",
              "    }\n",
              "\n",
              "    .dataframe tbody tr th {\n",
              "        vertical-align: top;\n",
              "    }\n",
              "\n",
              "    .dataframe thead th {\n",
              "        text-align: right;\n",
              "    }\n",
              "</style>\n",
              "<table border=\"1\" class=\"dataframe\">\n",
              "  <thead>\n",
              "    <tr style=\"text-align: right;\">\n",
              "      <th></th>\n",
              "      <th>Category</th>\n",
              "      <th>Resume</th>\n",
              "    </tr>\n",
              "  </thead>\n",
              "  <tbody>\n",
              "    <tr>\n",
              "      <th>0</th>\n",
              "      <td>Data Science</td>\n",
              "      <td>Skills * Programming Languages: Python (pandas...</td>\n",
              "    </tr>\n",
              "    <tr>\n",
              "      <th>1</th>\n",
              "      <td>Data Science</td>\n",
              "      <td>Education Details \\r\\nMay 2013 to May 2017 B.E...</td>\n",
              "    </tr>\n",
              "    <tr>\n",
              "      <th>2</th>\n",
              "      <td>Data Science</td>\n",
              "      <td>Areas of Interest Deep Learning, Control Syste...</td>\n",
              "    </tr>\n",
              "    <tr>\n",
              "      <th>3</th>\n",
              "      <td>Data Science</td>\n",
              "      <td>Skills â¢ R â¢ Python â¢ SAP HANA â¢ Table...</td>\n",
              "    </tr>\n",
              "    <tr>\n",
              "      <th>4</th>\n",
              "      <td>Data Science</td>\n",
              "      <td>Education Details \\r\\n MCA   YMCAUST,  Faridab...</td>\n",
              "    </tr>\n",
              "  </tbody>\n",
              "</table>\n",
              "</div>\n",
              "      <button class=\"colab-df-convert\" onclick=\"convertToInteractive('df-9f934567-46a6-4a20-b23b-003fc0cb9e29')\"\n",
              "              title=\"Convert this dataframe to an interactive table.\"\n",
              "              style=\"display:none;\">\n",
              "        \n",
              "  <svg xmlns=\"http://www.w3.org/2000/svg\" height=\"24px\"viewBox=\"0 0 24 24\"\n",
              "       width=\"24px\">\n",
              "    <path d=\"M0 0h24v24H0V0z\" fill=\"none\"/>\n",
              "    <path d=\"M18.56 5.44l.94 2.06.94-2.06 2.06-.94-2.06-.94-.94-2.06-.94 2.06-2.06.94zm-11 1L8.5 8.5l.94-2.06 2.06-.94-2.06-.94L8.5 2.5l-.94 2.06-2.06.94zm10 10l.94 2.06.94-2.06 2.06-.94-2.06-.94-.94-2.06-.94 2.06-2.06.94z\"/><path d=\"M17.41 7.96l-1.37-1.37c-.4-.4-.92-.59-1.43-.59-.52 0-1.04.2-1.43.59L10.3 9.45l-7.72 7.72c-.78.78-.78 2.05 0 2.83L4 21.41c.39.39.9.59 1.41.59.51 0 1.02-.2 1.41-.59l7.78-7.78 2.81-2.81c.8-.78.8-2.07 0-2.86zM5.41 20L4 18.59l7.72-7.72 1.47 1.35L5.41 20z\"/>\n",
              "  </svg>\n",
              "      </button>\n",
              "      \n",
              "  <style>\n",
              "    .colab-df-container {\n",
              "      display:flex;\n",
              "      flex-wrap:wrap;\n",
              "      gap: 12px;\n",
              "    }\n",
              "\n",
              "    .colab-df-convert {\n",
              "      background-color: #E8F0FE;\n",
              "      border: none;\n",
              "      border-radius: 50%;\n",
              "      cursor: pointer;\n",
              "      display: none;\n",
              "      fill: #1967D2;\n",
              "      height: 32px;\n",
              "      padding: 0 0 0 0;\n",
              "      width: 32px;\n",
              "    }\n",
              "\n",
              "    .colab-df-convert:hover {\n",
              "      background-color: #E2EBFA;\n",
              "      box-shadow: 0px 1px 2px rgba(60, 64, 67, 0.3), 0px 1px 3px 1px rgba(60, 64, 67, 0.15);\n",
              "      fill: #174EA6;\n",
              "    }\n",
              "\n",
              "    [theme=dark] .colab-df-convert {\n",
              "      background-color: #3B4455;\n",
              "      fill: #D2E3FC;\n",
              "    }\n",
              "\n",
              "    [theme=dark] .colab-df-convert:hover {\n",
              "      background-color: #434B5C;\n",
              "      box-shadow: 0px 1px 3px 1px rgba(0, 0, 0, 0.15);\n",
              "      filter: drop-shadow(0px 1px 2px rgba(0, 0, 0, 0.3));\n",
              "      fill: #FFFFFF;\n",
              "    }\n",
              "  </style>\n",
              "\n",
              "      <script>\n",
              "        const buttonEl =\n",
              "          document.querySelector('#df-9f934567-46a6-4a20-b23b-003fc0cb9e29 button.colab-df-convert');\n",
              "        buttonEl.style.display =\n",
              "          google.colab.kernel.accessAllowed ? 'block' : 'none';\n",
              "\n",
              "        async function convertToInteractive(key) {\n",
              "          const element = document.querySelector('#df-9f934567-46a6-4a20-b23b-003fc0cb9e29');\n",
              "          const dataTable =\n",
              "            await google.colab.kernel.invokeFunction('convertToInteractive',\n",
              "                                                     [key], {});\n",
              "          if (!dataTable) return;\n",
              "\n",
              "          const docLinkHtml = 'Like what you see? Visit the ' +\n",
              "            '<a target=\"_blank\" href=https://colab.research.google.com/notebooks/data_table.ipynb>data table notebook</a>'\n",
              "            + ' to learn more about interactive tables.';\n",
              "          element.innerHTML = '';\n",
              "          dataTable['output_type'] = 'display_data';\n",
              "          await google.colab.output.renderOutput(dataTable, element);\n",
              "          const docLink = document.createElement('div');\n",
              "          docLink.innerHTML = docLinkHtml;\n",
              "          element.appendChild(docLink);\n",
              "        }\n",
              "      </script>\n",
              "    </div>\n",
              "  </div>\n",
              "  "
            ]
          },
          "metadata": {},
          "execution_count": 2
        }
      ]
    },
    {
      "cell_type": "code",
      "source": [
        "#view \n",
        "resume.Category.hist(bins=25)\n",
        "#looks like a pretty even distribution of categories, the minimum number of resumes for 1 particular categories is 20"
      ],
      "metadata": {
        "colab": {
          "base_uri": "https://localhost:8080/",
          "height": 282
        },
        "id": "iPDsdEtBOq2U",
        "outputId": "e4bfda74-2a2a-45fe-a376-9d64b8b8031d"
      },
      "execution_count": 3,
      "outputs": [
        {
          "output_type": "execute_result",
          "data": {
            "text/plain": [
              "<matplotlib.axes._subplots.AxesSubplot at 0x7f7847ac1950>"
            ]
          },
          "metadata": {},
          "execution_count": 3
        },
        {
          "output_type": "display_data",
          "data": {
            "text/plain": [
              "<Figure size 432x288 with 1 Axes>"
            ],
            "image/png": "[encoded data removed]"
          },
          "metadata": {
            "needs_background": "light"
          }
        }
      ]
    },
    {
      "cell_type": "code",
      "source": [
        "#find number of resumes for training versus validation set\n",
        "len(resume)\n",
        "#962 resumes\n",
        "\n",
        "962*.2\n",
        "#193 resumes for 20% validation\n",
        "962-193\n",
        "#769 entries for training"
      ],
      "metadata": {
        "colab": {
          "base_uri": "https://localhost:8080/"
        },
        "id": "nGxmv2D4OuXB",
        "outputId": "25dd8da2-cb41-460c-c3cb-300aeb3b2205"
      },
      "execution_count": 4,
      "outputs": [
        {
          "output_type": "execute_result",
          "data": {
            "text/plain": [
              "769"
            ]
          },
          "metadata": {},
          "execution_count": 4
        }
      ]
    },
    {
      "cell_type": "code",
      "source": [
        "#label encoding categories\n",
        "import pandas as pd\n",
        "import numpy as np\n",
        "from sklearn.preprocessing import LabelEncoder\n",
        "# creating initial dataframe\n",
        "resume[\"Category\"] = resume[\"Category\"].astype('category')\n",
        "resume.dtypes\n",
        "d = dict(enumerate(resume.Category))\n",
        "print (d)"
      ],
      "metadata": {
        "colab": {
          "base_uri": "https://localhost:8080/"
        },
        "id": "kjZ7MkFfOv5F",
        "outputId": "b1633dba-9ef6-4ef7-f070-6e1a24f67a2a"
      },
      "execution_count": 5,
      "outputs": [
        {
          "output_type": "stream",
          "name": "stdout",
          "text": [
            "{0: 'Data Science', 1: 'Data Science', 2: 'Data Science', 3: 'Data Science', 4: 'Data Science', 5: 'Data Science', 6: 'Data Science', 7: 'Data Science', 8: 'Data Science', 9: 'Data Science', 10: 'Data Science', 11: 'Data Science', 12: 'Data Science', 13: 'Data Science', 14: 'Data Science', 15: 'Data Science', 16: 'Data Science', 17: 'Data Science', 18: 'Data Science', 19: 'Data Science', 20: 'Data Science', 21: 'Data Science', 22: 'Data Science', 23: 'Data Science', 24: 'Data Science', 25: 'Data Science', 26: 'Data Science', 27: 'Data Science', 28: 'Data Science', 29: 'Data Science', 30: 'Data Science', 31: 'Data Science', 32: 'Data Science', 33: 'Data Science', 34: 'Data Science', 35: 'Data Science', 36: 'Data Science', 37: 'Data Science', 38: 'Data Science', 39: 'Data Science', 40: 'HR', 41: 'HR', 42: 'HR', 43: 'HR', 44: 'HR', 45: 'HR', 46: 'HR', 47: 'HR', 48: 'HR', 49: 'HR', 50: 'HR', 51: 'HR', 52: 'HR', 53: 'HR', 54: 'HR', 55: 'HR', 56: 'HR', 57: 'HR', 58: 'HR', 59: 'HR', 60: 'HR', 61: 'HR', 62: 'HR', 63: 'HR', 64: 'HR', 65: 'HR', 66: 'HR', 67: 'HR', 68: 'HR', 69: 'HR', 70: 'HR', 71: 'HR', 72: 'HR', 73: 'HR', 74: 'HR', 75: 'HR', 76: 'HR', 77: 'HR', 78: 'HR', 79: 'HR', 80: 'HR', 81: 'HR', 82: 'HR', 83: 'HR', 84: 'Advocate', 85: 'Advocate', 86: 'Advocate', 87: 'Advocate', 88: 'Advocate', 89: 'Advocate', 90: 'Advocate', 91: 'Advocate', 92: 'Advocate', 93: 'Advocate', 94: 'Advocate', 95: 'Advocate', 96: 'Advocate', 97: 'Advocate', 98: 'Advocate', 99: 'Advocate', 100: 'Advocate', 101: 'Advocate', 102: 'Advocate', 103: 'Advocate', 104: 'Arts', 105: 'Arts', 106: 'Arts', 107: 'Arts', 108: 'Arts', 109: 'Arts', 110: 'Arts', 111: 'Arts', 112: 'Arts', 113: 'Arts', 114: 'Arts', 115: 'Arts', 116: 'Arts', 117: 'Arts', 118: 'Arts', 119: 'Arts', 120: 'Arts', 121: 'Arts', 122: 'Arts', 123: 'Arts', 124: 'Arts', 125: 'Arts', 126: 'Arts', 127: 'Arts', 128: 'Arts', 129: 'Arts', 130: 'Arts', 131: 'Arts', 132: 'Arts', 133: 'Arts', 134: 'Arts', 135: 'Arts', 136: 'Arts', 137: 'Arts', 138: 'Arts', 139: 'Arts', 140: 'Web Designing', 141: 'Web Designing', 142: 'Web Designing', 143: 'Web Designing', 144: 'Web Designing', 145: 'Web Designing', 146: 'Web Designing', 147: 'Web Designing', 148: 'Web Designing', 149: 'Web Designing', 150: 'Web Designing', 151: 'Web Designing', 152: 'Web Designing', 153: 'Web Designing', 154: 'Web Designing', 155: 'Web Designing', 156: 'Web Designing', 157: 'Web Designing', 158: 'Web Designing', 159: 'Web Designing', 160: 'Web Designing', 161: 'Web Designing', 162: 'Web Designing', 163: 'Web Designing', 164: 'Web Designing', 165: 'Web Designing', 166: 'Web Designing', 167: 'Web Designing', 168: 'Web Designing', 169: 'Web Designing', 170: 'Web Designing', 171: 'Web Designing', 172: 'Web Designing', 173: 'Web Designing', 174: 'Web Designing', 175: 'Web Designing', 176: 'Web Designing', 177: 'Web Designing', 178: 'Web Designing', 179: 'Web Designing', 180: 'Web Designing', 181: 'Web Designing', 182: 'Web Designing', 183: 'Web Designing', 184: 'Web Designing', 185: 'Mechanical Engineer', 186: 'Mechanical Engineer', 187: 'Mechanical Engineer', 188: 'Mechanical Engineer', 189: 'Mechanical Engineer', 190: 'Mechanical Engineer', 191: 'Mechanical Engineer', 192: 'Mechanical Engineer', 193: 'Mechanical Engineer', 194: 'Mechanical Engineer', 195: 'Mechanical Engineer', 196: 'Mechanical Engineer', 197: 'Mechanical Engineer', 198: 'Mechanical Engineer', 199: 'Mechanical Engineer', 200: 'Mechanical Engineer', 201: 'Mechanical Engineer', 202: 'Mechanical Engineer', 203: 'Mechanical Engineer', 204: 'Mechanical Engineer', 205: 'Mechanical Engineer', 206: 'Mechanical Engineer', 207: 'Mechanical Engineer', 208: 'Mechanical Engineer', 209: 'Mechanical Engineer', 210: 'Mechanical Engineer', 211: 'Mechanical Engineer', 212: 'Mechanical Engineer', 213: 'Mechanical Engineer', 214: 'Mechanical Engineer', 215: 'Mechanical Engineer', 216: 'Mechanical Engineer', 217: 'Mechanical Engineer', 218: 'Mechanical Engineer', 219: 'Mechanical Engineer', 220: 'Mechanical Engineer', 221: 'Mechanical Engineer', 222: 'Mechanical Engineer', 223: 'Mechanical Engineer', 224: 'Mechanical Engineer', 225: 'Sales', 226: 'Sales', 227: 'Sales', 228: 'Sales', 229: 'Sales', 230: 'Sales', 231: 'Sales', 232: 'Sales', 233: 'Sales', 234: 'Sales', 235: 'Sales', 236: 'Sales', 237: 'Sales', 238: 'Sales', 239: 'Sales', 240: 'Sales', 241: 'Sales', 242: 'Sales', 243: 'Sales', 244: 'Sales', 245: 'Sales', 246: 'Sales', 247: 'Sales', 248: 'Sales', 249: 'Sales', 250: 'Sales', 251: 'Sales', 252: 'Sales', 253: 'Sales', 254: 'Sales', 255: 'Sales', 256: 'Sales', 257: 'Sales', 258: 'Sales', 259: 'Sales', 260: 'Sales', 261: 'Sales', 262: 'Sales', 263: 'Sales', 264: 'Sales', 265: 'Health and fitness', 266: 'Health and fitness', 267: 'Health and fitness', 268: 'Health and fitness', 269: 'Health and fitness', 270: 'Health and fitness', 271: 'Health and fitness', 272: 'Health and fitness', 273: 'Health and fitness', 274: 'Health and fitness', 275: 'Health and fitness', 276: 'Health and fitness', 277: 'Health and fitness', 278: 'Health and fitness', 279: 'Health and fitness', 280: 'Health and fitness', 281: 'Health and fitness', 282: 'Health and fitness', 283: 'Health and fitness', 284: 'Health and fitness', 285: 'Health and fitness', 286: 'Health and fitness', 287: 'Health and fitness', 288: 'Health and fitness', 289: 'Health and fitness', 290: 'Health and fitness', 291: 'Health and fitness', 292: 'Health and fitness', 293: 'Health and fitness', 294: 'Health and fitness', 295: 'Civil Engineer', 296: 'Civil Engineer', 297: 'Civil Engineer', 298: 'Civil Engineer', 299: 'Civil Engineer', 300: 'Civil Engineer', 301: 'Civil Engineer', 302: 'Civil Engineer', 303: 'Civil Engineer', 304: 'Civil Engineer', 305: 'Civil Engineer', 306: 'Civil Engineer', 307: 'Civil Engineer', 308: 'Civil Engineer', 309: 'Civil Engineer', 310: 'Civil Engineer', 311: 'Civil Engineer', 312: 'Civil Engineer', 313: 'Civil Engineer', 314: 'Civil Engineer', 315: 'Civil Engineer', 316: 'Civil Engineer', 317: 'Civil Engineer', 318: 'Civil Engineer', 319: 'Java Developer', 320: 'Java Developer', 321: 'Java Developer', 322: 'Java Developer', 323: 'Java Developer', 324: 'Java Developer', 325: 'Java Developer', 326: 'Java Developer', 327: 'Java Developer', 328: 'Java Developer', 329: 'Java Developer', 330: 'Java Developer', 331: 'Java Developer', 332: 'Java Developer', 333: 'Java Developer', 334: 'Java Developer', 335: 'Java Developer', 336: 'Java Developer', 337: 'Java Developer', 338: 'Java Developer', 339: 'Java Developer', 340: 'Java Developer', 341: 'Java Developer', 342: 'Java Developer', 343: 'Java Developer', 344: 'Java Developer', 345: 'Java Developer', 346: 'Java Developer', 347: 'Java Developer', 348: 'Java Developer', 349: 'Java Developer', 350: 'Java Developer', 351: 'Java Developer', 352: 'Java Developer', 353: 'Java Developer', 354: 'Java Developer', 355: 'Java Developer', 356: 'Java Developer', 357: 'Java Developer', 358: 'Java Developer', 359: 'Java Developer', 360: 'Java Developer', 361: 'Java Developer', 362: 'Java Developer', 363: 'Java Developer', 364: 'Java Developer', 365: 'Java Developer', 366: 'Java Developer', 367: 'Java Developer', 368: 'Java Developer', 369: 'Java Developer', 370: 'Java Developer', 371: 'Java Developer', 372: 'Java Developer', 373: 'Java Developer', 374: 'Java Developer', 375: 'Java Developer', 376: 'Java Developer', 377: 'Java Developer', 378: 'Java Developer', 379: 'Java Developer', 380: 'Java Developer', 381: 'Java Developer', 382: 'Java Developer', 383: 'Java Developer', 384: 'Java Developer', 385: 'Java Developer', 386: 'Java Developer', 387: 'Java Developer', 388: 'Java Developer', 389: 'Java Developer', 390: 'Java Developer', 391: 'Java Developer', 392: 'Java Developer', 393: 'Java Developer', 394: 'Java Developer', 395: 'Java Developer', 396: 'Java Developer', 397: 'Java Developer', 398: 'Java Developer', 399: 'Java Developer', 400: 'Java Developer', 401: 'Java Developer', 402: 'Java Developer', 403: 'Business Analyst', 404: 'Business Analyst', 405: 'Business Analyst', 406: 'Business Analyst', 407: 'Business Analyst', 408: 'Business Analyst', 409: 'Business Analyst', 410: 'Business Analyst', 411: 'Business Analyst', 412: 'Business Analyst', 413: 'Business Analyst', 414: 'Business Analyst', 415: 'Business Analyst', 416: 'Business Analyst', 417: 'Business Analyst', 418: 'Business Analyst', 419: 'Business Analyst', 420: 'Business Analyst', 421: 'Business Analyst', 422: 'Business Analyst', 423: 'Business Analyst', 424: 'Business Analyst', 425: 'Business Analyst', 426: 'Business Analyst', 427: 'Business Analyst', 428: 'Business Analyst', 429: 'Business Analyst', 430: 'Business Analyst', 431: 'SAP Developer', 432: 'SAP Developer', 433: 'SAP Developer', 434: 'SAP Developer', 435: 'SAP Developer', 436: 'SAP Developer', 437: 'SAP Developer', 438: 'SAP Developer', 439: 'SAP Developer', 440: 'SAP Developer', 441: 'SAP Developer', 442: 'SAP Developer', 443: 'SAP Developer', 444: 'SAP Developer', 445: 'SAP Developer', 446: 'SAP Developer', 447: 'SAP Developer', 448: 'SAP Developer', 449: 'SAP Developer', 450: 'SAP Developer', 451: 'SAP Developer', 452: 'SAP Developer', 453: 'SAP Developer', 454: 'SAP Developer', 455: 'Automation Testing', 456: 'Automation Testing', 457: 'Automation Testing', 458: 'Automation Testing', 459: 'Automation Testing', 460: 'Automation Testing', 461: 'Automation Testing', 462: 'Automation Testing', 463: 'Automation Testing', 464: 'Automation Testing', 465: 'Automation Testing', 466: 'Automation Testing', 467: 'Automation Testing', 468: 'Automation Testing', 469: 'Automation Testing', 470: 'Automation Testing', 471: 'Automation Testing', 472: 'Automation Testing', 473: 'Automation Testing', 474: 'Automation Testing', 475: 'Automation Testing', 476: 'Automation Testing', 477: 'Automation Testing', 478: 'Automation Testing', 479: 'Automation Testing', 480: 'Automation Testing', 481: 'Electrical Engineering', 482: 'Electrical Engineering', 483: 'Electrical Engineering', 484: 'Electrical Engineering', 485: 'Electrical Engineering', 486: 'Electrical Engineering', 487: 'Electrical Engineering', 488: 'Electrical Engineering', 489: 'Electrical Engineering', 490: 'Electrical Engineering', 491: 'Electrical Engineering', 492: 'Electrical Engineering', 493: 'Electrical Engineering', 494: 'Electrical Engineering', 495: 'Electrical Engineering', 496: 'Electrical Engineering', 497: 'Electrical Engineering', 498: 'Electrical Engineering', 499: 'Electrical Engineering', 500: 'Electrical Engineering', 501: 'Electrical Engineering', 502: 'Electrical Engineering', 503: 'Electrical Engineering', 504: 'Electrical Engineering', 505: 'Electrical Engineering', 506: 'Electrical Engineering', 507: 'Electrical Engineering', 508: 'Electrical Engineering', 509: 'Electrical Engineering', 510: 'Electrical Engineering', 511: 'Operations Manager', 512: 'Operations Manager', 513: 'Operations Manager', 514: 'Operations Manager', 515: 'Operations Manager', 516: 'Operations Manager', 517: 'Operations Manager', 518: 'Operations Manager', 519: 'Operations Manager', 520: 'Operations Manager', 521: 'Operations Manager', 522: 'Operations Manager', 523: 'Operations Manager', 524: 'Operations Manager', 525: 'Operations Manager', 526: 'Operations Manager', 527: 'Operations Manager', 528: 'Operations Manager', 529: 'Operations Manager', 530: 'Operations Manager', 531: 'Operations Manager', 532: 'Operations Manager', 533: 'Operations Manager', 534: 'Operations Manager', 535: 'Operations Manager', 536: 'Operations Manager', 537: 'Operations Manager', 538: 'Operations Manager', 539: 'Operations Manager', 540: 'Operations Manager', 541: 'Operations Manager', 542: 'Operations Manager', 543: 'Operations Manager', 544: 'Operations Manager', 545: 'Operations Manager', 546: 'Operations Manager', 547: 'Operations Manager', 548: 'Operations Manager', 549: 'Operations Manager', 550: 'Operations Manager', 551: 'Python Developer', 552: 'Python Developer', 553: 'Python Developer', 554: 'Python Developer', 555: 'Python Developer', 556: 'Python Developer', 557: 'Python Developer', 558: 'Python Developer', 559: 'Python Developer', 560: 'Python Developer', 561: 'Python Developer', 562: 'Python Developer', 563: 'Python Developer', 564: 'Python Developer', 565: 'Python Developer', 566: 'Python Developer', 567: 'Python Developer', 568: 'Python Developer', 569: 'Python Developer', 570: 'Python Developer', 571: 'Python Developer', 572: 'Python Developer', 573: 'Python Developer', 574: 'Python Developer', 575: 'Python Developer', 576: 'Python Developer', 577: 'Python Developer', 578: 'Python Developer', 579: 'Python Developer', 580: 'Python Developer', 581: 'Python Developer', 582: 'Python Developer', 583: 'Python Developer', 584: 'Python Developer', 585: 'Python Developer', 586: 'Python Developer', 587: 'Python Developer', 588: 'Python Developer', 589: 'Python Developer', 590: 'Python Developer', 591: 'Python Developer', 592: 'Python Developer', 593: 'Python Developer', 594: 'Python Developer', 595: 'Python Developer', 596: 'Python Developer', 597: 'Python Developer', 598: 'Python Developer', 599: 'DevOps Engineer', 600: 'DevOps Engineer', 601: 'DevOps Engineer', 602: 'DevOps Engineer', 603: 'DevOps Engineer', 604: 'DevOps Engineer', 605: 'DevOps Engineer', 606: 'DevOps Engineer', 607: 'DevOps Engineer', 608: 'DevOps Engineer', 609: 'DevOps Engineer', 610: 'DevOps Engineer', 611: 'DevOps Engineer', 612: 'DevOps Engineer', 613: 'DevOps Engineer', 614: 'DevOps Engineer', 615: 'DevOps Engineer', 616: 'DevOps Engineer', 617: 'DevOps Engineer', 618: 'DevOps Engineer', 619: 'DevOps Engineer', 620: 'DevOps Engineer', 621: 'DevOps Engineer', 622: 'DevOps Engineer', 623: 'DevOps Engineer', 624: 'DevOps Engineer', 625: 'DevOps Engineer', 626: 'DevOps Engineer', 627: 'DevOps Engineer', 628: 'DevOps Engineer', 629: 'DevOps Engineer', 630: 'DevOps Engineer', 631: 'DevOps Engineer', 632: 'DevOps Engineer', 633: 'DevOps Engineer', 634: 'DevOps Engineer', 635: 'DevOps Engineer', 636: 'DevOps Engineer', 637: 'DevOps Engineer', 638: 'DevOps Engineer', 639: 'DevOps Engineer', 640: 'DevOps Engineer', 641: 'DevOps Engineer', 642: 'DevOps Engineer', 643: 'DevOps Engineer', 644: 'DevOps Engineer', 645: 'DevOps Engineer', 646: 'DevOps Engineer', 647: 'DevOps Engineer', 648: 'DevOps Engineer', 649: 'DevOps Engineer', 650: 'DevOps Engineer', 651: 'DevOps Engineer', 652: 'DevOps Engineer', 653: 'DevOps Engineer', 654: 'Network Security Engineer', 655: 'Network Security Engineer', 656: 'Network Security Engineer', 657: 'Network Security Engineer', 658: 'Network Security Engineer', 659: 'Network Security Engineer', 660: 'Network Security Engineer', 661: 'Network Security Engineer', 662: 'Network Security Engineer', 663: 'Network Security Engineer', 664: 'Network Security Engineer', 665: 'Network Security Engineer', 666: 'Network Security Engineer', 667: 'Network Security Engineer', 668: 'Network Security Engineer', 669: 'Network Security Engineer', 670: 'Network Security Engineer', 671: 'Network Security Engineer', 672: 'Network Security Engineer', 673: 'Network Security Engineer', 674: 'Network Security Engineer', 675: 'Network Security Engineer', 676: 'Network Security Engineer', 677: 'Network Security Engineer', 678: 'Network Security Engineer', 679: 'PMO', 680: 'PMO', 681: 'PMO', 682: 'PMO', 683: 'PMO', 684: 'PMO', 685: 'PMO', 686: 'PMO', 687: 'PMO', 688: 'PMO', 689: 'PMO', 690: 'PMO', 691: 'PMO', 692: 'PMO', 693: 'PMO', 694: 'PMO', 695: 'PMO', 696: 'PMO', 697: 'PMO', 698: 'PMO', 699: 'PMO', 700: 'PMO', 701: 'PMO', 702: 'PMO', 703: 'PMO', 704: 'PMO', 705: 'PMO', 706: 'PMO', 707: 'PMO', 708: 'PMO', 709: 'Database', 710: 'Database', 711: 'Database', 712: 'Database', 713: 'Database', 714: 'Database', 715: 'Database', 716: 'Database', 717: 'Database', 718: 'Database', 719: 'Database', 720: 'Database', 721: 'Database', 722: 'Database', 723: 'Database', 724: 'Database', 725: 'Database', 726: 'Database', 727: 'Database', 728: 'Database', 729: 'Database', 730: 'Database', 731: 'Database', 732: 'Database', 733: 'Database', 734: 'Database', 735: 'Database', 736: 'Database', 737: 'Database', 738: 'Database', 739: 'Database', 740: 'Database', 741: 'Database', 742: 'Hadoop', 743: 'Hadoop', 744: 'Hadoop', 745: 'Hadoop', 746: 'Hadoop', 747: 'Hadoop', 748: 'Hadoop', 749: 'Hadoop', 750: 'Hadoop', 751: 'Hadoop', 752: 'Hadoop', 753: 'Hadoop', 754: 'Hadoop', 755: 'Hadoop', 756: 'Hadoop', 757: 'Hadoop', 758: 'Hadoop', 759: 'Hadoop', 760: 'Hadoop', 761: 'Hadoop', 762: 'Hadoop', 763: 'Hadoop', 764: 'Hadoop', 765: 'Hadoop', 766: 'Hadoop', 767: 'Hadoop', 768: 'Hadoop', 769: 'Hadoop', 770: 'Hadoop', 771: 'Hadoop', 772: 'Hadoop', 773: 'Hadoop', 774: 'Hadoop', 775: 'Hadoop', 776: 'Hadoop', 777: 'Hadoop', 778: 'Hadoop', 779: 'Hadoop', 780: 'Hadoop', 781: 'Hadoop', 782: 'Hadoop', 783: 'Hadoop', 784: 'ETL Developer', 785: 'ETL Developer', 786: 'ETL Developer', 787: 'ETL Developer', 788: 'ETL Developer', 789: 'ETL Developer', 790: 'ETL Developer', 791: 'ETL Developer', 792: 'ETL Developer', 793: 'ETL Developer', 794: 'ETL Developer', 795: 'ETL Developer', 796: 'ETL Developer', 797: 'ETL Developer', 798: 'ETL Developer', 799: 'ETL Developer', 800: 'ETL Developer', 801: 'ETL Developer', 802: 'ETL Developer', 803: 'ETL Developer', 804: 'ETL Developer', 805: 'ETL Developer', 806: 'ETL Developer', 807: 'ETL Developer', 808: 'ETL Developer', 809: 'ETL Developer', 810: 'ETL Developer', 811: 'ETL Developer', 812: 'ETL Developer', 813: 'ETL Developer', 814: 'ETL Developer', 815: 'ETL Developer', 816: 'ETL Developer', 817: 'ETL Developer', 818: 'ETL Developer', 819: 'ETL Developer', 820: 'ETL Developer', 821: 'ETL Developer', 822: 'ETL Developer', 823: 'ETL Developer', 824: 'DotNet Developer', 825: 'DotNet Developer', 826: 'DotNet Developer', 827: 'DotNet Developer', 828: 'DotNet Developer', 829: 'DotNet Developer', 830: 'DotNet Developer', 831: 'DotNet Developer', 832: 'DotNet Developer', 833: 'DotNet Developer', 834: 'DotNet Developer', 835: 'DotNet Developer', 836: 'DotNet Developer', 837: 'DotNet Developer', 838: 'DotNet Developer', 839: 'DotNet Developer', 840: 'DotNet Developer', 841: 'DotNet Developer', 842: 'DotNet Developer', 843: 'DotNet Developer', 844: 'DotNet Developer', 845: 'DotNet Developer', 846: 'DotNet Developer', 847: 'DotNet Developer', 848: 'DotNet Developer', 849: 'DotNet Developer', 850: 'DotNet Developer', 851: 'DotNet Developer', 852: 'Blockchain', 853: 'Blockchain', 854: 'Blockchain', 855: 'Blockchain', 856: 'Blockchain', 857: 'Blockchain', 858: 'Blockchain', 859: 'Blockchain', 860: 'Blockchain', 861: 'Blockchain', 862: 'Blockchain', 863: 'Blockchain', 864: 'Blockchain', 865: 'Blockchain', 866: 'Blockchain', 867: 'Blockchain', 868: 'Blockchain', 869: 'Blockchain', 870: 'Blockchain', 871: 'Blockchain', 872: 'Blockchain', 873: 'Blockchain', 874: 'Blockchain', 875: 'Blockchain', 876: 'Blockchain', 877: 'Blockchain', 878: 'Blockchain', 879: 'Blockchain', 880: 'Blockchain', 881: 'Blockchain', 882: 'Blockchain', 883: 'Blockchain', 884: 'Blockchain', 885: 'Blockchain', 886: 'Blockchain', 887: 'Blockchain', 888: 'Blockchain', 889: 'Blockchain', 890: 'Blockchain', 891: 'Blockchain', 892: 'Testing', 893: 'Testing', 894: 'Testing', 895: 'Testing', 896: 'Testing', 897: 'Testing', 898: 'Testing', 899: 'Testing', 900: 'Testing', 901: 'Testing', 902: 'Testing', 903: 'Testing', 904: 'Testing', 905: 'Testing', 906: 'Testing', 907: 'Testing', 908: 'Testing', 909: 'Testing', 910: 'Testing', 911: 'Testing', 912: 'Testing', 913: 'Testing', 914: 'Testing', 915: 'Testing', 916: 'Testing', 917: 'Testing', 918: 'Testing', 919: 'Testing', 920: 'Testing', 921: 'Testing', 922: 'Testing', 923: 'Testing', 924: 'Testing', 925: 'Testing', 926: 'Testing', 927: 'Testing', 928: 'Testing', 929: 'Testing', 930: 'Testing', 931: 'Testing', 932: 'Testing', 933: 'Testing', 934: 'Testing', 935: 'Testing', 936: 'Testing', 937: 'Testing', 938: 'Testing', 939: 'Testing', 940: 'Testing', 941: 'Testing', 942: 'Testing', 943: 'Testing', 944: 'Testing', 945: 'Testing', 946: 'Testing', 947: 'Testing', 948: 'Testing', 949: 'Testing', 950: 'Testing', 951: 'Testing', 952: 'Testing', 953: 'Testing', 954: 'Testing', 955: 'Testing', 956: 'Testing', 957: 'Testing', 958: 'Testing', 959: 'Testing', 960: 'Testing', 961: 'Testing'}\n"
          ]
        }
      ]
    },
    {
      "cell_type": "code",
      "source": [
        "resume[\"Category\"] = resume[\"Category\"].cat.codes\n",
        "resume.head()"
      ],
      "metadata": {
        "colab": {
          "base_uri": "https://localhost:8080/",
          "height": 206
        },
        "id": "wTZitdU9Ox5M",
        "outputId": "b8763755-7f12-4271-b23c-de9cf6bea0eb"
      },
      "execution_count": 6,
      "outputs": [
        {
          "output_type": "execute_result",
          "data": {
            "text/plain": [
              "   Category                                             Resume\n",
              "0         6  Skills * Programming Languages: Python (pandas...\n",
              "1         6  Education Details \\r\\nMay 2013 to May 2017 B.E...\n",
              "2         6  Areas of Interest Deep Learning, Control Syste...\n",
              "3         6  Skills â¢ R â¢ Python â¢ SAP HANA â¢ Table...\n",
              "4         6  Education Details \\r\\n MCA   YMCAUST,  Faridab..."
            ],
            "text/html": [
              "\n",
              "  <div id=\"df-b50938eb-e20d-442c-8c1b-4e9aaf76abe4\">\n",
              "    <div class=\"colab-df-container\">\n",
              "      <div>\n",
              "<style scoped>\n",
              "    .dataframe tbody tr th:only-of-type {\n",
              "        vertical-align: middle;\n",
              "    }\n",
              "\n",
              "    .dataframe tbody tr th {\n",
              "        vertical-align: top;\n",
              "    }\n",
              "\n",
              "    .dataframe thead th {\n",
              "        text-align: right;\n",
              "    }\n",
              "</style>\n",
              "<table border=\"1\" class=\"dataframe\">\n",
              "  <thead>\n",
              "    <tr style=\"text-align: right;\">\n",
              "      <th></th>\n",
              "      <th>Category</th>\n",
              "      <th>Resume</th>\n",
              "    </tr>\n",
              "  </thead>\n",
              "  <tbody>\n",
              "    <tr>\n",
              "      <th>0</th>\n",
              "      <td>6</td>\n",
              "      <td>Skills * Programming Languages: Python (pandas...</td>\n",
              "    </tr>\n",
              "    <tr>\n",
              "      <th>1</th>\n",
              "      <td>6</td>\n",
              "      <td>Education Details \\r\\nMay 2013 to May 2017 B.E...</td>\n",
              "    </tr>\n",
              "    <tr>\n",
              "      <th>2</th>\n",
              "      <td>6</td>\n",
              "      <td>Areas of Interest Deep Learning, Control Syste...</td>\n",
              "    </tr>\n",
              "    <tr>\n",
              "      <th>3</th>\n",
              "      <td>6</td>\n",
              "      <td>Skills â¢ R â¢ Python â¢ SAP HANA â¢ Table...</td>\n",
              "    </tr>\n",
              "    <tr>\n",
              "      <th>4</th>\n",
              "      <td>6</td>\n",
              "      <td>Education Details \\r\\n MCA   YMCAUST,  Faridab...</td>\n",
              "    </tr>\n",
              "  </tbody>\n",
              "</table>\n",
              "</div>\n",
              "      <button class=\"colab-df-convert\" onclick=\"convertToInteractive('df-b50938eb-e20d-442c-8c1b-4e9aaf76abe4')\"\n",
              "              title=\"Convert this dataframe to an interactive table.\"\n",
              "              style=\"display:none;\">\n",
              "        \n",
              "  <svg xmlns=\"http://www.w3.org/2000/svg\" height=\"24px\"viewBox=\"0 0 24 24\"\n",
              "       width=\"24px\">\n",
              "    <path d=\"M0 0h24v24H0V0z\" fill=\"none\"/>\n",
              "    <path d=\"M18.56 5.44l.94 2.06.94-2.06 2.06-.94-2.06-.94-.94-2.06-.94 2.06-2.06.94zm-11 1L8.5 8.5l.94-2.06 2.06-.94-2.06-.94L8.5 2.5l-.94 2.06-2.06.94zm10 10l.94 2.06.94-2.06 2.06-.94-2.06-.94-.94-2.06-.94 2.06-2.06.94z\"/><path d=\"M17.41 7.96l-1.37-1.37c-.4-.4-.92-.59-1.43-.59-.52 0-1.04.2-1.43.59L10.3 9.45l-7.72 7.72c-.78.78-.78 2.05 0 2.83L4 21.41c.39.39.9.59 1.41.59.51 0 1.02-.2 1.41-.59l7.78-7.78 2.81-2.81c.8-.78.8-2.07 0-2.86zM5.41 20L4 18.59l7.72-7.72 1.47 1.35L5.41 20z\"/>\n",
              "  </svg>\n",
              "      </button>\n",
              "      \n",
              "  <style>\n",
              "    .colab-df-container {\n",
              "      display:flex;\n",
              "      flex-wrap:wrap;\n",
              "      gap: 12px;\n",
              "    }\n",
              "\n",
              "    .colab-df-convert {\n",
              "      background-color: #E8F0FE;\n",
              "      border: none;\n",
              "      border-radius: 50%;\n",
              "      cursor: pointer;\n",
              "      display: none;\n",
              "      fill: #1967D2;\n",
              "      height: 32px;\n",
              "      padding: 0 0 0 0;\n",
              "      width: 32px;\n",
              "    }\n",
              "\n",
              "    .colab-df-convert:hover {\n",
              "      background-color: #E2EBFA;\n",
              "      box-shadow: 0px 1px 2px rgba(60, 64, 67, 0.3), 0px 1px 3px 1px rgba(60, 64, 67, 0.15);\n",
              "      fill: #174EA6;\n",
              "    }\n",
              "\n",
              "    [theme=dark] .colab-df-convert {\n",
              "      background-color: #3B4455;\n",
              "      fill: #D2E3FC;\n",
              "    }\n",
              "\n",
              "    [theme=dark] .colab-df-convert:hover {\n",
              "      background-color: #434B5C;\n",
              "      box-shadow: 0px 1px 3px 1px rgba(0, 0, 0, 0.15);\n",
              "      filter: drop-shadow(0px 1px 2px rgba(0, 0, 0, 0.3));\n",
              "      fill: #FFFFFF;\n",
              "    }\n",
              "  </style>\n",
              "\n",
              "      <script>\n",
              "        const buttonEl =\n",
              "          document.querySelector('#df-b50938eb-e20d-442c-8c1b-4e9aaf76abe4 button.colab-df-convert');\n",
              "        buttonEl.style.display =\n",
              "          google.colab.kernel.accessAllowed ? 'block' : 'none';\n",
              "\n",
              "        async function convertToInteractive(key) {\n",
              "          const element = document.querySelector('#df-b50938eb-e20d-442c-8c1b-4e9aaf76abe4');\n",
              "          const dataTable =\n",
              "            await google.colab.kernel.invokeFunction('convertToInteractive',\n",
              "                                                     [key], {});\n",
              "          if (!dataTable) return;\n",
              "\n",
              "          const docLinkHtml = 'Like what you see? Visit the ' +\n",
              "            '<a target=\"_blank\" href=https://colab.research.google.com/notebooks/data_table.ipynb>data table notebook</a>'\n",
              "            + ' to learn more about interactive tables.';\n",
              "          element.innerHTML = '';\n",
              "          dataTable['output_type'] = 'display_data';\n",
              "          await google.colab.output.renderOutput(dataTable, element);\n",
              "          const docLink = document.createElement('div');\n",
              "          docLink.innerHTML = docLinkHtml;\n",
              "          element.appendChild(docLink);\n",
              "        }\n",
              "      </script>\n",
              "    </div>\n",
              "  </div>\n",
              "  "
            ]
          },
          "metadata": {},
          "execution_count": 6
        }
      ]
    },
    {
      "cell_type": "code",
      "source": [
        "resume.iloc[:, 0].unique()"
      ],
      "metadata": {
        "colab": {
          "base_uri": "https://localhost:8080/"
        },
        "id": "93lf7JU_Ozv-",
        "outputId": "9737331f-2974-4842-c154-6d3318580b88"
      },
      "execution_count": 7,
      "outputs": [
        {
          "output_type": "execute_result",
          "data": {
            "text/plain": [
              "array([ 6, 12,  0,  1, 24, 16, 22, 14,  5, 15,  4, 21,  2, 11, 18, 20,  8,\n",
              "       17, 19,  7, 13, 10,  9,  3, 23], dtype=int8)"
            ]
          },
          "metadata": {},
          "execution_count": 7
        }
      ]
    },
    {
      "cell_type": "code",
      "source": [
        "d = dict(enumerate(resume.Category))\n",
        "print (d)"
      ],
      "metadata": {
        "colab": {
          "base_uri": "https://localhost:8080/"
        },
        "id": "i3ht8_KsO1LX",
        "outputId": "394bea32-8cee-42d6-e8e9-8e4c3c747b3d"
      },
      "execution_count": 8,
      "outputs": [
        {
          "output_type": "stream",
          "name": "stdout",
          "text": [
            "{0: 6, 1: 6, 2: 6, 3: 6, 4: 6, 5: 6, 6: 6, 7: 6, 8: 6, 9: 6, 10: 6, 11: 6, 12: 6, 13: 6, 14: 6, 15: 6, 16: 6, 17: 6, 18: 6, 19: 6, 20: 6, 21: 6, 22: 6, 23: 6, 24: 6, 25: 6, 26: 6, 27: 6, 28: 6, 29: 6, 30: 6, 31: 6, 32: 6, 33: 6, 34: 6, 35: 6, 36: 6, 37: 6, 38: 6, 39: 6, 40: 12, 41: 12, 42: 12, 43: 12, 44: 12, 45: 12, 46: 12, 47: 12, 48: 12, 49: 12, 50: 12, 51: 12, 52: 12, 53: 12, 54: 12, 55: 12, 56: 12, 57: 12, 58: 12, 59: 12, 60: 12, 61: 12, 62: 12, 63: 12, 64: 12, 65: 12, 66: 12, 67: 12, 68: 12, 69: 12, 70: 12, 71: 12, 72: 12, 73: 12, 74: 12, 75: 12, 76: 12, 77: 12, 78: 12, 79: 12, 80: 12, 81: 12, 82: 12, 83: 12, 84: 0, 85: 0, 86: 0, 87: 0, 88: 0, 89: 0, 90: 0, 91: 0, 92: 0, 93: 0, 94: 0, 95: 0, 96: 0, 97: 0, 98: 0, 99: 0, 100: 0, 101: 0, 102: 0, 103: 0, 104: 1, 105: 1, 106: 1, 107: 1, 108: 1, 109: 1, 110: 1, 111: 1, 112: 1, 113: 1, 114: 1, 115: 1, 116: 1, 117: 1, 118: 1, 119: 1, 120: 1, 121: 1, 122: 1, 123: 1, 124: 1, 125: 1, 126: 1, 127: 1, 128: 1, 129: 1, 130: 1, 131: 1, 132: 1, 133: 1, 134: 1, 135: 1, 136: 1, 137: 1, 138: 1, 139: 1, 140: 24, 141: 24, 142: 24, 143: 24, 144: 24, 145: 24, 146: 24, 147: 24, 148: 24, 149: 24, 150: 24, 151: 24, 152: 24, 153: 24, 154: 24, 155: 24, 156: 24, 157: 24, 158: 24, 159: 24, 160: 24, 161: 24, 162: 24, 163: 24, 164: 24, 165: 24, 166: 24, 167: 24, 168: 24, 169: 24, 170: 24, 171: 24, 172: 24, 173: 24, 174: 24, 175: 24, 176: 24, 177: 24, 178: 24, 179: 24, 180: 24, 181: 24, 182: 24, 183: 24, 184: 24, 185: 16, 186: 16, 187: 16, 188: 16, 189: 16, 190: 16, 191: 16, 192: 16, 193: 16, 194: 16, 195: 16, 196: 16, 197: 16, 198: 16, 199: 16, 200: 16, 201: 16, 202: 16, 203: 16, 204: 16, 205: 16, 206: 16, 207: 16, 208: 16, 209: 16, 210: 16, 211: 16, 212: 16, 213: 16, 214: 16, 215: 16, 216: 16, 217: 16, 218: 16, 219: 16, 220: 16, 221: 16, 222: 16, 223: 16, 224: 16, 225: 22, 226: 22, 227: 22, 228: 22, 229: 22, 230: 22, 231: 22, 232: 22, 233: 22, 234: 22, 235: 22, 236: 22, 237: 22, 238: 22, 239: 22, 240: 22, 241: 22, 242: 22, 243: 22, 244: 22, 245: 22, 246: 22, 247: 22, 248: 22, 249: 22, 250: 22, 251: 22, 252: 22, 253: 22, 254: 22, 255: 22, 256: 22, 257: 22, 258: 22, 259: 22, 260: 22, 261: 22, 262: 22, 263: 22, 264: 22, 265: 14, 266: 14, 267: 14, 268: 14, 269: 14, 270: 14, 271: 14, 272: 14, 273: 14, 274: 14, 275: 14, 276: 14, 277: 14, 278: 14, 279: 14, 280: 14, 281: 14, 282: 14, 283: 14, 284: 14, 285: 14, 286: 14, 287: 14, 288: 14, 289: 14, 290: 14, 291: 14, 292: 14, 293: 14, 294: 14, 295: 5, 296: 5, 297: 5, 298: 5, 299: 5, 300: 5, 301: 5, 302: 5, 303: 5, 304: 5, 305: 5, 306: 5, 307: 5, 308: 5, 309: 5, 310: 5, 311: 5, 312: 5, 313: 5, 314: 5, 315: 5, 316: 5, 317: 5, 318: 5, 319: 15, 320: 15, 321: 15, 322: 15, 323: 15, 324: 15, 325: 15, 326: 15, 327: 15, 328: 15, 329: 15, 330: 15, 331: 15, 332: 15, 333: 15, 334: 15, 335: 15, 336: 15, 337: 15, 338: 15, 339: 15, 340: 15, 341: 15, 342: 15, 343: 15, 344: 15, 345: 15, 346: 15, 347: 15, 348: 15, 349: 15, 350: 15, 351: 15, 352: 15, 353: 15, 354: 15, 355: 15, 356: 15, 357: 15, 358: 15, 359: 15, 360: 15, 361: 15, 362: 15, 363: 15, 364: 15, 365: 15, 366: 15, 367: 15, 368: 15, 369: 15, 370: 15, 371: 15, 372: 15, 373: 15, 374: 15, 375: 15, 376: 15, 377: 15, 378: 15, 379: 15, 380: 15, 381: 15, 382: 15, 383: 15, 384: 15, 385: 15, 386: 15, 387: 15, 388: 15, 389: 15, 390: 15, 391: 15, 392: 15, 393: 15, 394: 15, 395: 15, 396: 15, 397: 15, 398: 15, 399: 15, 400: 15, 401: 15, 402: 15, 403: 4, 404: 4, 405: 4, 406: 4, 407: 4, 408: 4, 409: 4, 410: 4, 411: 4, 412: 4, 413: 4, 414: 4, 415: 4, 416: 4, 417: 4, 418: 4, 419: 4, 420: 4, 421: 4, 422: 4, 423: 4, 424: 4, 425: 4, 426: 4, 427: 4, 428: 4, 429: 4, 430: 4, 431: 21, 432: 21, 433: 21, 434: 21, 435: 21, 436: 21, 437: 21, 438: 21, 439: 21, 440: 21, 441: 21, 442: 21, 443: 21, 444: 21, 445: 21, 446: 21, 447: 21, 448: 21, 449: 21, 450: 21, 451: 21, 452: 21, 453: 21, 454: 21, 455: 2, 456: 2, 457: 2, 458: 2, 459: 2, 460: 2, 461: 2, 462: 2, 463: 2, 464: 2, 465: 2, 466: 2, 467: 2, 468: 2, 469: 2, 470: 2, 471: 2, 472: 2, 473: 2, 474: 2, 475: 2, 476: 2, 477: 2, 478: 2, 479: 2, 480: 2, 481: 11, 482: 11, 483: 11, 484: 11, 485: 11, 486: 11, 487: 11, 488: 11, 489: 11, 490: 11, 491: 11, 492: 11, 493: 11, 494: 11, 495: 11, 496: 11, 497: 11, 498: 11, 499: 11, 500: 11, 501: 11, 502: 11, 503: 11, 504: 11, 505: 11, 506: 11, 507: 11, 508: 11, 509: 11, 510: 11, 511: 18, 512: 18, 513: 18, 514: 18, 515: 18, 516: 18, 517: 18, 518: 18, 519: 18, 520: 18, 521: 18, 522: 18, 523: 18, 524: 18, 525: 18, 526: 18, 527: 18, 528: 18, 529: 18, 530: 18, 531: 18, 532: 18, 533: 18, 534: 18, 535: 18, 536: 18, 537: 18, 538: 18, 539: 18, 540: 18, 541: 18, 542: 18, 543: 18, 544: 18, 545: 18, 546: 18, 547: 18, 548: 18, 549: 18, 550: 18, 551: 20, 552: 20, 553: 20, 554: 20, 555: 20, 556: 20, 557: 20, 558: 20, 559: 20, 560: 20, 561: 20, 562: 20, 563: 20, 564: 20, 565: 20, 566: 20, 567: 20, 568: 20, 569: 20, 570: 20, 571: 20, 572: 20, 573: 20, 574: 20, 575: 20, 576: 20, 577: 20, 578: 20, 579: 20, 580: 20, 581: 20, 582: 20, 583: 20, 584: 20, 585: 20, 586: 20, 587: 20, 588: 20, 589: 20, 590: 20, 591: 20, 592: 20, 593: 20, 594: 20, 595: 20, 596: 20, 597: 20, 598: 20, 599: 8, 600: 8, 601: 8, 602: 8, 603: 8, 604: 8, 605: 8, 606: 8, 607: 8, 608: 8, 609: 8, 610: 8, 611: 8, 612: 8, 613: 8, 614: 8, 615: 8, 616: 8, 617: 8, 618: 8, 619: 8, 620: 8, 621: 8, 622: 8, 623: 8, 624: 8, 625: 8, 626: 8, 627: 8, 628: 8, 629: 8, 630: 8, 631: 8, 632: 8, 633: 8, 634: 8, 635: 8, 636: 8, 637: 8, 638: 8, 639: 8, 640: 8, 641: 8, 642: 8, 643: 8, 644: 8, 645: 8, 646: 8, 647: 8, 648: 8, 649: 8, 650: 8, 651: 8, 652: 8, 653: 8, 654: 17, 655: 17, 656: 17, 657: 17, 658: 17, 659: 17, 660: 17, 661: 17, 662: 17, 663: 17, 664: 17, 665: 17, 666: 17, 667: 17, 668: 17, 669: 17, 670: 17, 671: 17, 672: 17, 673: 17, 674: 17, 675: 17, 676: 17, 677: 17, 678: 17, 679: 19, 680: 19, 681: 19, 682: 19, 683: 19, 684: 19, 685: 19, 686: 19, 687: 19, 688: 19, 689: 19, 690: 19, 691: 19, 692: 19, 693: 19, 694: 19, 695: 19, 696: 19, 697: 19, 698: 19, 699: 19, 700: 19, 701: 19, 702: 19, 703: 19, 704: 19, 705: 19, 706: 19, 707: 19, 708: 19, 709: 7, 710: 7, 711: 7, 712: 7, 713: 7, 714: 7, 715: 7, 716: 7, 717: 7, 718: 7, 719: 7, 720: 7, 721: 7, 722: 7, 723: 7, 724: 7, 725: 7, 726: 7, 727: 7, 728: 7, 729: 7, 730: 7, 731: 7, 732: 7, 733: 7, 734: 7, 735: 7, 736: 7, 737: 7, 738: 7, 739: 7, 740: 7, 741: 7, 742: 13, 743: 13, 744: 13, 745: 13, 746: 13, 747: 13, 748: 13, 749: 13, 750: 13, 751: 13, 752: 13, 753: 13, 754: 13, 755: 13, 756: 13, 757: 13, 758: 13, 759: 13, 760: 13, 761: 13, 762: 13, 763: 13, 764: 13, 765: 13, 766: 13, 767: 13, 768: 13, 769: 13, 770: 13, 771: 13, 772: 13, 773: 13, 774: 13, 775: 13, 776: 13, 777: 13, 778: 13, 779: 13, 780: 13, 781: 13, 782: 13, 783: 13, 784: 10, 785: 10, 786: 10, 787: 10, 788: 10, 789: 10, 790: 10, 791: 10, 792: 10, 793: 10, 794: 10, 795: 10, 796: 10, 797: 10, 798: 10, 799: 10, 800: 10, 801: 10, 802: 10, 803: 10, 804: 10, 805: 10, 806: 10, 807: 10, 808: 10, 809: 10, 810: 10, 811: 10, 812: 10, 813: 10, 814: 10, 815: 10, 816: 10, 817: 10, 818: 10, 819: 10, 820: 10, 821: 10, 822: 10, 823: 10, 824: 9, 825: 9, 826: 9, 827: 9, 828: 9, 829: 9, 830: 9, 831: 9, 832: 9, 833: 9, 834: 9, 835: 9, 836: 9, 837: 9, 838: 9, 839: 9, 840: 9, 841: 9, 842: 9, 843: 9, 844: 9, 845: 9, 846: 9, 847: 9, 848: 9, 849: 9, 850: 9, 851: 9, 852: 3, 853: 3, 854: 3, 855: 3, 856: 3, 857: 3, 858: 3, 859: 3, 860: 3, 861: 3, 862: 3, 863: 3, 864: 3, 865: 3, 866: 3, 867: 3, 868: 3, 869: 3, 870: 3, 871: 3, 872: 3, 873: 3, 874: 3, 875: 3, 876: 3, 877: 3, 878: 3, 879: 3, 880: 3, 881: 3, 882: 3, 883: 3, 884: 3, 885: 3, 886: 3, 887: 3, 888: 3, 889: 3, 890: 3, 891: 3, 892: 23, 893: 23, 894: 23, 895: 23, 896: 23, 897: 23, 898: 23, 899: 23, 900: 23, 901: 23, 902: 23, 903: 23, 904: 23, 905: 23, 906: 23, 907: 23, 908: 23, 909: 23, 910: 23, 911: 23, 912: 23, 913: 23, 914: 23, 915: 23, 916: 23, 917: 23, 918: 23, 919: 23, 920: 23, 921: 23, 922: 23, 923: 23, 924: 23, 925: 23, 926: 23, 927: 23, 928: 23, 929: 23, 930: 23, 931: 23, 932: 23, 933: 23, 934: 23, 935: 23, 936: 23, 937: 23, 938: 23, 939: 23, 940: 23, 941: 23, 942: 23, 943: 23, 944: 23, 945: 23, 946: 23, 947: 23, 948: 23, 949: 23, 950: 23, 951: 23, 952: 23, 953: 23, 954: 23, 955: 23, 956: 23, 957: 23, 958: 23, 959: 23, 960: 23, 961: 23}\n"
          ]
        }
      ]
    }
  ]
}
