{
  "nbformat": 4,
  "nbformat_minor": 0,
  "metadata": {
    "colab": {
      "provenance": []
    },
    "kernelspec": {
      "name": "python3",
      "display_name": "Python 3"
    },
    "language_info": {
      "name": "python"
    },
    "accelerator": "GPU",
    "gpuClass": "standard"
  },
  "cells": [
    {
      "cell_type": "markdown",
      "source": [
        "Based on: https://github.com/openai/openai-cookbook/blob/main/examples/Regression_using_embeddings.ipynb\n",
        "and: https://github.com/JiayaoLi00/CMPE255/blob/main/gpt3/resume_classification_gpt3_part4_classification.ipynb"
      ],
      "metadata": {
        "id": "fAUSopnPr-Z2"
      }
    },
    {
      "cell_type": "code",
      "execution_count": 9,
      "metadata": {
        "colab": {
          "base_uri": "https://localhost:8080/"
        },
        "id": "SBatYLTmjjJQ",
        "outputId": "7154467e-972d-468a-f339-49bbbb67ec6c"
      },
      "outputs": [
        {
          "output_type": "stream",
          "name": "stdout",
          "text": [
            "Looking in indexes: https://pypi.org/simple, https://us-python.pkg.dev/colab-wheels/public/simple/\n",
            "Collecting openai\n",
            "  Downloading openai-0.25.0.tar.gz (44 kB)\n",
            "\u001b[K     |████████████████████████████████| 44 kB 2.2 MB/s \n",
            "\u001b[?25h  Installing build dependencies ... \u001b[?25l\u001b[?25hdone\n",
            "  Getting requirements to build wheel ... \u001b[?25l\u001b[?25hdone\n",
            "    Preparing wheel metadata ... \u001b[?25l\u001b[?25hdone\n",
            "Requirement already satisfied: openpyxl>=3.0.7 in /usr/local/lib/python3.8/dist-packages (from openai) (3.0.10)\n",
            "Requirement already satisfied: pandas>=1.2.3 in /usr/local/lib/python3.8/dist-packages (from openai) (1.3.5)\n",
            "Requirement already satisfied: typing-extensions in /usr/local/lib/python3.8/dist-packages (from openai) (4.1.1)\n",
            "Requirement already satisfied: requests>=2.20 in /usr/local/lib/python3.8/dist-packages (from openai) (2.23.0)\n",
            "Requirement already satisfied: tqdm in /usr/local/lib/python3.8/dist-packages (from openai) (4.64.1)\n",
            "Requirement already satisfied: numpy in /usr/local/lib/python3.8/dist-packages (from openai) (1.21.6)\n",
            "Collecting pandas-stubs>=1.1.0.11\n",
            "  Downloading pandas_stubs-1.5.2.221124-py3-none-any.whl (146 kB)\n",
            "\u001b[K     |████████████████████████████████| 146 kB 31.8 MB/s \n",
            "\u001b[?25hRequirement already satisfied: et-xmlfile in /usr/local/lib/python3.8/dist-packages (from openpyxl>=3.0.7->openai) (1.1.0)\n",
            "Requirement already satisfied: pytz>=2017.3 in /usr/local/lib/python3.8/dist-packages (from pandas>=1.2.3->openai) (2022.6)\n",
            "Requirement already satisfied: python-dateutil>=2.7.3 in /usr/local/lib/python3.8/dist-packages (from pandas>=1.2.3->openai) (2.8.2)\n",
            "Collecting types-pytz>=2022.1.1\n",
            "  Downloading types_pytz-2022.6.0.1-py3-none-any.whl (4.7 kB)\n",
            "Requirement already satisfied: six>=1.5 in /usr/local/lib/python3.8/dist-packages (from python-dateutil>=2.7.3->pandas>=1.2.3->openai) (1.15.0)\n",
            "Requirement already satisfied: idna<3,>=2.5 in /usr/local/lib/python3.8/dist-packages (from requests>=2.20->openai) (2.10)\n",
            "Requirement already satisfied: certifi>=2017.4.17 in /usr/local/lib/python3.8/dist-packages (from requests>=2.20->openai) (2022.9.24)\n",
            "Requirement already satisfied: urllib3!=1.25.0,!=1.25.1,<1.26,>=1.21.1 in /usr/local/lib/python3.8/dist-packages (from requests>=2.20->openai) (1.24.3)\n",
            "Requirement already satisfied: chardet<4,>=3.0.2 in /usr/local/lib/python3.8/dist-packages (from requests>=2.20->openai) (3.0.4)\n",
            "Building wheels for collected packages: openai\n",
            "  Building wheel for openai (PEP 517) ... \u001b[?25l\u001b[?25hdone\n",
            "  Created wheel for openai: filename=openai-0.25.0-py3-none-any.whl size=55880 sha256=fbaa72b2690a0102886edd49488b6624838b696eba5539b5775ee66900c7b2f6\n",
            "  Stored in directory: /root/.cache/pip/wheels/4b/92/33/6f57c7aae0b16875267999a50570e81f15eecec577ebe05a2e\n",
            "Successfully built openai\n",
            "Installing collected packages: types-pytz, pandas-stubs, openai\n",
            "Successfully installed openai-0.25.0 pandas-stubs-1.5.2.221124 types-pytz-2022.6.0.1\n"
          ]
        }
      ],
      "source": [
        "#https://scikit-learn.org/stable/modules/ensemble.html\n",
        "#https://beta.openai.com/docs/guides/embeddings/use-cases\n",
        "!pip install openai"
      ]
    },
    {
      "cell_type": "code",
      "source": [
        "import pandas as pd\n",
        "import numpy as np\n",
        "import openai\n",
        "from sklearn.metrics import classification_report\n",
        "from openai.embeddings_utils import cosine_similarity, get_embedding\n",
        "from sklearn.metrics import PrecisionRecallDisplay\n",
        "\n",
        "data_train_path = '/content/train_with_embedding.csv'\n",
        "data_test_path = '/content/test_with_embedding.csv'\n",
        "\n",
        "df_train = pd.read_csv(data_train_path)\n",
        "df_test = pd.read_csv(data_test_path)\n",
        "\n",
        "openai.api_key = \"sk-NAME\"\n",
        "\n",
        "df_train['babbage_similarity'] = df_train.babbage_similarity.apply(eval).apply(np.array)\n",
        "df_train['babbage_search'] = df_train.babbage_search.apply(eval).apply(np.array)\n",
        "\n",
        "df_test['babbage_similarity'] = df_test.babbage_similarity.apply(eval).apply(np.array)\n",
        "df_test['babbage_search'] = df_test.babbage_search.apply(eval).apply(np.array)\n",
        "\n",
        "X_train = list(df_train.babbage_similarity.values)\n",
        "X_test = list(df_test.babbage_similarity.values)\n",
        "y_train = df_train.Category\n",
        "y_test = df_test.Category"
      ],
      "metadata": {
        "id": "zvUUVOwfr7Cj"
      },
      "execution_count": 10,
      "outputs": []
    },
    {
      "cell_type": "code",
      "source": [
        "\n",
        "from sklearn.ensemble import AdaBoostClassifier\n",
        "from sklearn.metrics import classification_report, accuracy_score\n",
        "\n",
        "clf = AdaBoostClassifier(n_estimators=100)\n",
        "clf.fit(X_train, y_train)\n",
        "preds = clf.predict(X_test)\n",
        "probas = clf.predict_proba(X_test)\n",
        "\n",
        "report = classification_report(y_test, preds)\n",
        "print(report)"
      ],
      "metadata": {
        "colab": {
          "base_uri": "https://localhost:8080/"
        },
        "id": "eez700T_6G9F",
        "outputId": "a337a11e-3646-4534-de4c-930d2b2f1520"
      },
      "execution_count": 13,
      "outputs": [
        {
          "output_type": "stream",
          "name": "stdout",
          "text": [
            "                           precision    recall  f1-score   support\n",
            "\n",
            "                 Advocate       0.00      0.00      0.00         6\n",
            "                     Arts       0.00      0.00      0.00        11\n",
            "       Automation Testing       0.00      0.00      0.00         8\n",
            "               Blockchain       0.00      0.00      0.00        12\n",
            "         Business Analyst       0.00      0.00      0.00         8\n",
            "           Civil Engineer       0.00      0.00      0.00         7\n",
            "             Data Science       0.00      0.00      0.00        12\n",
            "                 Database       0.00      0.00      0.00        10\n",
            "          DevOps Engineer       0.73      0.94      0.82        17\n",
            "         DotNet Developer       0.00      0.00      0.00         8\n",
            "            ETL Developer       0.00      0.00      0.00        12\n",
            "   Electrical Engineering       0.00      0.00      0.00         9\n",
            "                       HR       0.00      0.00      0.00        13\n",
            "                   Hadoop       0.00      0.00      0.00        13\n",
            "       Health and fitness       0.18      0.22      0.20         9\n",
            "           Java Developer       0.10      1.00      0.19        25\n",
            "      Mechanical Engineer       0.00      0.00      0.00        12\n",
            "Network Security Engineer       0.00      0.00      0.00         8\n",
            "       Operations Manager       0.75      1.00      0.86        12\n",
            "                      PMO       0.00      0.00      0.00         9\n",
            "         Python Developer       0.00      0.00      0.00        14\n",
            "            SAP Developer       0.00      0.00      0.00         7\n",
            "                    Sales       0.00      0.00      0.00        12\n",
            "                  Testing       0.00      0.00      0.00        21\n",
            "            Web Designing       0.00      0.00      0.00        14\n",
            "\n",
            "                 accuracy                           0.19       289\n",
            "                macro avg       0.07      0.13      0.08       289\n",
            "             weighted avg       0.09      0.19      0.11       289\n",
            "\n"
          ]
        },
        {
          "output_type": "stream",
          "name": "stderr",
          "text": [
            "/usr/local/lib/python3.8/dist-packages/sklearn/metrics/_classification.py:1318: UndefinedMetricWarning: Precision and F-score are ill-defined and being set to 0.0 in labels with no predicted samples. Use `zero_division` parameter to control this behavior.\n",
            "  _warn_prf(average, modifier, msg_start, len(result))\n",
            "/usr/local/lib/python3.8/dist-packages/sklearn/metrics/_classification.py:1318: UndefinedMetricWarning: Precision and F-score are ill-defined and being set to 0.0 in labels with no predicted samples. Use `zero_division` parameter to control this behavior.\n",
            "  _warn_prf(average, modifier, msg_start, len(result))\n",
            "/usr/local/lib/python3.8/dist-packages/sklearn/metrics/_classification.py:1318: UndefinedMetricWarning: Precision and F-score are ill-defined and being set to 0.0 in labels with no predicted samples. Use `zero_division` parameter to control this behavior.\n",
            "  _warn_prf(average, modifier, msg_start, len(result))\n"
          ]
        }
      ]
    }
  ]
}