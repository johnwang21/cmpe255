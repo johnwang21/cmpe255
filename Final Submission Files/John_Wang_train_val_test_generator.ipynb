{
  "nbformat": 4,
  "nbformat_minor": 0,
  "metadata": {
    "colab": {
      "provenance": []
    },
    "kernelspec": {
      "name": "python3",
      "display_name": "Python 3"
    },
    "language_info": {
      "name": "python"
    },
    "accelerator": "GPU",
    "gpuClass": "standard"
  },
  "cells": [
    {
      "cell_type": "code",
      "execution_count": 38,
      "metadata": {
        "colab": {
          "base_uri": "https://localhost:8080/"
        },
        "id": "S_UYRtp5oXZj",
        "outputId": "9ae4f7e7-7b5d-4d8d-b5fc-b4f19b1a8f68"
      },
      "outputs": [
        {
          "output_type": "execute_result",
          "data": {
            "text/plain": [
              "array(['Data Science', 'HR', 'Advocate', 'Arts', 'Web Designing',\n",
              "       'Mechanical Engineer', 'Sales', 'Health and fitness',\n",
              "       'Civil Engineer', 'Java Developer', 'Business Analyst',\n",
              "       'SAP Developer', 'Automation Testing', 'Electrical Engineering',\n",
              "       'Operations Manager', 'Python Developer', 'DevOps Engineer',\n",
              "       'Network Security Engineer', 'PMO', 'Database', 'Hadoop',\n",
              "       'ETL Developer', 'DotNet Developer', 'Blockchain', 'Testing'],\n",
              "      dtype=object)"
            ]
          },
          "metadata": {},
          "execution_count": 38
        }
      ],
      "source": [
        "#Data Visualization\n",
        "import pandas as pd\n",
        "\n",
        "#load data\n",
        "resume = pd.read_csv(\"/content/UpdatedResumeDataSet.csv\")\n",
        "\n",
        "#view all of the categories\n",
        "len(resume.iloc[:, 0].unique())\n",
        "#25 categories\n",
        "resume.iloc[:, 0].unique()\n",
        "#note that all of the categories are good, there doesnt need for there to be any\n",
        "#more data marshalling for the categories\n",
        "#this is why I choose this data set"
      ]
    },
    {
      "cell_type": "code",
      "source": [
        "#data clean up\n",
        "#remove special characters with regular expressions\n",
        "#based on: https://stackoverflow.com/questions/43358857/how-to-remove-special-characters-except-space-from-a-file-in-python\n",
        "#based on: https://stackoverflow.com/questions/25292838/applying-regex-to-a-pandas-dataframe\n",
        "import re\n",
        "\n",
        "#removes special chars\n",
        "def clean_chars(clean):\n",
        "    return re.sub(r\"[^a-zA-Z0-9]+\", ' ', clean)\n",
        "\n",
        "# test = \"Details \\r\\nMay 2013 to May 2017 B.\"\n",
        "# final = [re.sub(r\"[^a-zA-Z0-9]+\", ' ', test)]\n",
        "# print(final)\n",
        "#['Details May 2013 to May 2017 B ']\n",
        "\n",
        "#need to strip trailing white spaces\n",
        "resume.Resume = resume.Resume.apply(lambda x: clean_chars(x).strip())\n",
        "resume.Resume"
      ],
      "metadata": {
        "colab": {
          "base_uri": "https://localhost:8080/"
        },
        "id": "mFvLs51oo0Na",
        "outputId": "c029f821-5386-4ebb-9015-7c5bc132b2eb"
      },
      "execution_count": 39,
      "outputs": [
        {
          "output_type": "execute_result",
          "data": {
            "text/plain": [
              "0      Skills Programming Languages Python pandas num...\n",
              "1      Education Details May 2013 to May 2017 B E UIT...\n",
              "2      Areas of Interest Deep Learning Control System...\n",
              "3      Skills R Python SAP HANA Tableau SAP HANA SQL ...\n",
              "4      Education Details MCA YMCAUST Faridabad Haryan...\n",
              "                             ...                        \n",
              "957    Computer Skills Proficient in MS office Word B...\n",
              "958    Willingness to accept the challenges Positive ...\n",
              "959    PERSONAL SKILLS Quick learner Eagerness to lea...\n",
              "960    COMPUTER SKILLS SOFTWARE KNOWLEDGE MS Power Po...\n",
              "961    Skill Set OS Windows XP 7 8 8 1 10 Database MY...\n",
              "Name: Resume, Length: 962, dtype: object"
            ]
          },
          "metadata": {},
          "execution_count": 39
        }
      ]
    },
    {
      "cell_type": "code",
      "source": [
        "#use underscore\n",
        "resume.iloc[:, 0] = resume.iloc[:, 0].str.replace(' ', '_')\n",
        "resume.iloc[:, 0] = resume.iloc[:, 0].str.lower()"
      ],
      "metadata": {
        "id": "Erez46rOpFJ-"
      },
      "execution_count": 40,
      "outputs": []
    },
    {
      "cell_type": "code",
      "source": [
        "resume.iloc[:, 0].unique()"
      ],
      "metadata": {
        "colab": {
          "base_uri": "https://localhost:8080/"
        },
        "id": "eeP3OGpZp0Uy",
        "outputId": "0c4c0d1a-120e-4014-86e9-94599d09ea8a"
      },
      "execution_count": 41,
      "outputs": [
        {
          "output_type": "execute_result",
          "data": {
            "text/plain": [
              "array(['data_science', 'hr', 'advocate', 'arts', 'web_designing',\n",
              "       'mechanical_engineer', 'sales', 'health_and_fitness',\n",
              "       'civil_engineer', 'java_developer', 'business_analyst',\n",
              "       'sap_developer', 'automation_testing', 'electrical_engineering',\n",
              "       'operations_manager', 'python_developer', 'devops_engineer',\n",
              "       'network_security_engineer', 'pmo', 'database', 'hadoop',\n",
              "       'etl_developer', 'dotnet_developer', 'blockchain', 'testing'],\n",
              "      dtype=object)"
            ]
          },
          "metadata": {},
          "execution_count": 41
        }
      ]
    },
    {
      "cell_type": "code",
      "source": [
        "train_test_split = 0.5 #\n",
        "train_val_split = 0.2 #\n",
        "counts = resume.iloc[:,0].value_counts()\n",
        "labels = ['java_developer',  \n",
        "'testing',                       \n",
        "'devops_engineer',             \n",
        "'python_developer',         \n",
        "'web_designing',        \n",
        "'hr',                    \n",
        "'hadoop',                  \n",
        "'blockchain',                \n",
        "'etl_developer',              \n",
        "'operations_manager',          \n",
        "'data_science',                \n",
        "'sales',                        \n",
        "'mechanical_engineer',           \n",
        "'arts',                       \n",
        "'database',                  \n",
        "'electrical_engineering',        \n",
        "'health_and_fitness',             \n",
        "'pmo',                          \n",
        "'business_analyst',             \n",
        "'dotnet_developer',              \n",
        "'automation_testing',           \n",
        "'network_security_engineer',      \n",
        "'sap_developer',                 \n",
        "'civil_engineer',               \n",
        "'advocate']\n"
      ],
      "metadata": {
        "id": "0Fth8TiePLps"
      },
      "execution_count": 42,
      "outputs": []
    },
    {
      "cell_type": "code",
      "source": [
        "resume.head()"
      ],
      "metadata": {
        "colab": {
          "base_uri": "https://localhost:8080/",
          "height": 206
        },
        "id": "xannFLuJiy_W",
        "outputId": "104230e0-92ab-4bff-bbd2-ca62b3c8d131"
      },
      "execution_count": 51,
      "outputs": [
        {
          "output_type": "execute_result",
          "data": {
            "text/plain": [
              "       Category                                             Resume\n",
              "0  data_science  Skills Programming Languages Python pandas num...\n",
              "1  data_science  Education Details May 2013 to May 2017 B E UIT...\n",
              "2  data_science  Areas of Interest Deep Learning Control System...\n",
              "3  data_science  Skills R Python SAP HANA Tableau SAP HANA SQL ...\n",
              "4  data_science  Education Details MCA YMCAUST Faridabad Haryan..."
            ],
            "text/html": [
              "\n",
              "  <div id=\"df-8ce55bf7-25e1-4c7c-b948-bfea3a8c8eac\">\n",
              "    <div class=\"colab-df-container\">\n",
              "      <div>\n",
              "<style scoped>\n",
              "    .dataframe tbody tr th:only-of-type {\n",
              "        vertical-align: middle;\n",
              "    }\n",
              "\n",
              "    .dataframe tbody tr th {\n",
              "        vertical-align: top;\n",
              "    }\n",
              "\n",
              "    .dataframe thead th {\n",
              "        text-align: right;\n",
              "    }\n",
              "</style>\n",
              "<table border=\"1\" class=\"dataframe\">\n",
              "  <thead>\n",
              "    <tr style=\"text-align: right;\">\n",
              "      <th></th>\n",
              "      <th>Category</th>\n",
              "      <th>Resume</th>\n",
              "    </tr>\n",
              "  </thead>\n",
              "  <tbody>\n",
              "    <tr>\n",
              "      <th>0</th>\n",
              "      <td>data_science</td>\n",
              "      <td>Skills Programming Languages Python pandas num...</td>\n",
              "    </tr>\n",
              "    <tr>\n",
              "      <th>1</th>\n",
              "      <td>data_science</td>\n",
              "      <td>Education Details May 2013 to May 2017 B E UIT...</td>\n",
              "    </tr>\n",
              "    <tr>\n",
              "      <th>2</th>\n",
              "      <td>data_science</td>\n",
              "      <td>Areas of Interest Deep Learning Control System...</td>\n",
              "    </tr>\n",
              "    <tr>\n",
              "      <th>3</th>\n",
              "      <td>data_science</td>\n",
              "      <td>Skills R Python SAP HANA Tableau SAP HANA SQL ...</td>\n",
              "    </tr>\n",
              "    <tr>\n",
              "      <th>4</th>\n",
              "      <td>data_science</td>\n",
              "      <td>Education Details MCA YMCAUST Faridabad Haryan...</td>\n",
              "    </tr>\n",
              "  </tbody>\n",
              "</table>\n",
              "</div>\n",
              "      <button class=\"colab-df-convert\" onclick=\"convertToInteractive('df-8ce55bf7-25e1-4c7c-b948-bfea3a8c8eac')\"\n",
              "              title=\"Convert this dataframe to an interactive table.\"\n",
              "              style=\"display:none;\">\n",
              "        \n",
              "  <svg xmlns=\"http://www.w3.org/2000/svg\" height=\"24px\"viewBox=\"0 0 24 24\"\n",
              "       width=\"24px\">\n",
              "    <path d=\"M0 0h24v24H0V0z\" fill=\"none\"/>\n",
              "    <path d=\"M18.56 5.44l.94 2.06.94-2.06 2.06-.94-2.06-.94-.94-2.06-.94 2.06-2.06.94zm-11 1L8.5 8.5l.94-2.06 2.06-.94-2.06-.94L8.5 2.5l-.94 2.06-2.06.94zm10 10l.94 2.06.94-2.06 2.06-.94-2.06-.94-.94-2.06-.94 2.06-2.06.94z\"/><path d=\"M17.41 7.96l-1.37-1.37c-.4-.4-.92-.59-1.43-.59-.52 0-1.04.2-1.43.59L10.3 9.45l-7.72 7.72c-.78.78-.78 2.05 0 2.83L4 21.41c.39.39.9.59 1.41.59.51 0 1.02-.2 1.41-.59l7.78-7.78 2.81-2.81c.8-.78.8-2.07 0-2.86zM5.41 20L4 18.59l7.72-7.72 1.47 1.35L5.41 20z\"/>\n",
              "  </svg>\n",
              "      </button>\n",
              "      \n",
              "  <style>\n",
              "    .colab-df-container {\n",
              "      display:flex;\n",
              "      flex-wrap:wrap;\n",
              "      gap: 12px;\n",
              "    }\n",
              "\n",
              "    .colab-df-convert {\n",
              "      background-color: #E8F0FE;\n",
              "      border: none;\n",
              "      border-radius: 50%;\n",
              "      cursor: pointer;\n",
              "      display: none;\n",
              "      fill: #1967D2;\n",
              "      height: 32px;\n",
              "      padding: 0 0 0 0;\n",
              "      width: 32px;\n",
              "    }\n",
              "\n",
              "    .colab-df-convert:hover {\n",
              "      background-color: #E2EBFA;\n",
              "      box-shadow: 0px 1px 2px rgba(60, 64, 67, 0.3), 0px 1px 3px 1px rgba(60, 64, 67, 0.15);\n",
              "      fill: #174EA6;\n",
              "    }\n",
              "\n",
              "    [theme=dark] .colab-df-convert {\n",
              "      background-color: #3B4455;\n",
              "      fill: #D2E3FC;\n",
              "    }\n",
              "\n",
              "    [theme=dark] .colab-df-convert:hover {\n",
              "      background-color: #434B5C;\n",
              "      box-shadow: 0px 1px 3px 1px rgba(0, 0, 0, 0.15);\n",
              "      filter: drop-shadow(0px 1px 2px rgba(0, 0, 0, 0.3));\n",
              "      fill: #FFFFFF;\n",
              "    }\n",
              "  </style>\n",
              "\n",
              "      <script>\n",
              "        const buttonEl =\n",
              "          document.querySelector('#df-8ce55bf7-25e1-4c7c-b948-bfea3a8c8eac button.colab-df-convert');\n",
              "        buttonEl.style.display =\n",
              "          google.colab.kernel.accessAllowed ? 'block' : 'none';\n",
              "\n",
              "        async function convertToInteractive(key) {\n",
              "          const element = document.querySelector('#df-8ce55bf7-25e1-4c7c-b948-bfea3a8c8eac');\n",
              "          const dataTable =\n",
              "            await google.colab.kernel.invokeFunction('convertToInteractive',\n",
              "                                                     [key], {});\n",
              "          if (!dataTable) return;\n",
              "\n",
              "          const docLinkHtml = 'Like what you see? Visit the ' +\n",
              "            '<a target=\"_blank\" href=https://colab.research.google.com/notebooks/data_table.ipynb>data table notebook</a>'\n",
              "            + ' to learn more about interactive tables.';\n",
              "          element.innerHTML = '';\n",
              "          dataTable['output_type'] = 'display_data';\n",
              "          await google.colab.output.renderOutput(dataTable, element);\n",
              "          const docLink = document.createElement('div');\n",
              "          docLink.innerHTML = docLinkHtml;\n",
              "          element.appendChild(docLink);\n",
              "        }\n",
              "      </script>\n",
              "    </div>\n",
              "  </div>\n",
              "  "
            ]
          },
          "metadata": {},
          "execution_count": 51
        }
      ]
    },
    {
      "cell_type": "code",
      "source": [
        "# import math\n",
        "\n",
        "# df_array = pd.DataFrame()\n",
        "# for i in range(len(counts)):\n",
        "#   for j, k in counts.items():\n",
        "#     # print(j)\n",
        "#     # print(k)\n",
        "#     # java_developer\n",
        "#     # 84\n",
        "#     # testing\n",
        "#     # 70\n",
        "#     counter = 0\n",
        "#     for i in range(len(resume)):\n",
        "#       if counter<(math.floor(k/train_test_split)):\n",
        "#         df_array.append(resume.iloc[i,i])\n",
        "#         counter += 1"
      ],
      "metadata": {
        "id": "Ey-jD5ZZQHSv"
      },
      "execution_count": null,
      "outputs": []
    },
    {
      "cell_type": "code",
      "source": [
        "#using sklearn split train instead\n",
        "\n",
        "#based on: https://scikit-learn.org/stable/modules/generated/sklearn.model_selection.train_test_split.html\n",
        "\n",
        "from sklearn.model_selection import train_test_split\n",
        "X, y = resume['Resume'], resume['Category']\n",
        "X_train, X_test, y_train, y_test = train_test_split(X, y,\n",
        "                                                    stratify=y, \n",
        "                                                    test_size=0.3)\n",
        "resume_train = pd.DataFrame()\n",
        "resume_train['Resume'] = X_train\n",
        "resume_train['Category'] = y_train\n",
        "\n",
        "resume_test = pd.DataFrame()\n",
        "resume_test['Resume'] = X_test\n",
        "resume_test['Category'] = y_test"
      ],
      "metadata": {
        "id": "neGqCtetgeKu"
      },
      "execution_count": 52,
      "outputs": []
    }
  ]
}
